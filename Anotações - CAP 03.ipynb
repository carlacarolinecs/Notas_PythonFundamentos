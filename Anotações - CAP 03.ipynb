{
 "cells": [
  {
   "cell_type": "markdown",
   "id": "3ad2a4a5",
   "metadata": {},
   "source": [
    "## <font color ='DarkMagenta'> Resumão  </font>"
   ]
  },
  {
   "cell_type": "markdown",
   "id": "50ecd259",
   "metadata": {},
   "source": [
    "Comentários em Python são iniciados pelo caractere #, e se estendem até o final da linha física. Um comentário pode aparecer no início da linha, depois de um espaço em branco ou código, mas nunca dentro de uma string literal. O caractere # em uma string literal não passa de um caractere #. Uma vez que os comentários são usados apenas para explicar o código e não são interpretados pelo Python, eles podem ser omitidos ao digitar os exemplos."
   ]
  },
  {
   "cell_type": "code",
   "execution_count": 1,
   "id": "26c9c312",
   "metadata": {},
   "outputs": [],
   "source": [
    "# this is the first comment # Este é o primeiro comentario #Comentario no inicio da frase vai até o final da linha\n",
    "spam = 1  # and this is the second comment # e este é o segundo comentario # Comentario pós codigo\n",
    "          # ... and now a third! # ... e agora um terceiro #comentário após um espaço em branco.\n",
    "text = \"# This is not a comment because it's inside quotes.\" # Jogo da velha dentro da string não é comentario."
   ]
  },
  {
   "cell_type": "markdown",
   "id": "c6d1e07f",
   "metadata": {},
   "source": [
    "No modo interativo, o valor da última expressão exibida é atribuída a variável _. Assim, ao utilizar Python como uma calculadora, fica mais fácil prosseguir com os cálculos, por exemplo:"
   ]
  },
  {
   "cell_type": "code",
   "execution_count": 2,
   "id": "ecca9ab6",
   "metadata": {},
   "outputs": [
    {
     "data": {
      "text/plain": [
       "16.0"
      ]
     },
     "execution_count": 2,
     "metadata": {},
     "output_type": "execute_result"
    }
   ],
   "source": [
    "8*4/2 #Atribui o valor do resultado desta operação a _"
   ]
  },
  {
   "cell_type": "code",
   "execution_count": 3,
   "id": "179d8518",
   "metadata": {},
   "outputs": [],
   "source": [
    "Var= 4"
   ]
  },
  {
   "cell_type": "code",
   "execution_count": 4,
   "id": "13d66b47",
   "metadata": {},
   "outputs": [
    {
     "data": {
      "text/plain": [
       "64.0"
      ]
     },
     "execution_count": 4,
     "metadata": {},
     "output_type": "execute_result"
    }
   ],
   "source": [
    "# Esse _ é como o Ans de uma calculadora, guardando o resultado da ultima expressão\n",
    "_*Var"
   ]
  },
  {
   "cell_type": "code",
   "execution_count": 5,
   "id": "ef122587",
   "metadata": {},
   "outputs": [
    {
     "data": {
      "text/plain": [
       "64.0"
      ]
     },
     "execution_count": 5,
     "metadata": {},
     "output_type": "execute_result"
    }
   ],
   "source": [
    "_"
   ]
  },
  {
   "cell_type": "markdown",
   "id": "4bc2fba3",
   "metadata": {},
   "source": [
    "Essa variável especial deve ser tratada como somente para leitura pelo usuário. Nunca lhe atribua explicitamente um valor — do contrário, estaria criando uma outra variável (homônima) independente, que mascararia a variável especial com seu comportamento mágico.\n",
    "\n",
    "Além de int e float, o Python suporta outros tipos de números, tais como Decimal e Fraction. O Python também possui suporte nativo a números complexos, e usa os sufixos j ou J para indicar a parte imaginária (por exemplo, 3+5j)."
   ]
  },
  {
   "cell_type": "markdown",
   "id": "c805e9a4",
   "metadata": {},
   "source": [
    "#### Strings"
   ]
  },
  {
   "cell_type": "markdown",
   "id": "ab331284",
   "metadata": {},
   "source": [
    "Além de números, Python também pode manipular strings (sequências de caracteres), que podem ser expressas de diversas formas. Elas podem ser delimitadas por aspas simples ('...') ou duplas (\"...\") e teremos o mesmo resultado 2. \\ pode ser usada para escapar aspas:"
   ]
  },
  {
   "cell_type": "code",
   "execution_count": 6,
   "id": "83cc6371",
   "metadata": {},
   "outputs": [
    {
     "data": {
      "text/plain": [
       "'spam eggs'"
      ]
     },
     "execution_count": 6,
     "metadata": {},
     "output_type": "execute_result"
    }
   ],
   "source": [
    " 'spam eggs'  # single quotes # aspas simples"
   ]
  },
  {
   "cell_type": "code",
   "execution_count": 7,
   "id": "4cb7ee89",
   "metadata": {},
   "outputs": [
    {
     "data": {
      "text/plain": [
       "\"doesn't\""
      ]
     },
     "execution_count": 7,
     "metadata": {},
     "output_type": "execute_result"
    }
   ],
   "source": [
    " \"doesn't\"  # ...or use double quotes instead # ...ou use aspas duplas "
   ]
  },
  {
   "cell_type": "code",
   "execution_count": 8,
   "id": "9a688215",
   "metadata": {},
   "outputs": [
    {
     "data": {
      "text/plain": [
       "'\"Yes,\" they said.'"
      ]
     },
     "execution_count": 8,
     "metadata": {},
     "output_type": "execute_result"
    }
   ],
   "source": [
    "'\"Yes,\" they said.'"
   ]
  },
  {
   "cell_type": "markdown",
   "id": "42bc8b01",
   "metadata": {},
   "source": [
    " A função print() produz uma saída mais legível, ao omitir as aspas e ao imprimir caracteres escapados e especiais:"
   ]
  },
  {
   "cell_type": "code",
   "execution_count": 9,
   "id": "f940b501",
   "metadata": {},
   "outputs": [
    {
     "data": {
      "text/plain": [
       "\"doesn't\""
      ]
     },
     "execution_count": 9,
     "metadata": {},
     "output_type": "execute_result"
    }
   ],
   "source": [
    "'doesn\\'t'  # use \\' to escape the single quote...   # use \\ 'para escapar das aspas simples ... # não entendi"
   ]
  },
  {
   "cell_type": "code",
   "execution_count": 10,
   "id": "9928703e",
   "metadata": {},
   "outputs": [
    {
     "name": "stdout",
     "output_type": "stream",
     "text": [
      "doesn't\n"
     ]
    }
   ],
   "source": [
    "print('doesn\\'t')"
   ]
  },
  {
   "cell_type": "code",
   "execution_count": 11,
   "id": "676f195e",
   "metadata": {},
   "outputs": [
    {
     "data": {
      "text/plain": [
       "'\"Yes,\" they said.'"
      ]
     },
     "execution_count": 11,
     "metadata": {},
     "output_type": "execute_result"
    }
   ],
   "source": [
    "\"\\\"Yes,\\\" they said.\""
   ]
  },
  {
   "cell_type": "code",
   "execution_count": 12,
   "id": "03db617c",
   "metadata": {},
   "outputs": [
    {
     "name": "stdout",
     "output_type": "stream",
     "text": [
      "\"Yes,\" they said.\n"
     ]
    }
   ],
   "source": [
    "print(\"\\\"Yes,\\\" they said.\")"
   ]
  },
  {
   "cell_type": "code",
   "execution_count": 13,
   "id": "58922b2a",
   "metadata": {},
   "outputs": [
    {
     "data": {
      "text/plain": [
       "'\"Isn\\'t,\" they said.'"
      ]
     },
     "execution_count": 13,
     "metadata": {},
     "output_type": "execute_result"
    }
   ],
   "source": [
    "'\"Isn\\'t,\" they said.'"
   ]
  },
  {
   "cell_type": "code",
   "execution_count": 14,
   "id": "48ff4933",
   "metadata": {},
   "outputs": [
    {
     "name": "stdout",
     "output_type": "stream",
     "text": [
      "\"Isn't,\" they said.\n"
     ]
    }
   ],
   "source": [
    "print('\"Isn\\'t,\" they said.')"
   ]
  },
  {
   "cell_type": "code",
   "execution_count": 18,
   "id": "d7128d6a",
   "metadata": {},
   "outputs": [
    {
     "data": {
      "text/plain": [
       "'First line.\\nSecond line.'"
      ]
     },
     "execution_count": 18,
     "metadata": {},
     "output_type": "execute_result"
    }
   ],
   "source": [
    "s = 'First line.\\nSecond line.'  # \\n means newline # \\n significa nova linha\n",
    "s  # without print(), \\n is included in the output # sem print (), \\ n é incluído na saída"
   ]
  },
  {
   "cell_type": "code",
   "execution_count": 19,
   "id": "5a1af0de",
   "metadata": {},
   "outputs": [
    {
     "name": "stdout",
     "output_type": "stream",
     "text": [
      "First line.\n",
      "Second line.\n"
     ]
    }
   ],
   "source": [
    "print(s)  # with print(), \\n produces a new line # com print (), \\ n produz uma nova linha"
   ]
  },
  {
   "cell_type": "markdown",
   "id": "5c584d3f",
   "metadata": {},
   "source": [
    "Se não quiseres que os caracteres sejam precedidos por \\ para serem interpretados como caracteres especiais, poderás usar strings raw (N.d.T: “crua” ou sem processamento de caracteres de escape) adicionando um r antes da primeira aspa:"
   ]
  },
  {
   "cell_type": "code",
   "execution_count": 20,
   "id": "949392e6",
   "metadata": {},
   "outputs": [
    {
     "name": "stdout",
     "output_type": "stream",
     "text": [
      "C:\\some\n",
      "ame\n"
     ]
    }
   ],
   "source": [
    "print('C:\\some\\name')  # here \\n means newline!"
   ]
  },
  {
   "cell_type": "code",
   "execution_count": 21,
   "id": "a3032af9",
   "metadata": {},
   "outputs": [
    {
     "name": "stdout",
     "output_type": "stream",
     "text": [
      "C:\\some\\name\n"
     ]
    }
   ],
   "source": [
    "print(r'C:\\some\\name')  # note the r before the quote"
   ]
  },
  {
   "cell_type": "markdown",
   "id": "e41f8723",
   "metadata": {},
   "source": [
    "As strings literais podem abranger várias linhas. Uma maneira é usar as aspas triplas: \"\"\"...\"\"\" ou '''...'''. O fim das linhas é incluído automaticamente na string, mas é possível evitar isso adicionando uma \\ no final. O seguinte exemplo:"
   ]
  },
  {
   "cell_type": "code",
   "execution_count": 22,
   "id": "8ea2a738",
   "metadata": {},
   "outputs": [
    {
     "name": "stdout",
     "output_type": "stream",
     "text": [
      "Usage: thingy [OPTIONS]\n",
      "     -h                        Display this usage message\n",
      "     -H hostname               Hostname to connect to\n",
      "\n"
     ]
    }
   ],
   "source": [
    "print(\"\"\"\\\n",
    "Usage: thingy [OPTIONS]\n",
    "     -h                        Display this usage message\n",
    "     -H hostname               Hostname to connect to\n",
    "\"\"\")"
   ]
  },
  {
   "cell_type": "markdown",
   "id": "911f241f",
   "metadata": {},
   "source": [
    "Strings podem ser concatenadas (coladas) com o operador +, e repetidas com *:"
   ]
  },
  {
   "cell_type": "code",
   "execution_count": 23,
   "id": "9e8014bd",
   "metadata": {},
   "outputs": [
    {
     "data": {
      "text/plain": [
       "'unununium'"
      ]
     },
     "execution_count": 23,
     "metadata": {},
     "output_type": "execute_result"
    }
   ],
   "source": [
    "# 3 times 'un', followed by 'ium'\n",
    "3 * 'un' + 'ium'"
   ]
  },
  {
   "cell_type": "markdown",
   "id": "3d986641",
   "metadata": {},
   "source": [
    "Duas ou mais strings literais (ou seja, entre aspas) ao lado da outra são automaticamente concatenados."
   ]
  },
  {
   "cell_type": "code",
   "execution_count": 24,
   "id": "d16808a4",
   "metadata": {},
   "outputs": [
    {
     "data": {
      "text/plain": [
       "'Python'"
      ]
     },
     "execution_count": 24,
     "metadata": {},
     "output_type": "execute_result"
    }
   ],
   "source": [
    "'Py' 'thon'"
   ]
  },
  {
   "cell_type": "markdown",
   "id": "1c92e753",
   "metadata": {},
   "source": [
    "As strings podem ser indexadas (subscritas), com o primeiro caractere como índice 0. Não existe um tipo específico para caracteres; um caractere é simplesmente uma string cujo tamanho é 1. Índices também podem ser números negativos para iniciar a contagem pela direita. Note que dado que -0 é o mesmo que 0, índices negativos começam em -1."
   ]
  },
  {
   "cell_type": "code",
   "execution_count": 28,
   "id": "88768150",
   "metadata": {},
   "outputs": [],
   "source": [
    "word = 'Python'"
   ]
  },
  {
   "cell_type": "code",
   "execution_count": 29,
   "id": "a442926e",
   "metadata": {},
   "outputs": [
    {
     "data": {
      "text/plain": [
       "'P'"
      ]
     },
     "execution_count": 29,
     "metadata": {},
     "output_type": "execute_result"
    }
   ],
   "source": [
    "word[0]"
   ]
  },
  {
   "cell_type": "code",
   "execution_count": 30,
   "id": "2fae7f07",
   "metadata": {},
   "outputs": [
    {
     "data": {
      "text/plain": [
       "'n'"
      ]
     },
     "execution_count": 30,
     "metadata": {},
     "output_type": "execute_result"
    }
   ],
   "source": [
    "word[5]"
   ]
  },
  {
   "cell_type": "code",
   "execution_count": 31,
   "id": "0342896c",
   "metadata": {},
   "outputs": [
    {
     "data": {
      "text/plain": [
       "'n'"
      ]
     },
     "execution_count": 31,
     "metadata": {},
     "output_type": "execute_result"
    }
   ],
   "source": [
    "word[-1]"
   ]
  },
  {
   "cell_type": "code",
   "execution_count": 32,
   "id": "28d267ad",
   "metadata": {},
   "outputs": [
    {
     "data": {
      "text/plain": [
       "'o'"
      ]
     },
     "execution_count": 32,
     "metadata": {},
     "output_type": "execute_result"
    }
   ],
   "source": [
    "word[-2]"
   ]
  },
  {
   "cell_type": "code",
   "execution_count": 33,
   "id": "ce44ec4d",
   "metadata": {},
   "outputs": [
    {
     "data": {
      "text/plain": [
       "'P'"
      ]
     },
     "execution_count": 33,
     "metadata": {},
     "output_type": "execute_result"
    }
   ],
   "source": [
    "word[-6]"
   ]
  },
  {
   "cell_type": "markdown",
   "id": "ba39d046",
   "metadata": {},
   "source": [
    "Além da indexação, o fatiamento também é permitido. Embora a indexação seja usada para obter caracteres individuais, fatiar permite que você obtenha substring:"
   ]
  },
  {
   "cell_type": "code",
   "execution_count": 34,
   "id": "1ac601b7",
   "metadata": {},
   "outputs": [
    {
     "data": {
      "text/plain": [
       "'Py'"
      ]
     },
     "execution_count": 34,
     "metadata": {},
     "output_type": "execute_result"
    }
   ],
   "source": [
    "word[0:2]  # caracteres da posição 0 (included) até a 2 (excluded)"
   ]
  },
  {
   "cell_type": "code",
   "execution_count": 35,
   "id": "7d3d8769",
   "metadata": {},
   "outputs": [
    {
     "data": {
      "text/plain": [
       "'tho'"
      ]
     },
     "execution_count": 35,
     "metadata": {},
     "output_type": "execute_result"
    }
   ],
   "source": [
    "word[2:5]  # caracteres da posição 0 (included) até a 5 (excluded)"
   ]
  },
  {
   "cell_type": "code",
   "execution_count": 37,
   "id": "23c35ce6",
   "metadata": {},
   "outputs": [
    {
     "data": {
      "text/plain": [
       "'Py'"
      ]
     },
     "execution_count": 37,
     "metadata": {},
     "output_type": "execute_result"
    }
   ],
   "source": [
    "word[:2]   # caracteres do inicio até a posição 2 (excluded)"
   ]
  },
  {
   "cell_type": "code",
   "execution_count": 38,
   "id": "eede77be",
   "metadata": {},
   "outputs": [
    {
     "data": {
      "text/plain": [
       "'on'"
      ]
     },
     "execution_count": 38,
     "metadata": {},
     "output_type": "execute_result"
    }
   ],
   "source": [
    "word[4:]   # caracteres da posição 4 (included) até o final"
   ]
  },
  {
   "cell_type": "code",
   "execution_count": null,
   "id": "b0fb5aee",
   "metadata": {},
   "outputs": [],
   "source": [
    "word[-2:]  # caracteres do penúltimo (incluído) até o fim"
   ]
  },
  {
   "cell_type": "markdown",
   "id": "daaf9756",
   "metadata": {},
   "source": [
    "Observe como o início sempre está incluído, e o fim sempre é excluído. Isso garante que s[:i] + s[i:] seja sempre igual a s:"
   ]
  },
  {
   "cell_type": "code",
   "execution_count": 39,
   "id": "4d17dc29",
   "metadata": {},
   "outputs": [
    {
     "data": {
      "text/plain": [
       "'Python'"
      ]
     },
     "execution_count": 39,
     "metadata": {},
     "output_type": "execute_result"
    }
   ],
   "source": [
    "word[:2] + word[2:]"
   ]
  },
  {
   "cell_type": "code",
   "execution_count": 40,
   "id": "989c1f05",
   "metadata": {},
   "outputs": [
    {
     "data": {
      "text/plain": [
       "'Python'"
      ]
     },
     "execution_count": 40,
     "metadata": {},
     "output_type": "execute_result"
    }
   ],
   "source": [
    "word[:4] + word[4:]"
   ]
  },
  {
   "cell_type": "markdown",
   "id": "3442b454",
   "metadata": {},
   "source": [
    "Para índices positivos, o comprimento da fatia é a diferença entre os índices, se ambos estão dentro dos limites da string. Por exemplo, o comprimento de word[1:3] é 2."
   ]
  },
  {
   "cell_type": "markdown",
   "id": "9428b13c",
   "metadata": {},
   "source": [
    "A tentativa de usar um índice que seja muito grande resultará em um erro:word[42]. No entanto, os índices de fatiamento fora do alcance são tratados graciosamente (N.d.T: o termo original “gracefully” indica robustez no tratamento de erros) quando usados para fatiamento. Um índice maior que o comprimento é trocado pelo comprimento, um limite superior menor que o limite inferior produz uma string vazia:"
   ]
  },
  {
   "cell_type": "code",
   "execution_count": 41,
   "id": "744b33c3",
   "metadata": {},
   "outputs": [
    {
     "data": {
      "text/plain": [
       "'on'"
      ]
     },
     "execution_count": 41,
     "metadata": {},
     "output_type": "execute_result"
    }
   ],
   "source": [
    "word[4:42]"
   ]
  },
  {
   "cell_type": "code",
   "execution_count": 42,
   "id": "09028ec8",
   "metadata": {},
   "outputs": [
    {
     "data": {
      "text/plain": [
       "''"
      ]
     },
     "execution_count": 42,
     "metadata": {},
     "output_type": "execute_result"
    }
   ],
   "source": [
    "word[42:]"
   ]
  },
  {
   "cell_type": "markdown",
   "id": "667e1fe2",
   "metadata": {},
   "source": [
    "As strings do Python não podem ser alteradas — uma string é imutável. Portanto, atribuir a uma posição indexada na sequência resulta em um erro. Se você precisar de uma string diferente, deverá criar uma nova:"
   ]
  },
  {
   "cell_type": "code",
   "execution_count": 43,
   "id": "0140e257",
   "metadata": {},
   "outputs": [
    {
     "data": {
      "text/plain": [
       "'Jython'"
      ]
     },
     "execution_count": 43,
     "metadata": {},
     "output_type": "execute_result"
    }
   ],
   "source": [
    "'J' + word[1:]"
   ]
  },
  {
   "cell_type": "code",
   "execution_count": 44,
   "id": "12b095ca",
   "metadata": {},
   "outputs": [
    {
     "data": {
      "text/plain": [
       "'Pypy'"
      ]
     },
     "execution_count": 44,
     "metadata": {},
     "output_type": "execute_result"
    }
   ],
   "source": [
    "word[:2] + 'py'"
   ]
  },
  {
   "cell_type": "markdown",
   "id": "1beb0577",
   "metadata": {},
   "source": [
    "#### Listas"
   ]
  },
  {
   "cell_type": "markdown",
   "id": "00682077",
   "metadata": {},
   "source": [
    "Atribuição a fatias também é possível, e isso pode até alterar o tamanho da lista ou remover todos os itens dela:"
   ]
  },
  {
   "cell_type": "code",
   "execution_count": 45,
   "id": "510910d5",
   "metadata": {},
   "outputs": [
    {
     "data": {
      "text/plain": [
       "['a', 'b', 'c', 'd', 'e', 'f', 'g']"
      ]
     },
     "execution_count": 45,
     "metadata": {},
     "output_type": "execute_result"
    }
   ],
   "source": [
    "letters = ['a', 'b', 'c', 'd', 'e', 'f', 'g']\n",
    "letters"
   ]
  },
  {
   "cell_type": "code",
   "execution_count": 46,
   "id": "9806355b",
   "metadata": {},
   "outputs": [
    {
     "data": {
      "text/plain": [
       "['a', 'b', 'C', 'D', 'E', 'f', 'g']"
      ]
     },
     "execution_count": 46,
     "metadata": {},
     "output_type": "execute_result"
    }
   ],
   "source": [
    "# replace some values\n",
    "letters[2:5] = ['C', 'D', 'E']\n",
    "letters"
   ]
  },
  {
   "cell_type": "code",
   "execution_count": 47,
   "id": "da7b7e75",
   "metadata": {},
   "outputs": [
    {
     "data": {
      "text/plain": [
       "['a', 'b', 'f', 'g']"
      ]
     },
     "execution_count": 47,
     "metadata": {},
     "output_type": "execute_result"
    }
   ],
   "source": [
    "# now remove them\n",
    "letters[2:5] = []\n",
    "letters"
   ]
  },
  {
   "cell_type": "code",
   "execution_count": 48,
   "id": "1b258847",
   "metadata": {},
   "outputs": [
    {
     "data": {
      "text/plain": [
       "[]"
      ]
     },
     "execution_count": 48,
     "metadata": {},
     "output_type": "execute_result"
    }
   ],
   "source": [
    "# clear the list by replacing all the elements with an empty list\n",
    "letters[:] = []\n",
    "letters"
   ]
  },
  {
   "cell_type": "markdown",
   "id": "48fdce1d",
   "metadata": {},
   "source": [
    "# <font color ='DarkGreen'> Capitulo 3 </font>"
   ]
  },
  {
   "cell_type": "markdown",
   "id": "b99d5270",
   "metadata": {},
   "source": [
    "## <font color ='SeaGreen'> 3.1 Condicionais - If/else/elif  </font>"
   ]
  },
  {
   "cell_type": "markdown",
   "id": "6213f0b3",
   "metadata": {},
   "source": [
    "O condicional If nos permite dizer ao computador para executar ações com base em um determinado conjunto de resultados. "
   ]
  },
  {
   "cell_type": "markdown",
   "id": "01bedc79",
   "metadata": {},
   "source": [
    "                                                   If significa se"
   ]
  },
  {
   "cell_type": "markdown",
   "id": "14539adf",
   "metadata": {},
   "source": [
    "Verbalmente podemos imaginar que estamos dizendo ao computador: \"Ei, caso isso aconteça, execute esta ação\"."
   ]
  },
  {
   "cell_type": "markdown",
   "id": "040cad41",
   "metadata": {},
   "source": [
    "A palavra reservada <font color ='Orange'> If </font> não pode ser utilizada como nome de variável, pois o interpretador utiliza esta palavra reservada, para reconhecer o comando que ele deve executar. Após a palavra If vem a condição que não precisa estar entre parênteses e depois os dois pontos. Estes 2 pontos fazem parte da sintaxe assim como o recuo(a identação) que vem antes da ação que será executada caso a condição seja verdadeira."
   ]
  },
  {
   "cell_type": "markdown",
   "id": "ed40a35e",
   "metadata": {},
   "source": [
    "Quando utiliza-se apenas o If testa-se apenas a condição verdadeira, quando esta é falsa não executa e passa para a próxima linha de codigo."
   ]
  },
  {
   "cell_type": "code",
   "execution_count": null,
   "id": "32ab0dff",
   "metadata": {},
   "outputs": [],
   "source": [
    "# Condicional If # Se a condição 5>2 for verdadeira execute a operação print (\"Python funciona!\").\n",
    "if 5 > 2:\n",
    "    print(\"Python funciona!\")"
   ]
  },
  {
   "cell_type": "markdown",
   "id": "e074be1c",
   "metadata": {},
   "source": [
    "O else quer dizer se não. Ele serve para controlar o que acontece quando a condição é falsa."
   ]
  },
  {
   "cell_type": "code",
   "execution_count": null,
   "id": "40c6be50",
   "metadata": {},
   "outputs": [],
   "source": [
    "# Statement If...Else \n",
    "# Se a condição 5 < 2 for verdadeira execute esta ação #1, se não execute esta ação #2.\n",
    "if 5 < 2:\n",
    "    print(\"Python funciona!\") #1\n",
    "else:\n",
    "    print(\"Algo está errado!\") #2"
   ]
  },
  {
   "cell_type": "markdown",
   "id": "0ac0c083",
   "metadata": {},
   "source": [
    "A condição após o If deve retornar um valor boleano (verdadeiro ou falso), podendo utilizar os operadores relacionais para testar se a condição é verdadeira ou falsa."
   ]
  },
  {
   "cell_type": "code",
   "execution_count": 1,
   "id": "5ef45d78",
   "metadata": {},
   "outputs": [
    {
     "data": {
      "text/plain": [
       "True"
      ]
     },
     "execution_count": 1,
     "metadata": {},
     "output_type": "execute_result"
    }
   ],
   "source": [
    "6 > 3"
   ]
  },
  {
   "cell_type": "code",
   "execution_count": 2,
   "id": "7be4f99c",
   "metadata": {},
   "outputs": [
    {
     "data": {
      "text/plain": [
       "False"
      ]
     },
     "execution_count": 2,
     "metadata": {},
     "output_type": "execute_result"
    }
   ],
   "source": [
    "3 > 7"
   ]
  },
  {
   "cell_type": "code",
   "execution_count": 3,
   "id": "3a43abd0",
   "metadata": {},
   "outputs": [
    {
     "data": {
      "text/plain": [
       "True"
      ]
     },
     "execution_count": 3,
     "metadata": {},
     "output_type": "execute_result"
    }
   ],
   "source": [
    "4 < 8"
   ]
  },
  {
   "cell_type": "code",
   "execution_count": 4,
   "id": "0e89891b",
   "metadata": {},
   "outputs": [
    {
     "data": {
      "text/plain": [
       "True"
      ]
     },
     "execution_count": 4,
     "metadata": {},
     "output_type": "execute_result"
    }
   ],
   "source": [
    "4 >= 4"
   ]
  },
  {
   "cell_type": "code",
   "execution_count": 5,
   "id": "5530e1b5",
   "metadata": {},
   "outputs": [
    {
     "name": "stdout",
     "output_type": "stream",
     "text": [
      "Testando Python!\n"
     ]
    }
   ],
   "source": [
    "#Operador de igualdade ==\n",
    "if 5 == 5:     # Não pode ser apenas =, pois não pode ser atribuição. Esta condição tem que ter um resultado boleano.\n",
    "    print(\"Testando Python!\")"
   ]
  },
  {
   "cell_type": "code",
   "execution_count": 6,
   "id": "c5502b18",
   "metadata": {},
   "outputs": [
    {
     "name": "stdout",
     "output_type": "stream",
     "text": [
      "Parece que Python funciona!\n"
     ]
    }
   ],
   "source": [
    "# Colocando diretamente a palavra True executa de imediato a operação(ação). \n",
    "# Essa expressão é apenas para provar que a condição tem que ser/ter o resultado booleano.\n",
    "if True:\n",
    "    print('Parece que Python funciona!')"
   ]
  },
  {
   "cell_type": "code",
   "execution_count": 7,
   "id": "fea14286",
   "metadata": {},
   "outputs": [
    {
     "ename": "SyntaxError",
     "evalue": "invalid syntax (Temp/ipykernel_6044/760903919.py, line 2)",
     "output_type": "error",
     "traceback": [
      "\u001b[1;36m  File \u001b[1;32m\"C:\\Users\\carla\\AppData\\Local\\Temp/ipykernel_6044/760903919.py\"\u001b[1;36m, line \u001b[1;32m2\u001b[0m\n\u001b[1;33m    if 4 > 3            # Faltou os 2 pontos\u001b[0m\n\u001b[1;37m                        ^\u001b[0m\n\u001b[1;31mSyntaxError\u001b[0m\u001b[1;31m:\u001b[0m invalid syntax\n"
     ]
    }
   ],
   "source": [
    "# Atenção com a sintaxe\n",
    "if 4 > 3            # Faltou os 2 pontos\n",
    "    print(\"Tudo funciona!\")"
   ]
  },
  {
   "cell_type": "markdown",
   "id": "b13785a4",
   "metadata": {},
   "source": [
    "Em tipográfia identação é o recuo de um texto em relação a sua margem. Na ciência da computação é um termo aplicado ao codigo fonte de um programa para ressaltar ou definir a estrutura de um algoritmo. No Python utiliza-se 1 tab ou 4 spaces(seja consistente use ou 1 ou outro, não misture).\n",
    "Na maioria das linguagens a identação é empregada com o objetivo de ressaltar a estrutura do algoritmo, aumentando a legitimidade do codigo, ou seja, nem toda a linguagem de programação exige a identação. Contudo, em Python utiliza-se a mudança de identação para definir a hierarquia entre blocos de códigos. "
   ]
  },
  {
   "cell_type": "markdown",
   "id": "e49f2e01",
   "metadata": {},
   "source": [
    "                                           A identação faz parte da sintaxe em python."
   ]
  },
  {
   "cell_type": "markdown",
   "id": "9537d0e1",
   "metadata": {},
   "source": [
    "Em uma condicional if ela serve para que o interpretador saiba que ele deve executar este comando somente dentro do bloco if."
   ]
  },
  {
   "cell_type": "code",
   "execution_count": 8,
   "id": "9f2709aa",
   "metadata": {},
   "outputs": [
    {
     "ename": "IndentationError",
     "evalue": "expected an indented block (Temp/ipykernel_6044/3113919911.py, line 3)",
     "output_type": "error",
     "traceback": [
      "\u001b[1;36m  File \u001b[1;32m\"C:\\Users\\carla\\AppData\\Local\\Temp/ipykernel_6044/3113919911.py\"\u001b[1;36m, line \u001b[1;32m3\u001b[0m\n\u001b[1;33m    print(\"Tudo funciona!\")     #Faltou o recuo. Errou por falta da identação.\u001b[0m\n\u001b[1;37m    ^\u001b[0m\n\u001b[1;31mIndentationError\u001b[0m\u001b[1;31m:\u001b[0m expected an indented block\n"
     ]
    }
   ],
   "source": [
    "# Atenção com a sintaxe\n",
    "if 4 > 3:\n",
    "print(\"Tudo funciona!\")     #Faltou o recuo. Errou por falta da identação."
   ]
  },
  {
   "cell_type": "markdown",
   "id": "8db1ead7",
   "metadata": {},
   "source": [
    "### Condicionais Aninhados"
   ]
  },
  {
   "cell_type": "code",
   "execution_count": 9,
   "id": "017b7782",
   "metadata": {},
   "outputs": [
    {
     "name": "stdout",
     "output_type": "stream",
     "text": [
      "Você pode dirigir!\n"
     ]
    }
   ],
   "source": [
    "# Utilizando variável\n",
    "idade = 18\n",
    "if idade > 17:\n",
    "    print(\"Você pode dirigir!\")"
   ]
  },
  {
   "cell_type": "markdown",
   "id": "335666cd",
   "metadata": {},
   "source": [
    " Em algumas situações você pode querer testar uma condição, somente se uma outra condição tiver sido verdadeira. Neste caso pode-se utilizar um if aninhado. Uma instrução if dentro de outra instrução if, que só será processada se a primeira instrução for verdadeira. "
   ]
  },
  {
   "cell_type": "code",
   "execution_count": 10,
   "id": "a19e1314",
   "metadata": {},
   "outputs": [
    {
     "name": "stdout",
     "output_type": "stream",
     "text": [
      "Ok Bob, você está autorizado a entrar!\n"
     ]
    }
   ],
   "source": [
    "Nome = \"Bob\"      #Criou uma variavel\n",
    "if idade > 13:        # Primeira checagem: Quer saber se a idade é maior que 13, para depois checar se o nome é igual a Bob.\n",
    "    if Nome == \"Bob\":\n",
    "        print(\"Ok Bob, você está autorizado a entrar!\")\n",
    "    else:  #Se não for Bob, executa esta ação\n",
    "        print(\"Desculpe, mas você não pode entrar!\")"
   ]
  },
  {
   "cell_type": "markdown",
   "id": "93886c14",
   "metadata": {},
   "source": [
    "Contudo, não seria necessário fazer um if aninhado, pois este pode ser substituido por um operador lógico."
   ]
  },
  {
   "cell_type": "code",
   "execution_count": 11,
   "id": "a37e2e81",
   "metadata": {},
   "outputs": [
    {
     "name": "stdout",
     "output_type": "stream",
     "text": [
      "Ok Bob, você está autorizado a entrar!\n"
     ]
    }
   ],
   "source": [
    "#Neste as duas condições tem que ser verdadeira, para executar a ação.\n",
    "idade = 13\n",
    "Nome = \"Bob\"\n",
    "if idade >= 13 and Nome == \"Bob\":\n",
    "    print(\"Ok Bob, você está autorizado a entrar!\")"
   ]
  },
  {
   "cell_type": "code",
   "execution_count": 12,
   "id": "35dff8ab",
   "metadata": {},
   "outputs": [
    {
     "name": "stdout",
     "output_type": "stream",
     "text": [
      "Ok Bob, você está autorizado a entrar!\n"
     ]
    }
   ],
   "source": [
    "# Neste caso basta que uma das condições seja verdadeira para executar a ação.\n",
    "idade = 12\n",
    "Nome = \"Bob\"\n",
    "if (idade >= 13) or (Nome == \"Bob\"):\n",
    "    print(\"Ok Bob, você está autorizado a entrar!\")"
   ]
  },
  {
   "cell_type": "markdown",
   "id": "5b7b89c8",
   "metadata": {},
   "source": [
    "### Elif"
   ]
  },
  {
   "cell_type": "markdown",
   "id": "f0951dce",
   "metadata": {},
   "source": [
    "O <font color ='Orange'> Elif </font> substitui a necessidade de criar várias estruturas de if...else aninhados."
   ]
  },
  {
   "cell_type": "code",
   "execution_count": 13,
   "id": "8beed0b9",
   "metadata": {},
   "outputs": [
    {
     "name": "stdout",
     "output_type": "stream",
     "text": [
      "Hoje vai chover!\n"
     ]
    }
   ],
   "source": [
    "dia = \"Terça\"\n",
    "if dia == \"Segunda\":\n",
    "    print(\"Hoje fará sol!\")\n",
    "else:\n",
    "    print(\"Hoje vai chover!\")"
   ]
  },
  {
   "cell_type": "code",
   "execution_count": 14,
   "id": "41731450",
   "metadata": {},
   "outputs": [
    {
     "name": "stdout",
     "output_type": "stream",
     "text": [
      "Hoje vai chover!\n"
     ]
    }
   ],
   "source": [
    "#Se a condição1 for true execute a ação1, se for falsa, verifique se a condição2 é true se for execute a ação2, se não execute a ação3.\n",
    "if dia == \"Segunda\":\n",
    "    print(\"Hoje fará sol!\")\n",
    "elif dia == \"Terça\":\n",
    "    print(\"Hoje vai chover!\")\n",
    "else:\n",
    "    print(\"Sem previsão do tempo para o dia selecionado\")"
   ]
  },
  {
   "cell_type": "code",
   "execution_count": 15,
   "id": "dbe340b6",
   "metadata": {},
   "outputs": [
    {
     "name": "stdout",
     "output_type": "stream",
     "text": [
      "Faxina\n"
     ]
    }
   ],
   "source": [
    "if dia == \"Segunda\":\n",
    "    print(\"Curso do trabalho\")\n",
    "elif dia == \"Terça\":\n",
    "    print(\"Faxina\")\n",
    "elif dia == \"Quarta\":\n",
    "    print(\"Estudar\")\n",
    "elif dia == \"Quinta\":\n",
    "    print(\"Prova\")\n",
    "elif dia == \"Sexta\":\n",
    "    print(\"Trabalhar\")\n",
    "elif dia == \"Sabado\":\n",
    "    print(\"Compras\")\n",
    "else:\n",
    "    print(\"Igreja\")"
   ]
  },
  {
   "cell_type": "markdown",
   "id": "ba0632e8",
   "metadata": {},
   "source": [
    "### Operadores Lógicos"
   ]
  },
  {
   "cell_type": "code",
   "execution_count": 16,
   "id": "c43950d2",
   "metadata": {},
   "outputs": [
    {
     "name": "stdout",
     "output_type": "stream",
     "text": [
      "Você pode dirigir!\n"
     ]
    }
   ],
   "source": [
    "idade = 18\n",
    "nome = \"Bob\"\n",
    "if idade > 17:\n",
    "    print(\"Você pode dirigir!\")"
   ]
  },
  {
   "cell_type": "code",
   "execution_count": 17,
   "id": "846ebc5f",
   "metadata": {},
   "outputs": [
    {
     "name": "stdout",
     "output_type": "stream",
     "text": [
      "Autorizado!\n"
     ]
    }
   ],
   "source": [
    "#Tbm é possivel utilizar operadores lógicos, colocando-o entre duas condições\n",
    "# O operador and chega que as duas condições são verdadeiras.\n",
    "idade = 18\n",
    "if idade > 17 and nome == \"Bob\":\n",
    "    print(\"Autorizado!\")"
   ]
  },
  {
   "cell_type": "markdown",
   "id": "52c80076",
   "metadata": {},
   "source": [
    "Pode-se ainda fazer a leitura de valores a partir do prompt de comando. Solicitando que o usuario digite algum valor, através da função imput(), para então fazer a checagem."
   ]
  },
  {
   "cell_type": "code",
   "execution_count": 19,
   "id": "620f0196",
   "metadata": {},
   "outputs": [
    {
     "name": "stdout",
     "output_type": "stream",
     "text": [
      "Digite o nome da disciplina: História\n",
      "Digite a nota final (entre 0 e 100): 100\n",
      "Lamento, acho que você precisa estudar mais!\n"
     ]
    }
   ],
   "source": [
    "# Usando mais de uma condição na cláusula if \n",
    "# Chama a função imput e coloca uma mensagem para o usuario, este irá vai digitar alguma coisa que será gravada na variável.\n",
    "disciplina = input('Digite o nome da disciplina: ') \n",
    "nota_final = input('Digite a nota final (entre 0 e 100): ')\n",
    "\n",
    "if disciplina == 'Geografia' and nota_final >= '70':    # A numeração esta entre '', porque quando o usuário digitar ela vai se transformar em uma string. \n",
    "    print('Você foi aprovado!')\n",
    "else:\n",
    "    print('Lamento, acho que você precisa estudar mais!')\n",
    "    \n",
    "# Se não for geografia é necessário estudar mais."
   ]
  },
  {
   "cell_type": "code",
   "execution_count": 3,
   "id": "5d9db747",
   "metadata": {},
   "outputs": [
    {
     "name": "stdout",
     "output_type": "stream",
     "text": [
      "Digite o nome da disciplina: Geografia\n",
      "Digite a nota final (entre 0 e 100): 70\n",
      "Digite o semestre (1 a 4): 3\n",
      "Você foi aprovado em Geografia com média final '70'!\n"
     ]
    }
   ],
   "source": [
    "# Usando mais de uma condição na cláusula if e introduzindo Placeholders\n",
    "\n",
    "disciplina = input('Digite o nome da disciplina: ')\n",
    "nota_final = input('Digite a nota final (entre 0 e 100): ') \n",
    "semestre = input('Digite o semestre (1 a 4): ')                              # O python coleta a resposta como string.\n",
    "\n",
    "if disciplina == 'Geografia' and nota_final >= '50' and int(semestre) != 1:  #3 condições # Converteu o semestre para int.\n",
    "    print('Você foi aprovado em %s com média final %r!' %(disciplina, nota_final)) #Essa %() é chamado placeholders # %(s,r)\n",
    "else:\n",
    "    print('Lamento, acho que você precisa estudar mais!')"
   ]
  },
  {
   "cell_type": "markdown",
   "id": "7d5e1177",
   "metadata": {},
   "source": [
    "Os placeholders, são o %s e o %r, isso diz ao python que ele irá imprimir essa mensagem na tela, quando você encontrar o %s você vai pegar o primeiro valor da variável que está passado depois do %(, depois disso vai continuar imprimindo na tela até encontrar o proximo percenti %r, ai você vai pegar a segunda variavel que está após %(. O placeholder nos dá a chance de incluir na minha mensagem aquilo que o proprio usuario digitou durante a execução do programa."
   ]
  },
  {
   "cell_type": "markdown",
   "id": "278735be",
   "metadata": {},
   "source": [
    "## <font color ='SeaGreen'> 3.2 Estruturas de repetição - Loop For </font>"
   ]
  },
  {
   "cell_type": "markdown",
   "id": "cf1a73e5",
   "metadata": {},
   "source": [
    "O loop <font color ='Orange'> for </font> é uma das expressões mais comuns em qualquer linguagem de programação. Ele nos permite executar um comando ou um conjunto de comandos um número determinado de vezes. For significa para."
   ]
  },
  {
   "cell_type": "markdown",
   "id": "1c607574",
   "metadata": {},
   "source": [
    "A forma geral do loop for é: Para cada item em uma série de itens execute este bloco e instruções, ou seja, execute estes comandos."
   ]
  },
  {
   "cell_type": "markdown",
   "id": "7a550df5",
   "metadata": {},
   "source": [
    "                                        O for valida cada item em uma série de valores."
   ]
  },
  {
   "cell_type": "markdown",
   "id": "8d398c47",
   "metadata": {},
   "source": [
    "                                                For item in série-de-items:\n",
    "                                                           Executar comandos."
   ]
  },
  {
   "cell_type": "markdown",
   "id": "9c2a075a",
   "metadata": {},
   "source": [
    "O nome da variável item pode ser qualquer uma. Use o bom senso de escolher um nome que faça sentido e que você seja capaz de entender quando revisitar o seu codigo. Esta variável pode ser referenciada dentro de um loop, por exemplo, se você quiser utilizar o condicional if para executar algum tipo de verificação."
   ]
  },
  {
   "cell_type": "markdown",
   "id": "bb19a0b0",
   "metadata": {},
   "source": [
    "                                                 For item in série-de-items:\n",
    "                                                         if item>0\n",
    "                                                                Executar comandos."
   ]
  },
  {
   "cell_type": "markdown",
   "id": "48b2103d",
   "metadata": {},
   "source": [
    "A série de itens neste caso é uma coleção e valores que pode ser qualquer sequencia de valores em Python, podendo utilizar o loop for em objetos sequenciais como:\n",
    "\n",
    "   1. Strings\n",
    "   2. Listas\n",
    "   3. Tuplas\n",
    "   4. Elementos de dicionários\n",
    "   5. Arquivos."
   ]
  },
  {
   "cell_type": "code",
   "execution_count": 1,
   "id": "eddbc344",
   "metadata": {},
   "outputs": [
    {
     "name": "stdout",
     "output_type": "stream",
     "text": [
      "2\n",
      "3\n",
      "4\n"
     ]
    }
   ],
   "source": [
    "# Criando uma tupla e imprimindo cada um dos valores\n",
    "tp = (2,3,4)\n",
    "# Para cada item i dentro desta coleção(tupla=tp) imprima i. i é o nome do contador, nome do item.\n",
    "for i in tp:\n",
    "    print(i)"
   ]
  },
  {
   "cell_type": "code",
   "execution_count": 2,
   "id": "9b272492",
   "metadata": {},
   "outputs": [
    {
     "name": "stdout",
     "output_type": "stream",
     "text": [
      "Leite\n",
      "Frutas\n",
      "Carne\n"
     ]
    }
   ],
   "source": [
    "# Criando uma lista e imprimindo cada um dos valores\n",
    "ListaDoMercado = [\"Leite\", \"Frutas\", \"Carne\"]\n",
    "# Para cada item na lista imprima o tem.\n",
    "for i in ListaDoMercado:\n",
    "    print(i)"
   ]
  },
  {
   "cell_type": "code",
   "execution_count": 4,
   "id": "123f69f4",
   "metadata": {},
   "outputs": [
    {
     "name": "stdout",
     "output_type": "stream",
     "text": [
      "0\n",
      "1\n",
      "2\n",
      "3\n",
      "4\n"
     ]
    }
   ],
   "source": [
    "# Imprimindo os valores no intervalo entre 0 e 5 (exclusive)\n",
    "# O range é outra estrutura de repetição. Ele cria uma sequencia com inicio no 1° elemento () e tendo a quantidade do 2°.\n",
    "for contador in range(0,5):\n",
    "    print(contador)"
   ]
  },
  {
   "cell_type": "code",
   "execution_count": 6,
   "id": "2443cd77",
   "metadata": {},
   "outputs": [
    {
     "name": "stdout",
     "output_type": "stream",
     "text": [
      "2\n",
      "4\n",
      "6\n",
      "8\n",
      "10\n"
     ]
    }
   ],
   "source": [
    "# Imprimindo na tela os números pares da lista de números\n",
    "# Também pode-se unir o loop com o condicional if.\n",
    "lista = [1,2,3,4,5,6,7,8,9,10]\n",
    "for num in lista:\n",
    "    if num % 2 == 0:        # modulo (%) é o resto da divisão\n",
    "        print (num)\n",
    "# Divide-se cada elemento da lista por 2, se o resto for 0, imprima na tela."
   ]
  },
  {
   "cell_type": "code",
   "execution_count": 7,
   "id": "ab3338d4",
   "metadata": {},
   "outputs": [
    {
     "name": "stdout",
     "output_type": "stream",
     "text": [
      "0\n",
      "2\n",
      "4\n",
      "6\n",
      "8\n",
      "10\n",
      "12\n",
      "14\n",
      "16\n",
      "18\n",
      "20\n",
      "22\n",
      "24\n",
      "26\n",
      "28\n",
      "30\n",
      "32\n",
      "34\n",
      "36\n",
      "38\n",
      "40\n",
      "42\n",
      "44\n",
      "46\n",
      "48\n",
      "50\n",
      "52\n",
      "54\n",
      "56\n",
      "58\n",
      "60\n",
      "62\n",
      "64\n",
      "66\n",
      "68\n",
      "70\n",
      "72\n",
      "74\n",
      "76\n",
      "78\n",
      "80\n",
      "82\n",
      "84\n",
      "86\n",
      "88\n",
      "90\n",
      "92\n",
      "94\n",
      "96\n",
      "98\n",
      "100\n"
     ]
    }
   ],
   "source": [
    "# Listando os números no intervalo entre 0 e 101, com incremento em 2\n",
    "#Cria-se um range de valores saltando 2 elementos.\n",
    "for i in range(0,101,2):  \n",
    "    print(i)"
   ]
  },
  {
   "cell_type": "code",
   "execution_count": 8,
   "id": "17e498c0",
   "metadata": {},
   "outputs": [
    {
     "name": "stdout",
     "output_type": "stream",
     "text": [
      "P\n",
      "y\n",
      "t\n",
      "h\n",
      "o\n",
      "n\n",
      " \n",
      "é\n",
      " \n",
      "u\n",
      "m\n",
      "a\n",
      " \n",
      "l\n",
      "i\n",
      "n\n",
      "g\n",
      "u\n",
      "a\n",
      "g\n",
      "e\n",
      "m\n",
      " \n",
      "d\n",
      "e\n",
      " \n",
      "p\n",
      "r\n",
      "o\n",
      "g\n",
      "r\n",
      "a\n",
      "m\n",
      "a\n",
      "ç\n",
      "ã\n",
      "o\n",
      " \n",
      "d\n",
      "i\n",
      "v\n",
      "e\n",
      "r\n",
      "t\n",
      "i\n",
      "d\n",
      "a\n",
      "!\n"
     ]
    }
   ],
   "source": [
    "# Strings também são sequências\n",
    "#Para cada caracter na minha sequencia de caracteres imprime o caracter na tela.\n",
    "for caracter in 'Python é uma linguagem de programação divertida!':\n",
    "    print (caracter)"
   ]
  },
  {
   "cell_type": "markdown",
   "id": "43848d6a",
   "metadata": {},
   "source": [
    "### Loops Aninhados"
   ]
  },
  {
   "cell_type": "code",
   "execution_count": 12,
   "id": "91b9c80f",
   "metadata": {},
   "outputs": [
    {
     "name": "stdout",
     "output_type": "stream",
     "text": [
      "1\n",
      "2\n",
      "1\n",
      "2\n",
      "1\n",
      "2\n",
      "1\n",
      "2\n",
      "1\n",
      "2\n"
     ]
    }
   ],
   "source": [
    "# Loops aninhados\n",
    "# Para cada item representado por i, dentro da minha sequencia de valores será executado uma ação.\n",
    "# Esta ação é uma outra operação de repetição(um outro loop), executando depois uma outra ação(uma impressão=print()).\n",
    "for i in range(0,5):\n",
    "    for a in range(1,3):\n",
    "        print(a) # O que será imprimido é o a."
   ]
  },
  {
   "cell_type": "code",
   "execution_count": 14,
   "id": "d0b5e4f6",
   "metadata": {},
   "outputs": [
    {
     "name": "stdout",
     "output_type": "stream",
     "text": [
      "462\n"
     ]
    }
   ],
   "source": [
    "# Operando os valores de uma lista com loop for\n",
    "listaB = [32,53,85,10,15,17,19]\n",
    "soma = 0\n",
    "#Vai percorrer a lista e para cada item da lista vai tamar 2 ações.\n",
    "# 1° vai multiplicar cada elemento por 2.\n",
    "# 2° vai somar a variavél soma com o resultado da multiplicação, depois vai atribuir esse valor a variável soma, ou seja, vai adidionando(atualizando) o valor da multiplicação a variável soma.\n",
    "for i in listaB:\n",
    "    double_i = i * 2\n",
    "    soma += double_i\n",
    "\n",
    "print(soma)"
   ]
  },
  {
   "cell_type": "code",
   "execution_count": 15,
   "id": "0e330eb6",
   "metadata": {},
   "outputs": [
    {
     "name": "stdout",
     "output_type": "stream",
     "text": [
      "[1, 2, 3]\n",
      "[10, 15, 14]\n",
      "[10.1, 8.7, 2.3]\n"
     ]
    }
   ],
   "source": [
    "# Loops em lista de listas\n",
    "#Também é possivel criar um loop for para percorrer uma lista de listas, que neste caso é uma matriz.\n",
    "# Pode-se criar um loop for que vai percorrer cada valor do meu objeto e então imprime o valor.\n",
    "listas = [[1,2,3], [10,15,14], [10.1,8.7,2.3]]\n",
    "for valor in listas:\n",
    "    print(valor)"
   ]
  },
  {
   "cell_type": "code",
   "execution_count": 16,
   "id": "8649d02e",
   "metadata": {},
   "outputs": [
    {
     "name": "stdout",
     "output_type": "stream",
     "text": [
      "5\n"
     ]
    }
   ],
   "source": [
    "# Contando os itens de uma lista\n",
    "lista = [5,6,10,13,17]\n",
    "count = 0    # Em algumas situações você deve inicializar a sua variável.\n",
    "# Para cada item da lista some um a variavel count, no final você terá a quantidade de elementos desta lista.\n",
    "for item in lista:\n",
    "    count += 1\n",
    "    \n",
    "print(count)"
   ]
  },
  {
   "cell_type": "code",
   "execution_count": 20,
   "id": "e24b4d07",
   "metadata": {},
   "outputs": [
    {
     "name": "stdout",
     "output_type": "stream",
     "text": [
      "3\n"
     ]
    }
   ],
   "source": [
    "# Contando o número de colunas\n",
    "lst = [[1,2,3],[3,4,5],[5,6,7],[8,9,10]]\n",
    "primeira_linha = lst[0] # Indexação. Puxou a primeiro elemento da lista, que é outra lista e a primeira linha da matriz.\n",
    "count = 0\n",
    "# Contasse os elementos da primeira linha, ou seja, a quantidade de colunas.\n",
    "for column in primeira_linha:\n",
    "    count = count + 1  \n",
    "    \n",
    "print(count)"
   ]
  },
  {
   "cell_type": "code",
   "execution_count": 23,
   "id": "9241b376",
   "metadata": {},
   "outputs": [
    {
     "name": "stdout",
     "output_type": "stream",
     "text": [
      "Número encontrado na lista!\n"
     ]
    }
   ],
   "source": [
    "# Pesquisando em listas\n",
    "# Vai percorrer a lista, e sempre que encontrar o número 5, irá imprimir a mensagem na tela.\n",
    "listaC = [5, 6, 7, 10, 50]\n",
    "\n",
    "# Loop através da lista\n",
    "for item in listaC:\n",
    "    if item == 5:\n",
    "        print(\"Número encontrado na lista!\")"
   ]
  },
  {
   "cell_type": "code",
   "execution_count": 21,
   "id": "5fdc05f7",
   "metadata": {},
   "outputs": [
    {
     "name": "stdout",
     "output_type": "stream",
     "text": [
      "k1\n",
      "k2\n",
      "k3\n"
     ]
    }
   ],
   "source": [
    "# Listando as chaves de um dicionário\n",
    "dict = {'k1':'Python','k2':'R','k3':'Scala'}\n",
    "# Para cada item do dicionario imprimir o item, neste caso, imprime as chaves do dicionário.\n",
    "for item in dict:\n",
    "    print(item)"
   ]
  },
  {
   "cell_type": "code",
   "execution_count": 22,
   "id": "4618e43c",
   "metadata": {},
   "outputs": [
    {
     "name": "stdout",
     "output_type": "stream",
     "text": [
      "k1 Python\n",
      "k2 R\n",
      "k3 Scala\n"
     ]
    }
   ],
   "source": [
    "# Imprimindo chave e valor do dicionário. Usando o método items() para retornar os itens de um dicionário\n",
    "for k,v in dict.items():\n",
    "    print (k,v)"
   ]
  },
  {
   "cell_type": "markdown",
   "id": "19365952",
   "metadata": {},
   "source": [
    "## <font color ='SeaGreen'> 3.2 Estruturas de repetição - Loop While </font>"
   ]
  },
  {
   "cell_type": "markdown",
   "id": "75a28819",
   "metadata": {},
   "source": [
    "O loop <font color ='Orange'> while </font> em Python é uma das formas mais comuns de se executar iteração. A instrução while será executada repetidamente, seja uma unica instrução ou um grupo de instruções, desde que uma instrução seja verdadeira."
   ]
  },
  {
   "cell_type": "markdown",
   "id": "cc99e5f8",
   "metadata": {},
   "source": [
    "A palavra while significa enquanto em português."
   ]
  },
  {
   "cell_type": "markdown",
   "id": "38c6076c",
   "metadata": {},
   "source": [
    "                                        Valida cada item em uma série de valores."
   ]
  },
  {
   "cell_type": "markdown",
   "id": "6819c31a",
   "metadata": {},
   "source": [
    "                                   While(expressão1):\n",
    "                                            print(\"comando executado caso a expressão1 seja verdadeira\")"
   ]
  },
  {
   "cell_type": "markdown",
   "id": "1a23590d",
   "metadata": {},
   "source": [
    "Enquanto a expressão 1 for verdadeira execute estas instruções."
   ]
  },
  {
   "cell_type": "markdown",
   "id": "1cbfe6b6",
   "metadata": {},
   "source": [
    "Obs.: Dentro do nosso codigo precisamos fazer com que a expressão1 deixe de ser verdadeira em algum momento, caso contrário, o loop ficará executando infinitamente e vai travar o seu computador. Uma forma de sair do loop infinito é parar a execução do comando com o stop, que tem como simbolo um quadrado preto na linha de ferramentas. "
   ]
  },
  {
   "cell_type": "markdown",
   "id": "cc686f45",
   "metadata": {},
   "source": [
    "No loop for isso não acontece porque atribui-se uma quantidade de elementos(lista, dicionário, tupla, string) e quando eles acabam o loop é concluido."
   ]
  },
  {
   "cell_type": "code",
   "execution_count": 1,
   "id": "f489fde7",
   "metadata": {},
   "outputs": [
    {
     "name": "stdout",
     "output_type": "stream",
     "text": [
      "0\n",
      "1\n",
      "2\n",
      "3\n",
      "4\n",
      "5\n",
      "6\n",
      "7\n",
      "8\n",
      "9\n"
     ]
    }
   ],
   "source": [
    "# Usando o loop while para imprimir os valores de 0 a 9\n",
    "counter = 0\n",
    "while counter < 10:\n",
    "    print(counter)\n",
    "    counter = counter + 1  # Se não colocar essa linha de codigo, o counter sempre será 0.\n",
    "# Com o count =0 a condição sempre será verdadeira e o loop será infinito."
   ]
  },
  {
   "cell_type": "markdown",
   "id": "e877025b",
   "metadata": {},
   "source": [
    "Enquanto a condição for verdadeira esse bloco de instruções vai ser executado. Em algum momento a condição deixará de ser verdadeira. Nesta hora entrará no bloco else e vai executar a sua instrução. O bloco else é uma forma de também controlar o que acontece com o loop while quando a condição for falsa."
   ]
  },
  {
   "cell_type": "code",
   "execution_count": 2,
   "id": "c9b0ed1a",
   "metadata": {},
   "outputs": [
    {
     "name": "stdout",
     "output_type": "stream",
     "text": [
      "O valor de x nesta iteração é:  0\n",
      " x ainda é menor que 10, somando 1 a x\n",
      "O valor de x nesta iteração é:  1\n",
      " x ainda é menor que 10, somando 1 a x\n",
      "O valor de x nesta iteração é:  2\n",
      " x ainda é menor que 10, somando 1 a x\n",
      "O valor de x nesta iteração é:  3\n",
      " x ainda é menor que 10, somando 1 a x\n",
      "O valor de x nesta iteração é:  4\n",
      " x ainda é menor que 10, somando 1 a x\n",
      "O valor de x nesta iteração é:  5\n",
      " x ainda é menor que 10, somando 1 a x\n",
      "O valor de x nesta iteração é:  6\n",
      " x ainda é menor que 10, somando 1 a x\n",
      "O valor de x nesta iteração é:  7\n",
      " x ainda é menor que 10, somando 1 a x\n",
      "O valor de x nesta iteração é:  8\n",
      " x ainda é menor que 10, somando 1 a x\n",
      "O valor de x nesta iteração é:  9\n",
      " x ainda é menor que 10, somando 1 a x\n",
      "Loop concluído!\n"
     ]
    }
   ],
   "source": [
    "# Também é possível usar a claúsula else para encerrar o loop while\n",
    "x = 0\n",
    "\n",
    "while x < 10:\n",
    "    print ('O valor de x nesta iteração é: ', x)\n",
    "    print (' x ainda é menor que 10, somando 1 a x')\n",
    "    x += 1   # Vai somando um a x de modo que em algum momento ele deixará de ser menor que 10.\n",
    "    \n",
    "else: #tbm pode-se utilizar a clausula else em while.  \n",
    "    print ('Loop concluído!')"
   ]
  },
  {
   "cell_type": "markdown",
   "id": "85a7f178",
   "metadata": {},
   "source": [
    "### Pass, Break, Continue"
   ]
  },
  {
   "cell_type": "markdown",
   "id": "2d916ab0",
   "metadata": {},
   "source": [
    "Tem-se algumas alternativas para interromper a execução de um loop While. Podemos usar as palavras reservadas pass, break e continue, para mudar o comportamento dentro do loop.\n",
    "\n",
    "1. Break - frear/interromper a execução do loop.\n",
    "2. Pass - Continuar seguindo a execução do loop dentro do while.\n",
    "3. Continue - Pular uma iteração/condição/repetição."
   ]
  },
  {
   "cell_type": "code",
   "execution_count": 3,
   "id": "8936f0a7",
   "metadata": {},
   "outputs": [
    {
     "name": "stdout",
     "output_type": "stream",
     "text": [
      "0\n",
      "1\n",
      "2\n",
      "3\n"
     ]
    }
   ],
   "source": [
    "counter = 0\n",
    "while counter < 100:\n",
    "    if counter == 4:  #Se o contador for =4, ele quer interromper o programa.\n",
    "        break   # interrompe/freia o programa\n",
    "    else: # Enquanto não tiver encontrado counter=4 utiliza-se o pass, no caso contua com a execução do programa.\n",
    "        pass\n",
    "    print(counter)\n",
    "    counter = counter + 1"
   ]
  },
  {
   "cell_type": "markdown",
   "id": "bf191ab6",
   "metadata": {},
   "source": [
    "Pode-se utilizar o continue quando quiser pular uma iteração(repetição, condição, elemento).\n",
    "Para o verificador dentro da minha sequencia de elementos que é uma string. Se o verificador for igual a h, continue, ou seja, pula-se h e continua processando a nossa string, a nossa sequancia de elementos."
   ]
  },
  {
   "cell_type": "code",
   "execution_count": 4,
   "id": "c8b13291",
   "metadata": {},
   "outputs": [
    {
     "name": "stdout",
     "output_type": "stream",
     "text": [
      "P\n",
      "y\n",
      "t\n",
      "o\n",
      "n\n"
     ]
    }
   ],
   "source": [
    "#Para cada caracter = verificador dentro da string Python. Se o verificador for =h, não imprime, pula para o prox. elemento da seq.\n",
    "for verificador in \"Python\":\n",
    "    if verificador == \"h\":\n",
    "        continue\n",
    "    print(verificador)"
   ]
  },
  {
   "cell_type": "markdown",
   "id": "6ec47b2a",
   "metadata": {},
   "source": [
    "### While e For juntos"
   ]
  },
  {
   "cell_type": "code",
   "execution_count": 7,
   "id": "3db3b8d8",
   "metadata": {},
   "outputs": [
    {
     "name": "stdout",
     "output_type": "stream",
     "text": [
      "2 é um número primo\n",
      "3 é um número primo\n",
      "5 é um número primo\n",
      "7 é um número primo\n",
      "11 é um número primo\n",
      "13 é um número primo\n",
      "17 é um número primo\n",
      "19 é um número primo\n",
      "23 é um número primo\n",
      "29 é um número primo\n"
     ]
    }
   ],
   "source": [
    "#original\n",
    "for i in range(2,30):\n",
    "    j = 2\n",
    "    counter = 0\n",
    "    while j < i:\n",
    "        if i % j == 0:\n",
    "            counter = 1\n",
    "            j = j + 1\n",
    "        else:\n",
    "            j = j + 1\n",
    "    \n",
    "    if counter == 0:\n",
    "        print(str(i) + \" é um número primo\")\n",
    "        counter = 0\n",
    "    else:\n",
    "        counter = 0"
   ]
  },
  {
   "cell_type": "code",
   "execution_count": 10,
   "id": "1f3e9ff8",
   "metadata": {},
   "outputs": [
    {
     "name": "stdout",
     "output_type": "stream",
     "text": [
      "2 é um número primo\n",
      "3 é um número primo\n",
      "5 é um número primo\n",
      "7 é um número primo\n",
      "11 é um número primo\n",
      "13 é um número primo\n",
      "17 é um número primo\n",
      "19 é um número primo\n",
      "23 é um número primo\n",
      "29 é um número primo\n"
     ]
    }
   ],
   "source": [
    "#modificação1\n",
    "\n",
    "for i in range(2,30):\n",
    "    j = 2\n",
    "    counter = 0 # Não precisa-se de outros counters=0, já que toda vez que mudar o valor de i, o valor 0\n",
    "                # será atribuido novamente a variável counter, pois counter=0 está no inicio do for.\n",
    "        \n",
    "    while j < i:        #Enquanto j<i, será feita a seguinte verificação:\n",
    "        if i % j == 0:  #Se o resto é =0, counter será =1, caso contrario, nem entra dentro do if.\n",
    "            counter = 1\n",
    "        j = j + 1 # No original esta linha estava no if e no else, ou seja, ia acontecer independentemente do \n",
    "                  # resto ser igual a zero ou não, por isso, ele pode ficar no while.\n",
    "    \n",
    "    if counter == 0:    # Se counter for =0, imprimirá na tela. Logo, se entrar no while não imprime. Desta forma o while\n",
    "                        # serviu para excluir números que não são primos.\n",
    "        print(str(i) + \" é um número primo\")"
   ]
  },
  {
   "cell_type": "code",
   "execution_count": 12,
   "id": "c3c99be1",
   "metadata": {},
   "outputs": [
    {
     "name": "stdout",
     "output_type": "stream",
     "text": [
      "I:2\n",
      "J fora do while:2\n",
      "2 é um número primo\n",
      "I:3\n",
      "J fora do while:2\n",
      "J dentro do while:3\n",
      "3 é um número primo\n",
      "I:4\n",
      "J fora do while:2\n",
      "entrou no if\n",
      "J dentro do while:3\n",
      "J dentro do while:4\n",
      "I:5\n",
      "J fora do while:2\n",
      "J dentro do while:3\n",
      "J dentro do while:4\n",
      "J dentro do while:5\n",
      "5 é um número primo\n",
      "I:6\n",
      "J fora do while:2\n",
      "entrou no if\n",
      "J dentro do while:3\n",
      "entrou no if\n",
      "J dentro do while:4\n",
      "J dentro do while:5\n",
      "J dentro do while:6\n",
      "I:7\n",
      "J fora do while:2\n",
      "J dentro do while:3\n",
      "J dentro do while:4\n",
      "J dentro do while:5\n",
      "J dentro do while:6\n",
      "J dentro do while:7\n",
      "7 é um número primo\n",
      "I:8\n",
      "J fora do while:2\n",
      "entrou no if\n",
      "J dentro do while:3\n",
      "J dentro do while:4\n",
      "entrou no if\n",
      "J dentro do while:5\n",
      "J dentro do while:6\n",
      "J dentro do while:7\n",
      "J dentro do while:8\n",
      "I:9\n",
      "J fora do while:2\n",
      "J dentro do while:3\n",
      "entrou no if\n",
      "J dentro do while:4\n",
      "J dentro do while:5\n",
      "J dentro do while:6\n",
      "J dentro do while:7\n",
      "J dentro do while:8\n",
      "J dentro do while:9\n",
      "I:10\n",
      "J fora do while:2\n",
      "entrou no if\n",
      "J dentro do while:3\n",
      "J dentro do while:4\n",
      "J dentro do while:5\n",
      "entrou no if\n",
      "J dentro do while:6\n",
      "J dentro do while:7\n",
      "J dentro do while:8\n",
      "J dentro do while:9\n",
      "J dentro do while:10\n",
      "I:11\n",
      "J fora do while:2\n",
      "J dentro do while:3\n",
      "J dentro do while:4\n",
      "J dentro do while:5\n",
      "J dentro do while:6\n",
      "J dentro do while:7\n",
      "J dentro do while:8\n",
      "J dentro do while:9\n",
      "J dentro do while:10\n",
      "J dentro do while:11\n",
      "11 é um número primo\n",
      "I:12\n",
      "J fora do while:2\n",
      "entrou no if\n",
      "J dentro do while:3\n",
      "entrou no if\n",
      "J dentro do while:4\n",
      "entrou no if\n",
      "J dentro do while:5\n",
      "J dentro do while:6\n",
      "entrou no if\n",
      "J dentro do while:7\n",
      "J dentro do while:8\n",
      "J dentro do while:9\n",
      "J dentro do while:10\n",
      "J dentro do while:11\n",
      "J dentro do while:12\n",
      "I:13\n",
      "J fora do while:2\n",
      "J dentro do while:3\n",
      "J dentro do while:4\n",
      "J dentro do while:5\n",
      "J dentro do while:6\n",
      "J dentro do while:7\n",
      "J dentro do while:8\n",
      "J dentro do while:9\n",
      "J dentro do while:10\n",
      "J dentro do while:11\n",
      "J dentro do while:12\n",
      "J dentro do while:13\n",
      "13 é um número primo\n",
      "I:14\n",
      "J fora do while:2\n",
      "entrou no if\n",
      "J dentro do while:3\n",
      "J dentro do while:4\n",
      "J dentro do while:5\n",
      "J dentro do while:6\n",
      "J dentro do while:7\n",
      "entrou no if\n",
      "J dentro do while:8\n",
      "J dentro do while:9\n",
      "J dentro do while:10\n",
      "J dentro do while:11\n",
      "J dentro do while:12\n",
      "J dentro do while:13\n",
      "J dentro do while:14\n",
      "I:15\n",
      "J fora do while:2\n",
      "J dentro do while:3\n",
      "entrou no if\n",
      "J dentro do while:4\n",
      "J dentro do while:5\n",
      "entrou no if\n",
      "J dentro do while:6\n",
      "J dentro do while:7\n",
      "J dentro do while:8\n",
      "J dentro do while:9\n",
      "J dentro do while:10\n",
      "J dentro do while:11\n",
      "J dentro do while:12\n",
      "J dentro do while:13\n",
      "J dentro do while:14\n",
      "J dentro do while:15\n",
      "I:16\n",
      "J fora do while:2\n",
      "entrou no if\n",
      "J dentro do while:3\n",
      "J dentro do while:4\n",
      "entrou no if\n",
      "J dentro do while:5\n",
      "J dentro do while:6\n",
      "J dentro do while:7\n",
      "J dentro do while:8\n",
      "entrou no if\n",
      "J dentro do while:9\n",
      "J dentro do while:10\n",
      "J dentro do while:11\n",
      "J dentro do while:12\n",
      "J dentro do while:13\n",
      "J dentro do while:14\n",
      "J dentro do while:15\n",
      "J dentro do while:16\n",
      "I:17\n",
      "J fora do while:2\n",
      "J dentro do while:3\n",
      "J dentro do while:4\n",
      "J dentro do while:5\n",
      "J dentro do while:6\n",
      "J dentro do while:7\n",
      "J dentro do while:8\n",
      "J dentro do while:9\n",
      "J dentro do while:10\n",
      "J dentro do while:11\n",
      "J dentro do while:12\n",
      "J dentro do while:13\n",
      "J dentro do while:14\n",
      "J dentro do while:15\n",
      "J dentro do while:16\n",
      "J dentro do while:17\n",
      "17 é um número primo\n",
      "I:18\n",
      "J fora do while:2\n",
      "entrou no if\n",
      "J dentro do while:3\n",
      "entrou no if\n",
      "J dentro do while:4\n",
      "J dentro do while:5\n",
      "J dentro do while:6\n",
      "entrou no if\n",
      "J dentro do while:7\n",
      "J dentro do while:8\n",
      "J dentro do while:9\n",
      "entrou no if\n",
      "J dentro do while:10\n",
      "J dentro do while:11\n",
      "J dentro do while:12\n",
      "J dentro do while:13\n",
      "J dentro do while:14\n",
      "J dentro do while:15\n",
      "J dentro do while:16\n",
      "J dentro do while:17\n",
      "J dentro do while:18\n",
      "I:19\n",
      "J fora do while:2\n",
      "J dentro do while:3\n",
      "J dentro do while:4\n",
      "J dentro do while:5\n",
      "J dentro do while:6\n",
      "J dentro do while:7\n",
      "J dentro do while:8\n",
      "J dentro do while:9\n",
      "J dentro do while:10\n",
      "J dentro do while:11\n",
      "J dentro do while:12\n",
      "J dentro do while:13\n",
      "J dentro do while:14\n",
      "J dentro do while:15\n",
      "J dentro do while:16\n",
      "J dentro do while:17\n",
      "J dentro do while:18\n",
      "J dentro do while:19\n",
      "19 é um número primo\n",
      "I:20\n",
      "J fora do while:2\n",
      "entrou no if\n",
      "J dentro do while:3\n",
      "J dentro do while:4\n",
      "entrou no if\n",
      "J dentro do while:5\n",
      "entrou no if\n",
      "J dentro do while:6\n",
      "J dentro do while:7\n",
      "J dentro do while:8\n",
      "J dentro do while:9\n",
      "J dentro do while:10\n",
      "entrou no if\n",
      "J dentro do while:11\n",
      "J dentro do while:12\n",
      "J dentro do while:13\n",
      "J dentro do while:14\n",
      "J dentro do while:15\n",
      "J dentro do while:16\n",
      "J dentro do while:17\n",
      "J dentro do while:18\n",
      "J dentro do while:19\n",
      "J dentro do while:20\n",
      "I:21\n",
      "J fora do while:2\n",
      "J dentro do while:3\n",
      "entrou no if\n",
      "J dentro do while:4\n",
      "J dentro do while:5\n",
      "J dentro do while:6\n",
      "J dentro do while:7\n",
      "entrou no if\n",
      "J dentro do while:8\n",
      "J dentro do while:9\n",
      "J dentro do while:10\n",
      "J dentro do while:11\n",
      "J dentro do while:12\n",
      "J dentro do while:13\n",
      "J dentro do while:14\n",
      "J dentro do while:15\n",
      "J dentro do while:16\n",
      "J dentro do while:17\n",
      "J dentro do while:18\n",
      "J dentro do while:19\n",
      "J dentro do while:20\n",
      "J dentro do while:21\n",
      "I:22\n",
      "J fora do while:2\n",
      "entrou no if\n",
      "J dentro do while:3\n",
      "J dentro do while:4\n",
      "J dentro do while:5\n",
      "J dentro do while:6\n",
      "J dentro do while:7\n",
      "J dentro do while:8\n",
      "J dentro do while:9\n",
      "J dentro do while:10\n",
      "J dentro do while:11\n",
      "entrou no if\n",
      "J dentro do while:12\n",
      "J dentro do while:13\n",
      "J dentro do while:14\n",
      "J dentro do while:15\n",
      "J dentro do while:16\n",
      "J dentro do while:17\n",
      "J dentro do while:18\n",
      "J dentro do while:19\n",
      "J dentro do while:20\n",
      "J dentro do while:21\n",
      "J dentro do while:22\n",
      "I:23\n",
      "J fora do while:2\n",
      "J dentro do while:3\n",
      "J dentro do while:4\n",
      "J dentro do while:5\n",
      "J dentro do while:6\n",
      "J dentro do while:7\n",
      "J dentro do while:8\n",
      "J dentro do while:9\n",
      "J dentro do while:10\n",
      "J dentro do while:11\n",
      "J dentro do while:12\n",
      "J dentro do while:13\n",
      "J dentro do while:14\n",
      "J dentro do while:15\n",
      "J dentro do while:16\n",
      "J dentro do while:17\n",
      "J dentro do while:18\n",
      "J dentro do while:19\n",
      "J dentro do while:20\n",
      "J dentro do while:21\n",
      "J dentro do while:22\n",
      "J dentro do while:23\n",
      "23 é um número primo\n",
      "I:24\n",
      "J fora do while:2\n",
      "entrou no if\n",
      "J dentro do while:3\n",
      "entrou no if\n",
      "J dentro do while:4\n",
      "entrou no if\n",
      "J dentro do while:5\n",
      "J dentro do while:6\n",
      "entrou no if\n",
      "J dentro do while:7\n",
      "J dentro do while:8\n",
      "entrou no if\n",
      "J dentro do while:9\n",
      "J dentro do while:10\n",
      "J dentro do while:11\n",
      "J dentro do while:12\n",
      "entrou no if\n",
      "J dentro do while:13\n",
      "J dentro do while:14\n",
      "J dentro do while:15\n",
      "J dentro do while:16\n",
      "J dentro do while:17\n",
      "J dentro do while:18\n",
      "J dentro do while:19\n",
      "J dentro do while:20\n",
      "J dentro do while:21\n",
      "J dentro do while:22\n",
      "J dentro do while:23\n",
      "J dentro do while:24\n",
      "I:25\n",
      "J fora do while:2\n",
      "J dentro do while:3\n",
      "J dentro do while:4\n",
      "J dentro do while:5\n",
      "entrou no if\n",
      "J dentro do while:6\n",
      "J dentro do while:7\n",
      "J dentro do while:8\n",
      "J dentro do while:9\n",
      "J dentro do while:10\n",
      "J dentro do while:11\n",
      "J dentro do while:12\n",
      "J dentro do while:13\n",
      "J dentro do while:14\n",
      "J dentro do while:15\n",
      "J dentro do while:16\n",
      "J dentro do while:17\n",
      "J dentro do while:18\n",
      "J dentro do while:19\n",
      "J dentro do while:20\n",
      "J dentro do while:21\n",
      "J dentro do while:22\n",
      "J dentro do while:23\n",
      "J dentro do while:24\n",
      "J dentro do while:25\n",
      "I:26\n",
      "J fora do while:2\n",
      "entrou no if\n",
      "J dentro do while:3\n",
      "J dentro do while:4\n",
      "J dentro do while:5\n",
      "J dentro do while:6\n",
      "J dentro do while:7\n",
      "J dentro do while:8\n",
      "J dentro do while:9\n",
      "J dentro do while:10\n",
      "J dentro do while:11\n",
      "J dentro do while:12\n",
      "J dentro do while:13\n",
      "entrou no if\n",
      "J dentro do while:14\n",
      "J dentro do while:15\n",
      "J dentro do while:16\n",
      "J dentro do while:17\n",
      "J dentro do while:18\n",
      "J dentro do while:19\n",
      "J dentro do while:20\n",
      "J dentro do while:21\n",
      "J dentro do while:22\n",
      "J dentro do while:23\n",
      "J dentro do while:24\n",
      "J dentro do while:25\n",
      "J dentro do while:26\n",
      "I:27\n",
      "J fora do while:2\n",
      "J dentro do while:3\n",
      "entrou no if\n",
      "J dentro do while:4\n",
      "J dentro do while:5\n",
      "J dentro do while:6\n",
      "J dentro do while:7\n",
      "J dentro do while:8\n",
      "J dentro do while:9\n",
      "entrou no if\n",
      "J dentro do while:10\n",
      "J dentro do while:11\n",
      "J dentro do while:12\n",
      "J dentro do while:13\n",
      "J dentro do while:14\n",
      "J dentro do while:15\n",
      "J dentro do while:16\n",
      "J dentro do while:17\n",
      "J dentro do while:18\n",
      "J dentro do while:19\n",
      "J dentro do while:20\n",
      "J dentro do while:21\n",
      "J dentro do while:22\n",
      "J dentro do while:23\n",
      "J dentro do while:24\n",
      "J dentro do while:25\n",
      "J dentro do while:26\n",
      "J dentro do while:27\n",
      "I:28\n",
      "J fora do while:2\n",
      "entrou no if\n",
      "J dentro do while:3\n",
      "J dentro do while:4\n",
      "entrou no if\n",
      "J dentro do while:5\n",
      "J dentro do while:6\n",
      "J dentro do while:7\n",
      "entrou no if\n",
      "J dentro do while:8\n",
      "J dentro do while:9\n",
      "J dentro do while:10\n",
      "J dentro do while:11\n",
      "J dentro do while:12\n",
      "J dentro do while:13\n",
      "J dentro do while:14\n",
      "entrou no if\n",
      "J dentro do while:15\n",
      "J dentro do while:16\n",
      "J dentro do while:17\n",
      "J dentro do while:18\n",
      "J dentro do while:19\n",
      "J dentro do while:20\n",
      "J dentro do while:21\n",
      "J dentro do while:22\n",
      "J dentro do while:23\n",
      "J dentro do while:24\n",
      "J dentro do while:25\n",
      "J dentro do while:26\n",
      "J dentro do while:27\n",
      "J dentro do while:28\n",
      "I:29\n",
      "J fora do while:2\n",
      "J dentro do while:3\n",
      "J dentro do while:4\n",
      "J dentro do while:5\n",
      "J dentro do while:6\n",
      "J dentro do while:7\n",
      "J dentro do while:8\n",
      "J dentro do while:9\n",
      "J dentro do while:10\n",
      "J dentro do while:11\n",
      "J dentro do while:12\n",
      "J dentro do while:13\n",
      "J dentro do while:14\n",
      "J dentro do while:15\n",
      "J dentro do while:16\n",
      "J dentro do while:17\n",
      "J dentro do while:18\n",
      "J dentro do while:19\n",
      "J dentro do while:20\n",
      "J dentro do while:21\n",
      "J dentro do while:22\n",
      "J dentro do while:23\n",
      "J dentro do while:24\n",
      "J dentro do while:25\n",
      "J dentro do while:26\n",
      "J dentro do while:27\n",
      "J dentro do while:28\n",
      "J dentro do while:29\n",
      "29 é um número primo\n"
     ]
    }
   ],
   "source": [
    "for i in range(2,30):\n",
    "    j = 2\n",
    "    #print(\"J:\"+ str(j))   \n",
    "    counter = 0\n",
    "    print(\"I:\"+ str(i))\n",
    "    print(\"J fora do while:\"+str(j))\n",
    "    while j < i:        #Enquanto j<i, será feita a seguinte verificação:\n",
    "        if i % j == 0:  #Se o resto é =0, counter será =1 e somará 1 a j.\n",
    "            print(\"entrou no if\")\n",
    "            counter = 1\n",
    "        j = j + 1\n",
    "        print(\"J dentro do while:\"+ str(j))\n",
    "    \n",
    "    if counter == 0:    # Se counter for =0, imprimirá na tela\n",
    "        print(str(i) + \" é um número primo\")"
   ]
  },
  {
   "cell_type": "markdown",
   "id": "58ce3409",
   "metadata": {},
   "source": [
    "## <font color ='SeaGreen'> 3.3 Estruturas de repetição - Range </font>"
   ]
  },
  {
   "cell_type": "markdown",
   "id": "b0ea9a6b",
   "metadata": {},
   "source": [
    "Os loops for e while são as principais estruturas de repetição em Python. Entretando, em algumas situações, nos queremos repetir um determinado conjunto de elementos um número determinado de vezes, para isso podemos utilizar a função range que cria um range de valores. Essa função não é exatamente uma estrutura de repetição como loop/while, mas nos permite repetir o conjunto de elementos um número determinado de vezes. "
   ]
  },
  {
   "cell_type": "markdown",
   "id": "c9955c77",
   "metadata": {},
   "source": [
    "A função range() nos permite criar uma lista de números em um intervalo especifico. A função range() tem o seguinte formato:"
   ]
  },
  {
   "cell_type": "markdown",
   "id": "7c40d38d",
   "metadata": {},
   "source": [
    "                                                  range([start],[stop],[step])"
   ]
  },
  {
   "cell_type": "markdown",
   "id": "03faa90f",
   "metadata": {},
   "source": [
    "1. Start - número que inicia a sequência;\n",
    "2. Stop - número que encerra a sequência(não é incluido na sequência);\n",
    "3. Step - diferença entre cada número da sequência."
   ]
  },
  {
   "cell_type": "markdown",
   "id": "03e53446",
   "metadata": {},
   "source": [
    "O caso abaixo, vai retornar uma lista de números começando com o valor 50; A lista vai até o valor 101, sem inclui-lo; E os números serão trazidos de 2 em 2. Ou seja, serão trazidos os números pares, começando por 50 e terminando em 100.\n",
    "Desta forma, foi criada uma sequencia(uma repetição), de valores seguindo uma ordem especifica e uma quantidade determinada."
   ]
  },
  {
   "cell_type": "code",
   "execution_count": 7,
   "id": "c532ce49",
   "metadata": {},
   "outputs": [
    {
     "data": {
      "text/plain": [
       "range(50, 101, 2)"
      ]
     },
     "execution_count": 7,
     "metadata": {},
     "output_type": "execute_result"
    }
   ],
   "source": [
    "range(50,101,2)"
   ]
  },
  {
   "cell_type": "code",
   "execution_count": 8,
   "id": "dbf46466",
   "metadata": {},
   "outputs": [
    {
     "name": "stdout",
     "output_type": "stream",
     "text": [
      "50\n",
      "52\n",
      "54\n",
      "56\n",
      "58\n",
      "60\n",
      "62\n",
      "64\n",
      "66\n",
      "68\n",
      "70\n",
      "72\n",
      "74\n",
      "76\n",
      "78\n",
      "80\n",
      "82\n",
      "84\n",
      "86\n",
      "88\n",
      "90\n",
      "92\n",
      "94\n",
      "96\n",
      "98\n",
      "100\n"
     ]
    }
   ],
   "source": [
    "# Imprimindo números pares entre 50 e 101\n",
    "for i in range(50, 101, 2): # Para cada item(i) dentro da sequencia tal(range(50,101,2)), impprima i.\n",
    "    print(i)"
   ]
  },
  {
   "cell_type": "code",
   "execution_count": 9,
   "id": "bac52ed5",
   "metadata": {},
   "outputs": [
    {
     "name": "stdout",
     "output_type": "stream",
     "text": [
      "3\n",
      "4\n",
      "5\n"
     ]
    }
   ],
   "source": [
    "#Como esta omitindo o step, vai considerar 1 como padrão.\n",
    "for i in range(3, 6):\n",
    "    print (i)"
   ]
  },
  {
   "cell_type": "markdown",
   "id": "0c8eda19",
   "metadata": {},
   "source": [
    "Pode-se também criar uma lista inversa, em vez de andar para frente, anda-se para trás, colocando valores negativos. Pense em uma reta onde o centro é zero, na esquerda estão os valores negativos e na direita os valores positivos."
   ]
  },
  {
   "cell_type": "code",
   "execution_count": 11,
   "id": "8d6c6823",
   "metadata": {},
   "outputs": [
    {
     "name": "stdout",
     "output_type": "stream",
     "text": [
      "0\n",
      "-2\n",
      "-4\n",
      "-6\n",
      "-8\n",
      "-10\n",
      "-12\n",
      "-14\n",
      "-16\n",
      "-18\n"
     ]
    }
   ],
   "source": [
    "# Começa com 0; Foi até 20; Saltando -2.\n",
    "for i in range(0, -20, -2):\n",
    "    print(i)"
   ]
  },
  {
   "cell_type": "code",
   "execution_count": 14,
   "id": "1078b373",
   "metadata": {},
   "outputs": [
    {
     "name": "stdout",
     "output_type": "stream",
     "text": [
      "Morango\n",
      "Banana\n",
      "Abacaxi\n",
      "Uva\n"
     ]
    }
   ],
   "source": [
    "# Isso é util quando se tem uma sequencia que não possui tamanho fixo, deixando mais automatizado.\n",
    "lista = ['Morango', 'Banana', 'Abacaxi', 'Uva'] #cria-se uma lista\n",
    "lista_tamanho = len(lista) #verifica-se seu tamanho\n",
    "for i in range(0, lista_tamanho):    #Adiciona-se o tamanho no Stop e 0 no Start, para formar o indice.\n",
    "    print(lista[i]) # utiliza-se o indice para puxar cada valor da lista  no for e imprimir\n",
    "#    print(i)        # pois se colocasse apenas o i daria o indice, ou seja, um número."
   ]
  },
  {
   "cell_type": "code",
   "execution_count": 15,
   "id": "af38c88a",
   "metadata": {},
   "outputs": [
    {
     "data": {
      "text/plain": [
       "range"
      ]
     },
     "execution_count": 15,
     "metadata": {},
     "output_type": "execute_result"
    }
   ],
   "source": [
    "# Tudo em Python é um objeto\n",
    "type(range(0,3))"
   ]
  },
  {
   "cell_type": "markdown",
   "id": "e4e61909",
   "metadata": {},
   "source": [
    "## <font color ='DarkMagenta'> Resumão  </font>"
   ]
  },
  {
   "cell_type": "markdown",
   "id": "f30b0841",
   "metadata": {},
   "source": [
    "Provavelmente o mais conhecido comando de controle de fluxo é o <font color ='Orange'> if </font>."
   ]
  },
  {
   "cell_type": "markdown",
   "id": "6a448320",
   "metadata": {},
   "source": [
    "Pode haver zero ou mais partes elif, e a parte else é opcional. A palavra-chave ‘elif’ é uma abreviação para ‘else if’, e é útil para evitar indentação excessiva. Uma sequência if … elif … elif … substitui os comandos switch ou case, encontrados em outras linguagens."
   ]
  },
  {
   "cell_type": "markdown",
   "id": "8559b34e",
   "metadata": {},
   "source": [
    "O comando <font color ='Orange'> for </font> em Python é um pouco diferente do que costuma ser em C ou Pascal. Ao invés de sempre iterar sobre uma progressão aritmética de números (como no Pascal), ou permitir ao usuário definir o passo de iteração e a condição de parada (como C), o comando for do Python itera sobre os itens de qualquer sequência (seja uma lista ou uma string), na ordem que aparecem na sequência. Por exemplo:"
   ]
  },
  {
   "cell_type": "code",
   "execution_count": 3,
   "id": "39b1d6f5",
   "metadata": {},
   "outputs": [
    {
     "name": "stdout",
     "output_type": "stream",
     "text": [
      "cat 3\n",
      "window 6\n",
      "defenestrate 12\n"
     ]
    }
   ],
   "source": [
    "# Measure some strings:\n",
    "words = ['cat', 'window', 'defenestrate']\n",
    "for w in words:\n",
    "    print(w, len(w)) # len() é comprimento, por isso, contou os caracteres de cada elemento."
   ]
  },
  {
   "cell_type": "markdown",
   "id": "b89584bd",
   "metadata": {},
   "source": [
    "Se você precisa iterar sobre sequências numéricas, a função embutida <font color ='Orange'> range() </font> é a resposta. Ela gera progressões aritméticas:"
   ]
  },
  {
   "cell_type": "code",
   "execution_count": 6,
   "id": "4ba2f66a",
   "metadata": {},
   "outputs": [
    {
     "name": "stdout",
     "output_type": "stream",
     "text": [
      "0\n",
      "1\n",
      "2\n",
      "3\n",
      "4\n"
     ]
    }
   ],
   "source": [
    "for i in range(5):\n",
    "    print(i)"
   ]
  },
  {
   "cell_type": "markdown",
   "id": "c3e933c8",
   "metadata": {},
   "source": [
    "O ponto de parada fornecido nunca é incluído na lista; range(10) gera uma lista com 10 valores, exatamente os índices válidos para uma sequência de comprimento 10. É possível iniciar o intervalo com outro número, ou alterar a razão da progressão (inclusive com passo negativo):"
   ]
  },
  {
   "cell_type": "markdown",
   "id": "ea98c494",
   "metadata": {},
   "source": [
    "range(5, 10)\n",
    "\n",
    "    5, 6, 7, 8, 9\n",
    "\n",
    "range(0, 10, 3)\n",
    "\n",
    "    0, 3, 6, 9\n",
    "\n",
    "range(-10, -100, -30)\n",
    "\n",
    "    -10, -40, -70"
   ]
  },
  {
   "cell_type": "markdown",
   "id": "20da890f",
   "metadata": {},
   "source": [
    "Para iterar sobre os índices de uma sequência, combine range() e len() da seguinte forma:"
   ]
  },
  {
   "cell_type": "code",
   "execution_count": 7,
   "id": "669acf12",
   "metadata": {},
   "outputs": [
    {
     "name": "stdout",
     "output_type": "stream",
     "text": [
      "0 Mary\n",
      "1 had\n",
      "2 a\n",
      "3 little\n",
      "4 lamb\n"
     ]
    }
   ],
   "source": [
    "a = ['Mary', 'had', 'a', 'little', 'lamb']\n",
    "for i in range(len(a)): # Len é o comprimento da lista, neste caso 5.\n",
    "    print(i, a[i])"
   ]
  },
  {
   "cell_type": "markdown",
   "id": "65e034fb",
   "metadata": {},
   "source": [
    "Na maioria dos casos, porém, é mais conveniente usar a função enumerate().\n",
    "\n",
    "Uma coisa estranha acontece se você imprime um intervalo:"
   ]
  },
  {
   "cell_type": "code",
   "execution_count": 8,
   "id": "50e33c92",
   "metadata": {},
   "outputs": [
    {
     "name": "stdout",
     "output_type": "stream",
     "text": [
      "range(0, 10)\n"
     ]
    }
   ],
   "source": [
    "print(range(10))"
   ]
  },
  {
   "cell_type": "markdown",
   "id": "1620166d",
   "metadata": {},
   "source": [
    "Em muitos aspectos, o objeto retornado pela função range() se comporta como se fosse uma lista, mas na verdade não é. É um objeto que retorna os itens sucessivos da sequência desejada quando você itera sobre a mesma, mas na verdade ele não gera a lista, economizando espaço.\n",
    "\n",
    "Dizemos que um objeto é iterável, isso é, candidato a ser alvo de uma função ou construção que espera alguma coisa capaz de retornar sucessivamente seus elementos um de cada vez. Nós vimos que o comando for é um exemplo de construção, enquanto que um exemplo de função que recebe um iterável é sum():"
   ]
  },
  {
   "cell_type": "code",
   "execution_count": 9,
   "id": "352c0c5b",
   "metadata": {},
   "outputs": [
    {
     "data": {
      "text/plain": [
       "6"
      ]
     },
     "execution_count": 9,
     "metadata": {},
     "output_type": "execute_result"
    }
   ],
   "source": [
    "sum(range(4))  # 0 + 1 + 2 + 3"
   ]
  },
  {
   "cell_type": "markdown",
   "id": "74009111",
   "metadata": {},
   "source": [
    "Mais tarde, veremos mais funções que retornam e recebem iteráveis como argumentos. Por último, você deve estar curioso sobre como pegar uma lista de um intervalo. Aqui está a solução:"
   ]
  },
  {
   "cell_type": "code",
   "execution_count": null,
   "id": "c39e947e",
   "metadata": {},
   "outputs": [],
   "source": [
    "#Para pegar uma lista de um intervalo, transforme-o em lista, através da função list()\n",
    "list(range(4)) "
   ]
  },
  {
   "cell_type": "markdown",
   "id": "44fe3748",
   "metadata": {},
   "source": [
    "O comando <font color ='Orange'> break </font>, como no C, sai imediatamente do laço de repetição mais interno, seja for ou while.\n",
    "\n",
    "Laços podem ter uma cláusula else, que é executada sempre que o laço se encerra por exaustão do iterável (no caso do for) ou quando a condição se torna falsa (no caso do while), mas nunca quando o laço é interrompido por um break. Isto é exemplificado no próximo exemplo que procura números primos:"
   ]
  },
  {
   "cell_type": "code",
   "execution_count": 10,
   "id": "96f52be7",
   "metadata": {},
   "outputs": [
    {
     "name": "stdout",
     "output_type": "stream",
     "text": [
      "2 is a prime number\n",
      "3 is a prime number\n",
      "4 equals 2 * 2\n",
      "5 is a prime number\n",
      "6 equals 2 * 3\n",
      "7 is a prime number\n",
      "8 equals 2 * 4\n",
      "9 equals 3 * 3\n"
     ]
    }
   ],
   "source": [
    "for n in range(2, 10):\n",
    "    for x in range(2, n):\n",
    "        if n % x == 0:\n",
    "            print(n, 'equals', x, '*', n//x)\n",
    "            break\n",
    "    else:\n",
    "        # loop fell through without finding a factor\n",
    "        print(n, 'is a prime number')"
   ]
  },
  {
   "cell_type": "code",
   "execution_count": 11,
   "id": "c193cdfb",
   "metadata": {},
   "outputs": [
    {
     "data": {
      "text/plain": [
       "[]"
      ]
     },
     "execution_count": 11,
     "metadata": {},
     "output_type": "execute_result"
    }
   ],
   "source": [
    "list(range(2,2))"
   ]
  },
  {
   "cell_type": "code",
   "execution_count": 12,
   "id": "3124f7e3",
   "metadata": {},
   "outputs": [
    {
     "data": {
      "text/plain": [
       "[2]"
      ]
     },
     "execution_count": 12,
     "metadata": {},
     "output_type": "execute_result"
    }
   ],
   "source": [
    "list(range(2,3))"
   ]
  },
  {
   "cell_type": "markdown",
   "id": "e3476cef",
   "metadata": {},
   "source": [
    "(Sim, o código está correto. Olhe atentamente: a cláusula else pertence ao laço for, e não ao comando if.)\n",
    "\n",
    "Quando usado em um laço, a cláusula else tem mais em comum com a cláusula else de um comando try do que com a de um comando if: a cláusula else de um comando try executa quando não ocorre exceção, e o else de um laço executa quando não ocorre um break. Para mais informações sobre comando try e exceções, veja Tratamento de exceções.\n",
    "\n",
    "A instrução <font color ='Orange'> continue </font>, também emprestada da linguagem C, continua com a próxima iteração do laço:"
   ]
  },
  {
   "cell_type": "code",
   "execution_count": 13,
   "id": "4942399f",
   "metadata": {},
   "outputs": [
    {
     "name": "stdout",
     "output_type": "stream",
     "text": [
      "Found an even number 2\n",
      "Found an odd number 3\n",
      "Found an even number 4\n",
      "Found an odd number 5\n",
      "Found an even number 6\n",
      "Found an odd number 7\n",
      "Found an even number 8\n",
      "Found an odd number 9\n"
     ]
    }
   ],
   "source": [
    "for num in range(2, 10):\n",
    "    if num % 2 == 0:\n",
    "        print(\"Found an even number\", num)\n",
    "        continue\n",
    "    print(\"Found an odd number\", num)"
   ]
  },
  {
   "cell_type": "markdown",
   "id": "a1267726",
   "metadata": {},
   "source": [
    "O comando <font color ='Orange'> pass </font> não faz nada. Pode ser usada quando a sintaxe exige um comando mas a semântica do programa não requer nenhuma ação. Por exemplo:"
   ]
  },
  {
   "cell_type": "code",
   "execution_count": null,
   "id": "bd942682",
   "metadata": {},
   "outputs": [],
   "source": [
    "while True:\n",
    "    pass  # Busy-wait for keyboard interrupt (Ctrl+C)"
   ]
  },
  {
   "cell_type": "markdown",
   "id": "0215d4ea",
   "metadata": {},
   "source": [
    "Isto é usado muitas vezes para se definir classes mínimas:"
   ]
  },
  {
   "cell_type": "code",
   "execution_count": 15,
   "id": "17023778",
   "metadata": {},
   "outputs": [],
   "source": [
    "class MyEmptyClass:\n",
    "    pass"
   ]
  },
  {
   "cell_type": "markdown",
   "id": "c3561a86",
   "metadata": {},
   "source": [
    "Outra ocasião em que o pass pode ser usado é como um substituto temporário para uma função ou bloco condicional, quando se está trabalhando com código novo, ainda indefinido, permitindo que mantenha-se o pensamento num nível mais abstrato. O pass é silenciosamente ignorado:"
   ]
  },
  {
   "cell_type": "code",
   "execution_count": 16,
   "id": "d91a3776",
   "metadata": {},
   "outputs": [],
   "source": [
    "def initlog(*args):\n",
    "    pass   # Remember to implement this!"
   ]
  },
  {
   "cell_type": "markdown",
   "id": "c6756b86",
   "metadata": {},
   "source": [
    "## <font color ='SeaGreen'> 3.4 Métodos </font>"
   ]
  },
  {
   "cell_type": "markdown",
   "id": "233434f2",
   "metadata": {},
   "source": [
    "Nós já vimos alguns exemplos de métodos quando aprendemos sobre estruturas de dados em Python. Os metódos são essencialmente funções incorporadas em objetos, por isso a sua criação utiliza proogramação orientada a objeto(OOP) e classes.\n",
    "\n",
    "Métodos permitem executar ações especificas no objeto e podem também ter argumentos, exatamente como uma função. "
   ]
  },
  {
   "cell_type": "markdown",
   "id": "87ea7c06",
   "metadata": {},
   "source": [
    "                Os métodos são executados sob a forma:\n",
    "                                                objeto.metodo(arg1,arg2,etc...)"
   ]
  },
  {
   "cell_type": "markdown",
   "id": "80391f41",
   "metadata": {},
   "source": [
    "Com o jupyter Notebook podemos ver rapidamente todos os métodos possiveis para o objeto usando a tecla TAB. Por exemplo, os métodos para o objeto lista são:\n",
    "\n",
    "                            .append             .pop              .extend             .reverse\n",
    "\n",
    "                            .count              .remove           .insert             .sort"
   ]
  },
  {
   "cell_type": "markdown",
   "id": "d4e2b35c",
   "metadata": {},
   "source": [
    "Nomedalista.teclaTAB  ->  Mostra a lista de métodos, que pode variar de acordo com o objeto (lista, tupla, dicionario, string, ...). Métodos que funcionam em uma lista podem ser diferentes, dos métodos que funcionam em uma tupla."
   ]
  },
  {
   "cell_type": "code",
   "execution_count": 18,
   "id": "f3ff44cb",
   "metadata": {},
   "outputs": [],
   "source": [
    "# Criando uma lista\n",
    "lst = [100, -2, 12, 65, 0]"
   ]
  },
  {
   "cell_type": "code",
   "execution_count": 19,
   "id": "ac9ea2c6",
   "metadata": {},
   "outputs": [],
   "source": [
    "# Usando um método do objeto lista\n",
    "lst.append(10)"
   ]
  },
  {
   "cell_type": "code",
   "execution_count": 21,
   "id": "1024df35",
   "metadata": {},
   "outputs": [
    {
     "data": {
      "text/plain": [
       "[100, -2, 12, 65, 0, 10]"
      ]
     },
     "execution_count": 21,
     "metadata": {},
     "output_type": "execute_result"
    }
   ],
   "source": [
    "# Imprimindo a lista\n",
    "lst"
   ]
  },
  {
   "cell_type": "code",
   "execution_count": 22,
   "id": "6a1b6995",
   "metadata": {},
   "outputs": [
    {
     "data": {
      "text/plain": [
       "1"
      ]
     },
     "execution_count": 22,
     "metadata": {},
     "output_type": "execute_result"
    }
   ],
   "source": [
    "# Usando um método do objeto lista\n",
    "lst.count(10)"
   ]
  },
  {
   "cell_type": "markdown",
   "id": "f1f6f644",
   "metadata": {},
   "source": [
    "Se quiser saber o que cada um dos métodos faz, pode-se usar a função help():"
   ]
  },
  {
   "cell_type": "code",
   "execution_count": 23,
   "id": "71d51594",
   "metadata": {},
   "outputs": [
    {
     "name": "stdout",
     "output_type": "stream",
     "text": [
      "Help on built-in function count:\n",
      "\n",
      "count(value, /) method of builtins.list instance\n",
      "    Return number of occurrences of value.\n",
      "\n"
     ]
    }
   ],
   "source": [
    "# A função help() explica como utilizar cada método de um objeto\n",
    "help(lst.count)"
   ]
  },
  {
   "cell_type": "markdown",
   "id": "0199946f",
   "metadata": {},
   "source": [
    "Pode-se também listar todos os metódos e atributos do objeto utilizando a função dir():"
   ]
  },
  {
   "cell_type": "code",
   "execution_count": 24,
   "id": "51762964",
   "metadata": {},
   "outputs": [
    {
     "data": {
      "text/plain": [
       "['__add__',\n",
       " '__class__',\n",
       " '__class_getitem__',\n",
       " '__contains__',\n",
       " '__delattr__',\n",
       " '__delitem__',\n",
       " '__dir__',\n",
       " '__doc__',\n",
       " '__eq__',\n",
       " '__format__',\n",
       " '__ge__',\n",
       " '__getattribute__',\n",
       " '__getitem__',\n",
       " '__gt__',\n",
       " '__hash__',\n",
       " '__iadd__',\n",
       " '__imul__',\n",
       " '__init__',\n",
       " '__init_subclass__',\n",
       " '__iter__',\n",
       " '__le__',\n",
       " '__len__',\n",
       " '__lt__',\n",
       " '__mul__',\n",
       " '__ne__',\n",
       " '__new__',\n",
       " '__reduce__',\n",
       " '__reduce_ex__',\n",
       " '__repr__',\n",
       " '__reversed__',\n",
       " '__rmul__',\n",
       " '__setattr__',\n",
       " '__setitem__',\n",
       " '__sizeof__',\n",
       " '__str__',\n",
       " '__subclasshook__',\n",
       " 'append',\n",
       " 'clear',\n",
       " 'copy',\n",
       " 'count',\n",
       " 'extend',\n",
       " 'index',\n",
       " 'insert',\n",
       " 'pop',\n",
       " 'remove',\n",
       " 'reverse',\n",
       " 'sort']"
      ]
     },
     "execution_count": 24,
     "metadata": {},
     "output_type": "execute_result"
    }
   ],
   "source": [
    "# A função dir() mostra todos os métodos e atributos de um objeto\n",
    "dir(lst)"
   ]
  },
  {
   "cell_type": "code",
   "execution_count": 25,
   "id": "a4af7a40",
   "metadata": {},
   "outputs": [],
   "source": [
    "a = 'Isso é uma string'"
   ]
  },
  {
   "cell_type": "code",
   "execution_count": 26,
   "id": "02abfc58",
   "metadata": {},
   "outputs": [
    {
     "name": "stdout",
     "output_type": "stream",
     "text": [
      "['Isso', 'é', 'uma', 'string']\n"
     ]
    }
   ],
   "source": [
    "# O método de um objeto pode ser chamado dentro de uma função, como print()\n",
    "print (a.split())"
   ]
  },
  {
   "cell_type": "markdown",
   "id": "c4357dbb",
   "metadata": {},
   "source": [
    "## <font color ='SeaGreen'> 3.4 Funções </font>"
   ]
  },
  {
   "cell_type": "markdown",
   "id": "322cb4a2",
   "metadata": {},
   "source": [
    "As funções também conhecidas por subrotinas são muito utilizadas em programação. Um dos grandes beneficios é não precisar copiar o codigo todas as vezes que precisar executar uma determinada operação. Além de deixar a leitura do codigo muito mais intuitiva."
   ]
  },
  {
   "cell_type": "markdown",
   "id": "f72fd051",
   "metadata": {},
   "source": [
    "Função é um dispositivo que agrupa um conjunto de instruções para que elas possam ser executadas mais de uma vez. Funções também permitem especificar os parâmetros que podem servir como entrada para as funções."
   ]
  },
  {
   "cell_type": "markdown",
   "id": "f98d0bb3",
   "metadata": {},
   "source": [
    "Em um nivel mais fundamental a construção de funções nos permite reutilizar codigo, sem ter que escrevê-lo novamente. Nas aulas de string utilizamos a função len() para obter o comprimento de uma string. Com as funções escrevemos o codigo uma vez e repetimos a mesma instrução, fazendo a chamada a função, quantas vezes forem necessárias."
   ]
  },
  {
   "cell_type": "markdown",
   "id": "c5831a96",
   "metadata": {},
   "source": [
    "Utilizamos a palavra def seguido do nome da função e os argumentos se necessários. Na sequência pode-se ter comentários codigos e por último tem-se o retorno desejado da função."
   ]
  },
  {
   "cell_type": "markdown",
   "id": "3a0e84db",
   "metadata": {},
   "source": [
    "      O formato geral de uma função é:\n",
    "                        \n",
    "                               def nomeDaFunção(arg1,arg2):\n",
    "                                    '''\n",
    "                                    Aqui vão os comentários,\n",
    "                                    documentando a função.\n",
    "                                    '''\n",
    "                                    <Aqui vai o seu código>\n",
    "                                    <Retorno desejado pela função>"
   ]
  },
  {
   "cell_type": "markdown",
   "id": "d1e828f1",
   "metadata": {},
   "source": [
    "Funções em Python são a forma de escrever a sua lógica em um único pacote e usa-la em diferentes lugares no seu código e quantas vezes quiser. "
   ]
  },
  {
   "cell_type": "markdown",
   "id": "ae255c0d",
   "metadata": {},
   "source": [
    "Uma função recebe como entrada: Argumentos, variáveis globais e arquivos/Streams de dados.\n",
    "\n",
    "Uma função pode conter variáveis locais, usadas apenas internamente, dentro da função. O codigo da função, então, será executado e vai gerar uma ou mais saídas que pode ser um resultado especifico, variáveis globais, arquivos e etc de acordo com a nossa necessidade. "
   ]
  },
  {
   "cell_type": "markdown",
   "id": "9464b879",
   "metadata": {},
   "source": [
    "Quando executa a definição de uma função, tem-se na memoria do computador uma função criada em PYthon. Agora pode-se usa-la através de uma chamada desta função. Contudo ao criar outra função com mesmo nome, sobescreve(como uma fita casséte), ou seja, a que foi criada primeiro deixa de existir na memoria do computador.\n",
    "\n",
    "Uma dica para o nome da função: Se for duas palavras escreve as duas concatenadas, onde a primeira letra da primeira palavra é minuscula e a primeira letra da segunda palavra é maiuscula."
   ]
  },
  {
   "cell_type": "code",
   "execution_count": 1,
   "id": "1ebd4f76",
   "metadata": {},
   "outputs": [],
   "source": [
    "# Definindo uma função\n",
    "def primeiraFunc():\n",
    "    print('Hello World')"
   ]
  },
  {
   "cell_type": "code",
   "execution_count": 2,
   "id": "ee2bdd30",
   "metadata": {},
   "outputs": [
    {
     "name": "stdout",
     "output_type": "stream",
     "text": [
      "Hello World\n"
     ]
    }
   ],
   "source": [
    "#Chama a função\n",
    "primeiraFunc()"
   ]
  },
  {
   "cell_type": "code",
   "execution_count": 3,
   "id": "a0bce52c",
   "metadata": {},
   "outputs": [],
   "source": [
    "# Definindo uma função com parâmetro\n",
    "def primeiraFunc(nome):   #Quando a função recebe o parâmetro, ela vai passar o valor para a função print.\n",
    "    print('Hello %s' %(nome)) #Utilizando placeholders"
   ]
  },
  {
   "cell_type": "code",
   "execution_count": 4,
   "id": "207be90c",
   "metadata": {},
   "outputs": [
    {
     "name": "stdout",
     "output_type": "stream",
     "text": [
      "Hello Aluno\n"
     ]
    }
   ],
   "source": [
    "primeiraFunc('Aluno')"
   ]
  },
  {
   "cell_type": "code",
   "execution_count": 15,
   "id": "ebfb0f68",
   "metadata": {},
   "outputs": [],
   "source": [
    "def funcLeitura():\n",
    "    for i in range(0, 5):\n",
    "        print(\"Número \" + str(i)) #Tem que colocar o str, para transformar em string, já que o i é inteiro."
   ]
  },
  {
   "cell_type": "code",
   "execution_count": 16,
   "id": "e258f8ed",
   "metadata": {},
   "outputs": [
    {
     "name": "stdout",
     "output_type": "stream",
     "text": [
      "Número 0\n",
      "Número 1\n",
      "Número 2\n",
      "Número 3\n",
      "Número 4\n"
     ]
    }
   ],
   "source": [
    "funcLeitura()"
   ]
  },
  {
   "cell_type": "code",
   "execution_count": 17,
   "id": "012d082a",
   "metadata": {},
   "outputs": [],
   "source": [
    "# Função para somar números\n",
    "def addNum(firstnum, secondnum):\n",
    "    print(\"Primeiro número: \" + str(firstnum))\n",
    "    print(\"Segundo número: \" + str(secondnum))\n",
    "    print(\"Soma: \", firstnum + secondnum)"
   ]
  },
  {
   "cell_type": "code",
   "execution_count": 18,
   "id": "03e1240d",
   "metadata": {
    "scrolled": true
   },
   "outputs": [
    {
     "name": "stdout",
     "output_type": "stream",
     "text": [
      "Primeiro número: 45\n",
      "Segundo número: 3\n",
      "Soma:  48\n"
     ]
    }
   ],
   "source": [
    "# Chamando a função e passando parâmetros\n",
    "addNum(45, 3)"
   ]
  },
  {
   "cell_type": "markdown",
   "id": "7c4d6687",
   "metadata": {},
   "source": [
    "### Variáveis locais e globais"
   ]
  },
  {
   "cell_type": "code",
   "execution_count": null,
   "id": "28d7ded2",
   "metadata": {},
   "outputs": [],
   "source": [
    "# Variável Global\n",
    "var_global = 10  # Esta é uma variável global\n",
    "\n",
    "def multiply(num1, num2):\n",
    "    var_global = num1 * num2  # Esta é uma variável local(existe apenas dentro da função)\n",
    "    print(var_global) #Retorno desejado pela função"
   ]
  },
  {
   "cell_type": "code",
   "execution_count": null,
   "id": "86233947",
   "metadata": {},
   "outputs": [],
   "source": [
    "multiply(5, 25)"
   ]
  },
  {
   "cell_type": "code",
   "execution_count": null,
   "id": "da42cf68",
   "metadata": {},
   "outputs": [],
   "source": [
    "#O que será impresso é o valor da global, já que fora da função não se tem controle sobre a variável de dentro.\n",
    "print(var_global) "
   ]
  },
  {
   "cell_type": "code",
   "execution_count": null,
   "id": "82a9bc52",
   "metadata": {},
   "outputs": [],
   "source": [
    "# Variável Local\n",
    "var_global = 10  # Esta é uma variável global\n",
    "def multiply(num1, num2):\n",
    "    var_local = num1 * num2   # Esta é uma variável local\n",
    "    print(var_local)"
   ]
  },
  {
   "cell_type": "code",
   "execution_count": null,
   "id": "cd6f1045",
   "metadata": {},
   "outputs": [],
   "source": [
    "multiply(5, 25)"
   ]
  },
  {
   "cell_type": "code",
   "execution_count": null,
   "id": "f2844cc4",
   "metadata": {},
   "outputs": [],
   "source": [
    "print(var_local) #A variável local só existe dentro da função."
   ]
  },
  {
   "cell_type": "markdown",
   "id": "545ce6a8",
   "metadata": {},
   "source": [
    "### Funções Built-in"
   ]
  },
  {
   "cell_type": "code",
   "execution_count": null,
   "id": "75b7b312",
   "metadata": {},
   "outputs": [],
   "source": [
    "#Retorna o valor absoluto(positivo)\n",
    "abs(-56)"
   ]
  },
  {
   "cell_type": "code",
   "execution_count": null,
   "id": "bd559c26",
   "metadata": {},
   "outputs": [],
   "source": [
    "abs(23)"
   ]
  },
  {
   "cell_type": "code",
   "execution_count": null,
   "id": "f8a60ab4",
   "metadata": {},
   "outputs": [],
   "source": [
    "#Retorna o valor booleano(verdadeiro ou falso)\n",
    "bool(0)"
   ]
  },
  {
   "cell_type": "code",
   "execution_count": null,
   "id": "9e39861a",
   "metadata": {},
   "outputs": [],
   "source": [
    "bool(1)"
   ]
  },
  {
   "cell_type": "markdown",
   "id": "54481fb4",
   "metadata": {},
   "source": [
    "### Funções str, int, float"
   ]
  },
  {
   "cell_type": "code",
   "execution_count": null,
   "id": "74fc78aa",
   "metadata": {},
   "outputs": [],
   "source": [
    "# Erro ao executar por causa da conversão, pois tem uma diferença de tipo de dados\n",
    "idade = input(\"Digite sua idade: \") #Recebe em formato string\n",
    "if idade > 13: #Comparou uma string com valor númerico\n",
    "    print(\"Você pode acessar o Facebook\")  "
   ]
  },
  {
   "cell_type": "code",
   "execution_count": null,
   "id": "156836fe",
   "metadata": {},
   "outputs": [],
   "source": [
    "# Usando a função int para converter o valor digitado\n",
    "idade = int(input(\"Digite sua idade: \"))\n",
    "if idade > 13:\n",
    "    print(\"Você pode acessar o Facebook\") "
   ]
  },
  {
   "cell_type": "code",
   "execution_count": null,
   "id": "12b062b6",
   "metadata": {},
   "outputs": [],
   "source": [
    "int(\"26\") #Converte string para valor númerico"
   ]
  },
  {
   "cell_type": "code",
   "execution_count": null,
   "id": "b8ba5276",
   "metadata": {},
   "outputs": [],
   "source": [
    "float(\"123.345\") #Converte string para valor númerico"
   ]
  },
  {
   "cell_type": "code",
   "execution_count": null,
   "id": "ded9f2de",
   "metadata": {},
   "outputs": [],
   "source": [
    "str(14) #Converte o valor noumerico para string"
   ]
  },
  {
   "cell_type": "code",
   "execution_count": null,
   "id": "2495c632",
   "metadata": {},
   "outputs": [],
   "source": [
    "len([23,34,45,46]) #Verifica o comprimento de um objeto"
   ]
  },
  {
   "cell_type": "code",
   "execution_count": null,
   "id": "d67782c3",
   "metadata": {},
   "outputs": [],
   "source": [
    "array = ['a', 'b', 'c']"
   ]
  },
  {
   "cell_type": "code",
   "execution_count": null,
   "id": "903683c2",
   "metadata": {},
   "outputs": [],
   "source": [
    "max(array)"
   ]
  },
  {
   "cell_type": "code",
   "execution_count": null,
   "id": "99085782",
   "metadata": {},
   "outputs": [],
   "source": [
    "min(array)"
   ]
  },
  {
   "cell_type": "code",
   "execution_count": null,
   "id": "8cb54f1f",
   "metadata": {},
   "outputs": [],
   "source": [
    "array = ['a', 'b', 'c', 'd', 'A', 'B', 'C', 'D']"
   ]
  },
  {
   "cell_type": "code",
   "execution_count": null,
   "id": "0b5ac2fe",
   "metadata": {},
   "outputs": [],
   "source": [
    "array"
   ]
  },
  {
   "cell_type": "code",
   "execution_count": null,
   "id": "041b5f34",
   "metadata": {},
   "outputs": [],
   "source": [
    "max(array)"
   ]
  },
  {
   "cell_type": "code",
   "execution_count": null,
   "id": "e4d83056",
   "metadata": {},
   "outputs": [],
   "source": [
    "min(array) #Por causa da codificação o valor A maiusculo é o valor minimo."
   ]
  },
  {
   "cell_type": "code",
   "execution_count": null,
   "id": "4294477d",
   "metadata": {},
   "outputs": [],
   "source": [
    "list1 = [23, 23, 34, 45]"
   ]
  },
  {
   "cell_type": "code",
   "execution_count": null,
   "id": "b45cb94b",
   "metadata": {},
   "outputs": [],
   "source": [
    "sum(list1) #Soma os valores da lista"
   ]
  },
  {
   "cell_type": "markdown",
   "id": "ce3ef772",
   "metadata": {},
   "source": [
    "### Criando funções usando outras funções"
   ]
  },
  {
   "cell_type": "code",
   "execution_count": null,
   "id": "784dfa3f",
   "metadata": {},
   "outputs": [],
   "source": [
    "import math #Importou esse pacote(é um pacote de matemática). Um pacote possui um conjunto de funções.\n",
    "\n",
    "def numPrimo(num):\n",
    "    '''\n",
    "    Verificando se um número \n",
    "    é primo. \n",
    "    '''\n",
    "    if (num % 2) == 0 and num > 2: \n",
    "        return \"Este número não é primo\"\n",
    "    for i in range(3, int(math.sqrt(num)) + 1, 2):\n",
    "        if (num % i) == 0:\n",
    "            return \"Este número não é primo\"\n",
    "    return \"Este número é primo\""
   ]
  },
  {
   "cell_type": "code",
   "execution_count": null,
   "id": "e2959839",
   "metadata": {},
   "outputs": [],
   "source": [
    "numPrimo(541)"
   ]
  },
  {
   "cell_type": "code",
   "execution_count": null,
   "id": "335ba3c2",
   "metadata": {},
   "outputs": [],
   "source": [
    "list(range(3, int(math.sqrt(541)) + 1, 2)) #não entrou no if dentro do for"
   ]
  },
  {
   "cell_type": "code",
   "execution_count": null,
   "id": "5e0e820c",
   "metadata": {},
   "outputs": [],
   "source": [
    "numPrimo(9)"
   ]
  },
  {
   "cell_type": "markdown",
   "id": "45259973",
   "metadata": {},
   "source": [
    "### Fazendo split dos dados"
   ]
  },
  {
   "cell_type": "code",
   "execution_count": null,
   "id": "4bc48dca",
   "metadata": {},
   "outputs": [],
   "source": [
    "# Fazendo split dos dados #Com uma função dentro de outra função (___.split())\n",
    "def split_string(text):\n",
    "    return text.split(\" \")  #Divide o texto por espaços, criando uma lista."
   ]
  },
  {
   "cell_type": "code",
   "execution_count": null,
   "id": "4d069990",
   "metadata": {},
   "outputs": [],
   "source": [
    "texto = \"Esta função será bastante útil para separar grandes volumes de dados.\""
   ]
  },
  {
   "cell_type": "code",
   "execution_count": null,
   "id": "1859f44e",
   "metadata": {},
   "outputs": [],
   "source": [
    "# Isso divide a string em uma lista.\n",
    "print(split_string(texto))"
   ]
  },
  {
   "cell_type": "code",
   "execution_count": null,
   "id": "6c067f56",
   "metadata": {},
   "outputs": [],
   "source": [
    "# Podemos atribuir o output de uma função, para uma variável #Pode salvar o resultado em uma variável.\n",
    "token = split_string(texto)"
   ]
  },
  {
   "cell_type": "code",
   "execution_count": null,
   "id": "5cdf3d35",
   "metadata": {},
   "outputs": [],
   "source": [
    "token"
   ]
  },
  {
   "cell_type": "code",
   "execution_count": null,
   "id": "a4d2b544",
   "metadata": {},
   "outputs": [],
   "source": [
    "caixa_baixa = \"Este Texto Deveria Estar Todo Em LowerCase\""
   ]
  },
  {
   "cell_type": "code",
   "execution_count": null,
   "id": "4d8779da",
   "metadata": {},
   "outputs": [],
   "source": [
    "#Com uma função dentro de outra função (___.lower())\n",
    "def lowercase(text):\n",
    "    return text.lower() #Coverte tudo para minusculo"
   ]
  },
  {
   "cell_type": "code",
   "execution_count": null,
   "id": "6658986e",
   "metadata": {},
   "outputs": [],
   "source": [
    "lowercased_string = lowercase(caixa_baixa)"
   ]
  },
  {
   "cell_type": "code",
   "execution_count": null,
   "id": "09913ddb",
   "metadata": {},
   "outputs": [],
   "source": [
    "lowercased_string"
   ]
  },
  {
   "cell_type": "code",
   "execution_count": null,
   "id": "75737368",
   "metadata": {},
   "outputs": [],
   "source": [
    "# Funções com número variável de argumentos #Quando não se sabe quantos parâmetros irá passar para a função\n",
    "#A decisão de n° de arg será em tempo de execução, ao invés de determinar um unico arg determina-se uma possivel sequencia, colocando *\n",
    "# O * indica um conjunto\n",
    "def printVarInfo( arg1, *vartuple ):\n",
    "   # Imprimindo o valor do primeiro argumento\n",
    "    print (\"O parâmetro passado foi: \", arg1)\n",
    "   \n",
    "   # Imprimindo o valor do segundo argumento \n",
    "    for item in vartuple:\n",
    "        print (\"O parâmetro passado foi: \", item)\n",
    "    return;"
   ]
  },
  {
   "cell_type": "code",
   "execution_count": null,
   "id": "42c63aee",
   "metadata": {},
   "outputs": [],
   "source": [
    "# Fazendo chamada à função usando apenas 1 argumento\n",
    "printVarInfo(10)"
   ]
  },
  {
   "cell_type": "code",
   "execution_count": null,
   "id": "aab3b7c3",
   "metadata": {},
   "outputs": [],
   "source": [
    "printVarInfo('Chocolate', 'Morango', 'Banana')"
   ]
  },
  {
   "cell_type": "markdown",
   "id": "863fe165",
   "metadata": {},
   "source": [
    "## <font color ='SeaGreen'> 3.5 Expressões Lambda </font>"
   ]
  },
  {
   "cell_type": "markdown",
   "id": "cd6cafca",
   "metadata": {},
   "source": [
    "Python nos oferece um tipo especial de função que é muito flexivel e muito util em diversas situações que é conhecido como função in-line, função anõnima ou apenas expressão lambda."
   ]
  },
  {
   "cell_type": "markdown",
   "id": "b8938198",
   "metadata": {},
   "source": [
    "Expressões lambda nos permite criar funções \"anônimas\". Isso significa que podemos fazer rapidamente funções ad-hoc(criadas em tempo de execução) sem a necessidade de definir uma função usando a palavra reservada def.\n",
    "\n",
    "Objetos de função desenvolvidos executando expressões lambda funcionam exatamente da mesma forma como aqueles criados e atribuidos pela palavra reservada def. Mas há algumas diferenças fundamentais que fazem lambda útil em funções especializadas:\n",
    "1. O corpo do lambda é uma única expressão, não um bloco de instruções.\n",
    "2. O corpo do lambda é semelhante a uma instrução de retorno do corpo def."
   ]
  },
  {
   "cell_type": "markdown",
   "id": "6f194c8d",
   "metadata": {},
   "source": [
    "Expressões lambda realmente são uteis, quando usadas em conjunto com as funções map(), filter() e reduce().\n",
    "\n",
    "Expressões lambda são usadas para criar funções simples. Como:"
   ]
  },
  {
   "cell_type": "markdown",
   "id": "7810d52e",
   "metadata": {},
   "source": [
    "                                                    lambda x: x**2"
   ]
  },
  {
   "cell_type": "markdown",
   "id": "c8b64b5d",
   "metadata": {},
   "source": [
    "Diferença entre def e lambda para criar funções:\n",
    "\n",
    "def -> cria um objeto e atribui um nome a ele(nome da função).\n",
    "\n",
    "lambda -> cria um objeto, mas retorna como resultado em tempo de execução."
   ]
  },
  {
   "cell_type": "code",
   "execution_count": null,
   "id": "61000b22",
   "metadata": {},
   "outputs": [],
   "source": [
    "# Definindo uma função - 3 linhas de código\n",
    "def potencia(num):\n",
    "    result = num**2 #bloco de instruções\n",
    "    return result"
   ]
  },
  {
   "cell_type": "code",
   "execution_count": null,
   "id": "a9a6371d",
   "metadata": {},
   "outputs": [],
   "source": [
    "potencia(5)"
   ]
  },
  {
   "cell_type": "code",
   "execution_count": null,
   "id": "4d75ec6e",
   "metadata": {},
   "outputs": [],
   "source": [
    "# Definindo uma função - 2 linhas de código\n",
    "def potencia(num):\n",
    "    return num**2"
   ]
  },
  {
   "cell_type": "code",
   "execution_count": null,
   "id": "06fb5573",
   "metadata": {},
   "outputs": [],
   "source": [
    "potencia(5)"
   ]
  },
  {
   "cell_type": "code",
   "execution_count": null,
   "id": "c674bfd5",
   "metadata": {},
   "outputs": [],
   "source": [
    "# Definindo uma função - 1 linha de código\n",
    "def potencia(num): return num**2"
   ]
  },
  {
   "cell_type": "code",
   "execution_count": null,
   "id": "26112a52",
   "metadata": {},
   "outputs": [],
   "source": [
    "potencia(5)"
   ]
  },
  {
   "cell_type": "code",
   "execution_count": null,
   "id": "b4f60cf0",
   "metadata": {},
   "outputs": [],
   "source": [
    "# Definindo uma expressão lambda\n",
    "potencia = lambda num: num**2"
   ]
  },
  {
   "cell_type": "code",
   "execution_count": null,
   "id": "324d85eb",
   "metadata": {},
   "outputs": [],
   "source": [
    "potencia(5)"
   ]
  },
  {
   "cell_type": "code",
   "execution_count": null,
   "id": "1baa14dc",
   "metadata": {},
   "outputs": [],
   "source": [
    "# Lembre: operadores de comparação retornam boolean, true or false\n",
    "Par = lambda x: x%2==0"
   ]
  },
  {
   "cell_type": "code",
   "execution_count": null,
   "id": "ab13c7e5",
   "metadata": {},
   "outputs": [],
   "source": [
    "Par(3)"
   ]
  },
  {
   "cell_type": "code",
   "execution_count": null,
   "id": "fe848241",
   "metadata": {},
   "outputs": [],
   "source": [
    "Par(4)"
   ]
  },
  {
   "cell_type": "code",
   "execution_count": null,
   "id": "60b3d82a",
   "metadata": {},
   "outputs": [],
   "source": [
    "first = lambda s: s[0]"
   ]
  },
  {
   "cell_type": "code",
   "execution_count": null,
   "id": "90a26805",
   "metadata": {},
   "outputs": [],
   "source": [
    "first('Python')"
   ]
  },
  {
   "cell_type": "code",
   "execution_count": null,
   "id": "adab994f",
   "metadata": {},
   "outputs": [],
   "source": [
    "reverso = lambda s: s[::-1]"
   ]
  },
  {
   "cell_type": "code",
   "execution_count": null,
   "id": "4eee5355",
   "metadata": {},
   "outputs": [],
   "source": [
    "reverso('Python')"
   ]
  },
  {
   "cell_type": "code",
   "execution_count": null,
   "id": "ccc9f862",
   "metadata": {},
   "outputs": [],
   "source": [
    "addNum = lambda x,y : x+y"
   ]
  },
  {
   "cell_type": "code",
   "execution_count": null,
   "id": "2a0758c2",
   "metadata": {},
   "outputs": [],
   "source": [
    "addNum(2,3)"
   ]
  },
  {
   "cell_type": "markdown",
   "id": "3f59c6d3",
   "metadata": {},
   "source": [
    "## <font color ='DarkMagenta'> Resumão  </font>"
   ]
  },
  {
   "cell_type": "code",
   "execution_count": null,
   "id": "3a7a9715",
   "metadata": {},
   "outputs": [],
   "source": [
    "# Fibonacci series:\n",
    "# the sum of two elements defines the next\n",
    "a, b = 0, 1\n",
    "print(a)\n",
    "print(b)\n"
   ]
  },
  {
   "cell_type": "code",
   "execution_count": null,
   "id": "9ff58088",
   "metadata": {},
   "outputs": [],
   "source": [
    "while a < 10:\n",
    "    print(a)\n",
    "    a, b = b, a+b"
   ]
  }
 ],
 "metadata": {
  "kernelspec": {
   "display_name": "Python 3 (ipykernel)",
   "language": "python",
   "name": "python3"
  },
  "language_info": {
   "codemirror_mode": {
    "name": "ipython",
    "version": 3
   },
   "file_extension": ".py",
   "mimetype": "text/x-python",
   "name": "python",
   "nbconvert_exporter": "python",
   "pygments_lexer": "ipython3",
   "version": "3.9.7"
  }
 },
 "nbformat": 4,
 "nbformat_minor": 5
}
