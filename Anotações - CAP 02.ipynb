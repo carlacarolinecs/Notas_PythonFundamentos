{
 "cells": [
  {
   "cell_type": "markdown",
   "id": "be3b9643",
   "metadata": {},
   "source": [
    "# <font color ='red'> Testando o Jupyter Notbook. </font>"
   ]
  },
  {
   "cell_type": "markdown",
   "id": "d5d32b5f",
   "metadata": {},
   "source": [
    "# <font color ='DarkGreen'> Capitulo 2 </font>"
   ]
  },
  {
   "cell_type": "markdown",
   "id": "61edafa2",
   "metadata": {},
   "source": [
    "### <font color ='black'> Tomando Nota... </font> "
   ]
  },
  {
   "cell_type": "markdown",
   "id": "9a68f673",
   "metadata": {},
   "source": [
    "Comentários colaca-se entre 3 aspas duplas \"\"\"...\"\"\" ou com um # no inicio, quando o formato é code. Contudo, quando é Markdown, só basta digitar, utilizando # apenas para titulos."
   ]
  },
  {
   "cell_type": "markdown",
   "id": "e23d02eb",
   "metadata": {},
   "source": [
    " Quando você coloca esse codigo: <font color ='red'> Testando o Jupyter Notbook. </font>, que é html, tornasse possivel a alteração da cor e quando ele se encontra após # vira titulo, onde a quantidade de asteriscos define a hierarquia e o tamanho da letra.  \n",
    " Isso se tratando do formato Markdown "
   ]
  },
  {
   "cell_type": "markdown",
   "id": "57c266c6",
   "metadata": {},
   "source": [
    "Se quiser executar o codigo, tecle no sinal de play ao lado da celula, o mesmo também se encontra no menu, acompanhado com o nome Run. \n",
    "Outra maneira de executar o comando é apertando em shift e depois em enter."
   ]
  },
  {
   "cell_type": "markdown",
   "id": "77c83066",
   "metadata": {},
   "source": [
    "Para limpar os resultados aperte em Kermel e logo após em Restart & Clear Output; Se você quiser executar tudo de uma vez aperte em Kermel e logo após em Restart & Run all"
   ]
  },
  {
   "cell_type": "markdown",
   "id": "c3050cfd",
   "metadata": {},
   "source": [
    "Adicionar células = O + no canto esquerdo acrescenta outra célula, ou seja, espaços para codigo, após a celula selecionada.\n",
    "\n",
    "Excluir células = Selecione uma célula e clique na tesoura.\n",
    "\n",
    "Mover células = Selecione uma e clique na setinha para cima ou para baixo.\n",
    "\n",
    "Salvar alterações = Para salvar clique no disco de salvar.\n",
    "\n",
    "Realizar downloads = Aperta-se em file > download as > clica em um formato \n",
    "\n",
    "Renomear = Aperta-se o nome que se encontra ao lado do nome jupyter, ecreva o nome desejado e aperte enter."
   ]
  },
  {
   "cell_type": "markdown",
   "id": "7535c52c",
   "metadata": {},
   "source": [
    "## <font color ='SeaGreen'> 2.1 Números e Operações Matemáticas  </font>"
   ]
  },
  {
   "cell_type": "markdown",
   "id": "b8e639ac",
   "metadata": {},
   "source": [
    "### <font color ='black'> Operações: </font>"
   ]
  },
  {
   "cell_type": "code",
   "execution_count": null,
   "id": "ec81b8c0",
   "metadata": {},
   "outputs": [],
   "source": [
    "# Soma\n",
    "4 + 4"
   ]
  },
  {
   "cell_type": "code",
   "execution_count": null,
   "id": "aa2b906b",
   "metadata": {},
   "outputs": [],
   "source": [
    "# Subtração\n",
    "4 - 3"
   ]
  },
  {
   "cell_type": "code",
   "execution_count": null,
   "id": "16e81972",
   "metadata": {},
   "outputs": [],
   "source": [
    "# Multiplicação\n",
    "3 * 3"
   ]
  },
  {
   "cell_type": "code",
   "execution_count": null,
   "id": "d442d172",
   "metadata": {},
   "outputs": [],
   "source": [
    "# Divisão\n",
    "3 / 2"
   ]
  },
  {
   "cell_type": "code",
   "execution_count": null,
   "id": "a594aa36",
   "metadata": {},
   "outputs": [],
   "source": [
    "# Potência\n",
    "4 ** 2 "
   ]
  },
  {
   "cell_type": "code",
   "execution_count": null,
   "id": "9988147d",
   "metadata": {},
   "outputs": [],
   "source": [
    "# Módulo (é o resto da divisão)\n",
    "10 % 3  "
   ]
  },
  {
   "cell_type": "markdown",
   "id": "9ac1e743",
   "metadata": {},
   "source": [
    "### <font color ='black'> Função Type: </font>"
   ]
  },
  {
   "cell_type": "code",
   "execution_count": null,
   "id": "215d3bdd",
   "metadata": {},
   "outputs": [],
   "source": [
    "#Verifica-se o tipo do parâmetro\n",
    "type(5)"
   ]
  },
  {
   "cell_type": "code",
   "execution_count": null,
   "id": "8cb69449",
   "metadata": {},
   "outputs": [],
   "source": [
    "type(5.0)"
   ]
  },
  {
   "cell_type": "code",
   "execution_count": null,
   "id": "4e54e36a",
   "metadata": {},
   "outputs": [],
   "source": [
    "a = 'Eu sou uma string' # O igual sozinho é um simbolo de atribuição\n",
    "type(a)"
   ]
  },
  {
   "cell_type": "markdown",
   "id": "d04b7bf6",
   "metadata": {},
   "source": [
    "### <font color ='black'> Operações com números float(fracionarios): </font>\n",
    "\n"
   ]
  },
  {
   "cell_type": "code",
   "execution_count": null,
   "id": "77021488",
   "metadata": {},
   "outputs": [],
   "source": [
    "3.1 + 6.4"
   ]
  },
  {
   "cell_type": "code",
   "execution_count": null,
   "id": "f360c942",
   "metadata": {},
   "outputs": [],
   "source": [
    "4 + 4.0"
   ]
  },
  {
   "cell_type": "code",
   "execution_count": null,
   "id": "89bde068",
   "metadata": {},
   "outputs": [],
   "source": [
    "4 + 4"
   ]
  },
  {
   "cell_type": "code",
   "execution_count": null,
   "id": "5bc4632f",
   "metadata": {},
   "outputs": [],
   "source": [
    "# Resultado é um número float(esse é o padrão do resultado da divisão de 2 números inteiros)\n",
    "4 / 2"
   ]
  },
  {
   "cell_type": "code",
   "execution_count": null,
   "id": "a57bf66a",
   "metadata": {},
   "outputs": [],
   "source": [
    "# Resultado é um número inteiro(se quiser mudar o padrão adicionasse mais uma barra)\n",
    "4 // 2"
   ]
  },
  {
   "cell_type": "code",
   "execution_count": null,
   "id": "f3ca53fe",
   "metadata": {},
   "outputs": [],
   "source": [
    "4 / 3.0"
   ]
  },
  {
   "cell_type": "code",
   "execution_count": null,
   "id": "02eb61c4",
   "metadata": {},
   "outputs": [],
   "source": [
    "# Ainda retorna um número float porque a divisão foi por um número float\n",
    "4 // 3.0"
   ]
  },
  {
   "cell_type": "markdown",
   "id": "f63cd37f",
   "metadata": {},
   "source": [
    "### <font color ='black'> Converter: </font>"
   ]
  },
  {
   "cell_type": "code",
   "execution_count": null,
   "id": "d4ffb29c",
   "metadata": {},
   "outputs": [],
   "source": [
    "#Converte o número inteiro em float\n",
    "float(9)"
   ]
  },
  {
   "cell_type": "code",
   "execution_count": null,
   "id": "48150780",
   "metadata": {},
   "outputs": [],
   "source": [
    "#Converte o número fracionário em inteiro\n",
    "int(6.0)"
   ]
  },
  {
   "cell_type": "code",
   "execution_count": null,
   "id": "bada2a15",
   "metadata": {},
   "outputs": [],
   "source": [
    "#Ele não arredonda ele trunca. Ele está apenas coletando a parte inteira desse valor.\n",
    "int(6.5)"
   ]
  },
  {
   "cell_type": "markdown",
   "id": "e16dba03",
   "metadata": {},
   "source": [
    "### <font color ='black'> Hexadecimal e binário </font>"
   ]
  },
  {
   "cell_type": "code",
   "execution_count": null,
   "id": "035116f6",
   "metadata": {},
   "outputs": [],
   "source": [
    "hex(394)"
   ]
  },
  {
   "cell_type": "code",
   "execution_count": null,
   "id": "027ecf5d",
   "metadata": {},
   "outputs": [],
   "source": [
    "hex(217)"
   ]
  },
  {
   "cell_type": "code",
   "execution_count": null,
   "id": "09d37f71",
   "metadata": {},
   "outputs": [],
   "source": [
    "bin(286)"
   ]
  },
  {
   "cell_type": "code",
   "execution_count": null,
   "id": "d34c54e6",
   "metadata": {},
   "outputs": [],
   "source": [
    "bin(390)"
   ]
  },
  {
   "cell_type": "markdown",
   "id": "03be9309",
   "metadata": {},
   "source": [
    "### Funções abs, round e pow"
   ]
  },
  {
   "cell_type": "code",
   "execution_count": null,
   "id": "0bea8436",
   "metadata": {},
   "outputs": [],
   "source": [
    "# Retorna o valor absoluto\n",
    "abs(-8)"
   ]
  },
  {
   "cell_type": "code",
   "execution_count": null,
   "id": "7260ee18",
   "metadata": {},
   "outputs": [],
   "source": [
    "# Retorna o valor absoluto\n",
    "abs(8)"
   ]
  },
  {
   "cell_type": "code",
   "execution_count": null,
   "id": "2b5f83d7",
   "metadata": {},
   "outputs": [],
   "source": [
    "# Retorna o valor com arredondamento (2 é o valor de casa decimais após a virgula)\n",
    "round(3.14151922,2)"
   ]
  },
  {
   "cell_type": "code",
   "execution_count": null,
   "id": "22e1761b",
   "metadata": {},
   "outputs": [],
   "source": [
    "# Potência (4 elevado a 2)\n",
    "pow(4,2)"
   ]
  },
  {
   "cell_type": "code",
   "execution_count": null,
   "id": "8bed0872",
   "metadata": {},
   "outputs": [],
   "source": [
    "# Potência\n",
    "pow(5,3)"
   ]
  },
  {
   "cell_type": "markdown",
   "id": "3c88a90d",
   "metadata": {},
   "source": [
    "## <font color ='SeaGreen'> 2.2 Variáveis e Operadores </font>"
   ]
  },
  {
   "cell_type": "markdown",
   "id": "e6dc72c3",
   "metadata": {},
   "source": [
    "### Tomando nota..."
   ]
  },
  {
   "cell_type": "markdown",
   "id": "812a59d2",
   "metadata": {},
   "source": [
    "Variáveis são espaços em memoria que armazenam valores. Como, por exemplo, b = 10. O sinal de = atribui o valor à direita à variável do lado esquerdo. "
   ]
  },
  {
   "cell_type": "code",
   "execution_count": null,
   "id": "aeed1077",
   "metadata": {},
   "outputs": [],
   "source": [
    "# Atribuindo o valor 1 à variável var_teste\n",
    "var_teste = 1"
   ]
  },
  {
   "cell_type": "markdown",
   "id": "839efb48",
   "metadata": {},
   "source": [
    "A função print() em python irá imprimir valores na tela. Por exemplo: print(10) imprime na tela o valor 10. Já print(b), imprime na tela o valor da variável b, que nesse caso é 10. No caso da variável, também é possivel imprimir na tela sem utilizar a função print, colocando apenas o nome da variável, sendo só é possivel fazer isso se ela foi previamente definida."
   ]
  },
  {
   "cell_type": "code",
   "execution_count": null,
   "id": "cb12e1c6",
   "metadata": {},
   "outputs": [],
   "source": [
    "# Imprimindo o valor da variável\n",
    "print(var_teste)"
   ]
  },
  {
   "cell_type": "code",
   "execution_count": null,
   "id": "5217bbdc",
   "metadata": {},
   "outputs": [],
   "source": [
    "# Imprimindo o valor da variável\n",
    "var_teste"
   ]
  },
  {
   "cell_type": "code",
   "execution_count": null,
   "id": "00ae3016",
   "metadata": {},
   "outputs": [],
   "source": [
    "# Não podemos utilizar uma variável que não foi definida. Veja a mensagem de erro.\n",
    "my_var"
   ]
  },
  {
   "cell_type": "markdown",
   "id": "6f5253da",
   "metadata": {},
   "source": [
    "Você pode sobrescrever a variável com um novo valor sempre que quiser. A variável assumirá um valor novo."
   ]
  },
  {
   "cell_type": "code",
   "execution_count": null,
   "id": "1a7e08b8",
   "metadata": {},
   "outputs": [],
   "source": [
    "var_teste = 2"
   ]
  },
  {
   "cell_type": "code",
   "execution_count": null,
   "id": "272d17ba",
   "metadata": {},
   "outputs": [],
   "source": [
    "var_teste"
   ]
  },
  {
   "cell_type": "markdown",
   "id": "8d46f285",
   "metadata": {},
   "source": [
    "Também pode-se descobrir o tipo da variável utilizando a função type:"
   ]
  },
  {
   "cell_type": "code",
   "execution_count": null,
   "id": "0fa8aa01",
   "metadata": {},
   "outputs": [],
   "source": [
    "type(var_teste)"
   ]
  },
  {
   "cell_type": "code",
   "execution_count": null,
   "id": "03e9cb82",
   "metadata": {},
   "outputs": [],
   "source": [
    "var_teste = 9.5"
   ]
  },
  {
   "cell_type": "code",
   "execution_count": null,
   "id": "30ea9aa9",
   "metadata": {},
   "outputs": [],
   "source": [
    "type(var_teste)"
   ]
  },
  {
   "cell_type": "markdown",
   "id": "e336e0c8",
   "metadata": {},
   "source": [
    "O nome da variável não precisa ser uma palavra pode ser apenas uma letra."
   ]
  },
  {
   "cell_type": "code",
   "execution_count": null,
   "id": "7e4cf498",
   "metadata": {},
   "outputs": [],
   "source": [
    "x = 1"
   ]
  },
  {
   "cell_type": "code",
   "execution_count": null,
   "id": "34236487",
   "metadata": {},
   "outputs": [],
   "source": [
    "x"
   ]
  },
  {
   "cell_type": "markdown",
   "id": "d761414d",
   "metadata": {},
   "source": [
    "### Declaração multipla"
   ]
  },
  {
   "cell_type": "code",
   "execution_count": null,
   "id": "1dc64b2f",
   "metadata": {},
   "outputs": [],
   "source": [
    "#Atribuindo valores diferentes para cada variável simultaneamente\n",
    "pessoa1, pessoa2, pessoa3 = \"Maria\", \"José\", \"Tobias\""
   ]
  },
  {
   "cell_type": "code",
   "execution_count": null,
   "id": "abe72909",
   "metadata": {},
   "outputs": [],
   "source": [
    "pessoa1"
   ]
  },
  {
   "cell_type": "code",
   "execution_count": null,
   "id": "6c6ec9f4",
   "metadata": {},
   "outputs": [],
   "source": [
    "pessoa2"
   ]
  },
  {
   "cell_type": "code",
   "execution_count": null,
   "id": "8a09bb0a",
   "metadata": {},
   "outputs": [],
   "source": [
    "pessoa3"
   ]
  },
  {
   "cell_type": "code",
   "execution_count": null,
   "id": "db4971dd",
   "metadata": {},
   "outputs": [],
   "source": [
    "#Atribuindo um mesmo valor para variaveis diferentes simultaneamente\n",
    "fruta1 = fruta2 = fruta3 = \"Laranja\""
   ]
  },
  {
   "cell_type": "code",
   "execution_count": null,
   "id": "254622e5",
   "metadata": {},
   "outputs": [],
   "source": [
    "fruta1"
   ]
  },
  {
   "cell_type": "code",
   "execution_count": null,
   "id": "90059b0b",
   "metadata": {},
   "outputs": [],
   "source": [
    "fruta2"
   ]
  },
  {
   "cell_type": "code",
   "execution_count": null,
   "id": "1ccf5cff",
   "metadata": {},
   "outputs": [],
   "source": [
    "fruta3"
   ]
  },
  {
   "cell_type": "code",
   "execution_count": null,
   "id": "82a2d29c",
   "metadata": {},
   "outputs": [],
   "source": [
    "# Fique atento!!! Python é case-sensitive. Criamos a variável fruta2, mas não a variável Fruta2.\n",
    "# Letras maiúsculas e minúsculas tem diferença no nome da variável.\n",
    "Fruta2"
   ]
  },
  {
   "cell_type": "markdown",
   "id": "ac5bcf7c",
   "metadata": {},
   "source": [
    "### Regras de nomeclatura"
   ]
  },
  {
   "cell_type": "markdown",
   "id": "ede8ad4d",
   "metadata": {},
   "source": [
    "Existem algumas regras que devem ser seguidas ao definir nomes de variáveis:\n",
    "1. Os nomes de variáveis não devem começar com número;\n",
    "2. Não pode haver espaços no nome; Utilize _ em vez disso.\n",
    "3. Não é possivel usar qualquer um desses simbolos \"\" , < > \\ | / ( ) @ # % ^ & * ~ - + ! $\n",
    "4. Não se pode usar palavras reservadas como nome de variavel. Palavras como:\n",
    "\n",
    "false; class; finally; is; return; none; continue; for; lambda; try; true; def; from; nonlocal; while; and; del; global; not; with; in; as; elif; if; or; yield; assert; else; import; pass; break; raise."
   ]
  },
  {
   "cell_type": "markdown",
   "id": "b5d12816",
   "metadata": {},
   "source": [
    "Palavras reservadas são palavras utilizadas pelo interpretador do python para reconhecer que aquilo é um comando python."
   ]
  },
  {
   "cell_type": "code",
   "execution_count": null,
   "id": "6b2e4be2",
   "metadata": {},
   "outputs": [],
   "source": [
    "# Pode-se usar letras, números e underline (mas não se pode começar com números)\n",
    "x1 = 50"
   ]
  },
  {
   "cell_type": "code",
   "execution_count": null,
   "id": "d1816f26",
   "metadata": {},
   "outputs": [],
   "source": [
    "x1"
   ]
  },
  {
   "cell_type": "code",
   "execution_count": null,
   "id": "e36cdb3c",
   "metadata": {},
   "outputs": [],
   "source": [
    "# Mensagem de erro (sintaxe invalida), pois o Python não permite nomes de variáveis que iniciem com números\n",
    "1x = 50"
   ]
  },
  {
   "cell_type": "code",
   "execution_count": null,
   "id": "b9471905",
   "metadata": {},
   "outputs": [],
   "source": [
    "# Não podemos usar palavras reservadas como nome de variável\n",
    "break = 1"
   ]
  },
  {
   "cell_type": "markdown",
   "id": "623ce704",
   "metadata": {},
   "source": [
    "### Equações com variáveis"
   ]
  },
  {
   "cell_type": "markdown",
   "id": "3a9d9780",
   "metadata": {},
   "source": [
    "Variáveis atribuídas a outras variáveis e ordem dos operadores"
   ]
  },
  {
   "cell_type": "code",
   "execution_count": null,
   "id": "527e7298",
   "metadata": {},
   "outputs": [],
   "source": [
    "largura = 2"
   ]
  },
  {
   "cell_type": "code",
   "execution_count": null,
   "id": "3027e1f4",
   "metadata": {},
   "outputs": [],
   "source": [
    "altura = 4"
   ]
  },
  {
   "cell_type": "code",
   "execution_count": null,
   "id": "4f191c05",
   "metadata": {},
   "outputs": [],
   "source": [
    "#Pode-se utilizar variaveis em operações matemáticas\n",
    "area = largura * altura"
   ]
  },
  {
   "cell_type": "code",
   "execution_count": null,
   "id": "4e0df056",
   "metadata": {},
   "outputs": [],
   "source": [
    "area"
   ]
  },
  {
   "cell_type": "code",
   "execution_count": null,
   "id": "1ae11a90",
   "metadata": {},
   "outputs": [],
   "source": [
    "#Pode-se utilizar operações matemáticas entre valores númericos e variaveis\n",
    "perimetro = 2 * largura + 2 * altura"
   ]
  },
  {
   "cell_type": "code",
   "execution_count": null,
   "id": "252ec0cc",
   "metadata": {},
   "outputs": [],
   "source": [
    "perimetro"
   ]
  },
  {
   "cell_type": "code",
   "execution_count": null,
   "id": "3759e0f1",
   "metadata": {},
   "outputs": [],
   "source": [
    "# A ordem dos operadores é a mesma seguida na Matemática\n",
    "perimetro = 2 * (largura + 2)  * altura"
   ]
  },
  {
   "cell_type": "code",
   "execution_count": null,
   "id": "1dd03667",
   "metadata": {},
   "outputs": [],
   "source": [
    "perimetro"
   ]
  },
  {
   "cell_type": "markdown",
   "id": "34cce19a",
   "metadata": {},
   "source": [
    "Adicionando uma imagem. Tentando, pelo menos....\n",
    "<br>\n",
    "<img src=\"IM1.png\">\n",
    "<br>"
   ]
  },
  {
   "cell_type": "markdown",
   "id": "960bf943",
   "metadata": {},
   "source": [
    "### Concatenação de variáveis"
   ]
  },
  {
   "cell_type": "code",
   "execution_count": null,
   "id": "e4a9fdcf",
   "metadata": {},
   "outputs": [],
   "source": [
    "nome = \"Steve\""
   ]
  },
  {
   "cell_type": "code",
   "execution_count": null,
   "id": "d9f4f0c1",
   "metadata": {},
   "outputs": [],
   "source": [
    "sobrenome = \"Jobs\""
   ]
  },
  {
   "cell_type": "code",
   "execution_count": null,
   "id": "10d75279",
   "metadata": {},
   "outputs": [],
   "source": [
    "# O sinal de mais nesta equação não reppresenta soma, mas sim uma concatenação, ou seja, uma união de dois nomes.\n",
    "fullName = nome + \" \" + sobrenome"
   ]
  },
  {
   "cell_type": "code",
   "execution_count": null,
   "id": "e498fd43",
   "metadata": {},
   "outputs": [],
   "source": [
    "fullName"
   ]
  },
  {
   "cell_type": "markdown",
   "id": "13c653cf",
   "metadata": {},
   "source": [
    "### Operadores"
   ]
  },
  {
   "cell_type": "markdown",
   "id": "0507620f",
   "metadata": {},
   "source": [
    "Existem 4 tipos de operadores: \n",
    "   1. Operadores aritmeticos;\n",
    "   2. Operadores relacionais;\n",
    "   3. Operadores de atribuição;\n",
    "   4. Operadores lógicos."
   ]
  },
  {
   "cell_type": "markdown",
   "id": "f4ed0cde",
   "metadata": {},
   "source": [
    "Os <font color ='orange'> operadores aritmeticos</font>, já vimos anteriormente, são utilizados para operações matemáticas. Foram utilizados no tópico operações com variáveis e no capitulo anterior."
   ]
  },
  {
   "cell_type": "code",
   "execution_count": null,
   "id": "8e01ad06",
   "metadata": {},
   "outputs": [],
   "source": [
    "idade1 = 25\n",
    "idade2 = 35"
   ]
  },
  {
   "cell_type": "code",
   "execution_count": null,
   "id": "fc575e72",
   "metadata": {},
   "outputs": [],
   "source": [
    "# Soma\n",
    "idade1 + idade2"
   ]
  },
  {
   "cell_type": "code",
   "execution_count": null,
   "id": "fa300d56",
   "metadata": {},
   "outputs": [],
   "source": [
    "# Subtração\n",
    "idade2 - idade1"
   ]
  },
  {
   "cell_type": "code",
   "execution_count": null,
   "id": "3c1bc856",
   "metadata": {},
   "outputs": [],
   "source": [
    "# Multiplicação\n",
    "idade2 * idade1"
   ]
  },
  {
   "cell_type": "code",
   "execution_count": null,
   "id": "3cf7bfd9",
   "metadata": {},
   "outputs": [],
   "source": [
    "# Divisão\n",
    "idade2 / idade1"
   ]
  },
  {
   "cell_type": "code",
   "execution_count": null,
   "id": "75744d89",
   "metadata": {},
   "outputs": [],
   "source": [
    "# Módulo (resto)\n",
    "idade2 % idade1"
   ]
  },
  {
   "cell_type": "code",
   "execution_count": null,
   "id": "e2ee167f",
   "metadata": {},
   "outputs": [],
   "source": [
    "# Potência\n",
    "idade1**2"
   ]
  },
  {
   "cell_type": "markdown",
   "id": "9ee857e6",
   "metadata": {},
   "source": [
    "Os <font color ='orange'> operadores relacionais  </font> são utilizados para fazer comparações, entre eles se encontram:\n",
    "==    !=    >    <    >=    <="
   ]
  },
  {
   "cell_type": "code",
   "execution_count": null,
   "id": "0185a480",
   "metadata": {},
   "outputs": [],
   "source": [
    "Idade_pedro=7\n",
    "Idade_joaozinho=14\n",
    "Idade_laura=7"
   ]
  },
  {
   "cell_type": "code",
   "execution_count": null,
   "id": "de971d2c",
   "metadata": {},
   "outputs": [],
   "source": [
    "#Igualdade / equivalencia ==\n",
    "Idade_pedro==Idade_joaozinho"
   ]
  },
  {
   "cell_type": "code",
   "execution_count": null,
   "id": "99640f72",
   "metadata": {},
   "outputs": [],
   "source": [
    "# Desigualdade / Inequivalencia !=\n",
    "Idade_pedro!=Idade_joaozinho"
   ]
  },
  {
   "cell_type": "code",
   "execution_count": null,
   "id": "c364bde8",
   "metadata": {},
   "outputs": [],
   "source": [
    "# Maior que >\n",
    "Idade_pedro>Idade_joaozinho"
   ]
  },
  {
   "cell_type": "code",
   "execution_count": null,
   "id": "4ced5b67",
   "metadata": {},
   "outputs": [],
   "source": [
    "# Menor que <\n",
    "Idade_pedro<Idade_joaozinho"
   ]
  },
  {
   "cell_type": "code",
   "execution_count": null,
   "id": "37787b4c",
   "metadata": {},
   "outputs": [],
   "source": [
    "# Maior que ou igual a >=\n",
    "Idade_joaozinho>=Idade_laura>=Idade_pedro"
   ]
  },
  {
   "cell_type": "code",
   "execution_count": null,
   "id": "6b2ba1a9",
   "metadata": {},
   "outputs": [],
   "source": [
    "# Menor que ou igual a <=\n",
    "Idade_pedro<=Idade_laura<=Idade_joaozinho"
   ]
  },
  {
   "cell_type": "markdown",
   "id": "fe6c3910",
   "metadata": {},
   "source": [
    "Os <font color ='orange'> operadores de atribuição  </font> possibilitam a execução, em uma unica instrução, de duas operações de forma simultânea."
   ]
  },
  {
   "cell_type": "code",
   "execution_count": null,
   "id": "9baa2c27",
   "metadata": {},
   "outputs": [],
   "source": [
    "# Atribuição\n",
    "z=10"
   ]
  },
  {
   "cell_type": "code",
   "execution_count": null,
   "id": "9d312ec7",
   "metadata": {},
   "outputs": [],
   "source": [
    "# Soma\n",
    "# z=z+10\n",
    "z+=10; z"
   ]
  },
  {
   "cell_type": "code",
   "execution_count": null,
   "id": "01c9ccc0",
   "metadata": {},
   "outputs": [],
   "source": [
    "# Subtração\n",
    "# z=z-10\n",
    "z-=10; z"
   ]
  },
  {
   "cell_type": "code",
   "execution_count": null,
   "id": "94bb50d5",
   "metadata": {},
   "outputs": [],
   "source": [
    "# Multiplicação\n",
    "# z=z*10\n",
    "z*=10; z"
   ]
  },
  {
   "cell_type": "code",
   "execution_count": null,
   "id": "489f255c",
   "metadata": {},
   "outputs": [],
   "source": [
    "# Divisão (padrão=float)\n",
    "# z=z/10\n",
    "z/=10; z"
   ]
  },
  {
   "cell_type": "code",
   "execution_count": null,
   "id": "d0390171",
   "metadata": {},
   "outputs": [],
   "source": [
    "# Módulo (Divide e pega o resto. Como z estava = a 10, então, 10/10=0)\n",
    "# z=z%10\n",
    "z%=10; z"
   ]
  },
  {
   "cell_type": "code",
   "execution_count": null,
   "id": "76276235",
   "metadata": {},
   "outputs": [],
   "source": [
    "z=10"
   ]
  },
  {
   "cell_type": "code",
   "execution_count": null,
   "id": "095e3319",
   "metadata": {},
   "outputs": [],
   "source": [
    "# Potência\n",
    "# z=z**10\n",
    "z**=10; z"
   ]
  },
  {
   "cell_type": "code",
   "execution_count": null,
   "id": "6d3fb647",
   "metadata": {},
   "outputs": [],
   "source": [
    "# Divisão inteira(se o z for float o resultado será float)\n",
    "# z=z//10\n",
    "z//=10; z"
   ]
  },
  {
   "cell_type": "markdown",
   "id": "75bef894",
   "metadata": {},
   "source": [
    "Os <font color ='orange'> operadores lógicos </font> podem ser utilizados para checar duas condições (concatena-se 2 condições)."
   ]
  },
  {
   "cell_type": "code",
   "execution_count": null,
   "id": "2bb2bb2a",
   "metadata": {},
   "outputs": [],
   "source": [
    "# Se ambos os operadores forem true, retorna-se true. (and) = e\n",
    "# (x and y) é true\n"
   ]
  },
  {
   "cell_type": "code",
   "execution_count": null,
   "id": "46cd6f4c",
   "metadata": {},
   "outputs": [],
   "source": [
    "# Se um dos operadores for true, retorna-se true. (or) = ou\n",
    "# (x or y) é true\n"
   ]
  },
  {
   "cell_type": "code",
   "execution_count": null,
   "id": "bbf4b45c",
   "metadata": {},
   "outputs": [],
   "source": [
    "# Usado para reverter o estado da logica. (not) = não\n",
    "# Se não for x e y ao mesmo tempo é falso. \n",
    "# Not(x and y) é falso\n"
   ]
  },
  {
   "cell_type": "markdown",
   "id": "0c71803a",
   "metadata": {},
   "source": [
    "## <font color ='SeaGreen'> 2.3 Strings e Indexação em Python </font>"
   ]
  },
  {
   "cell_type": "markdown",
   "id": "5d11d1df",
   "metadata": {},
   "source": [
    "### Strings"
   ]
  },
  {
   "cell_type": "markdown",
   "id": "c763152b",
   "metadata": {},
   "source": [
    "Strings são usados em Python para gravar informações em formato de texto, como nomes por exemplo."
   ]
  },
  {
   "cell_type": "markdown",
   "id": "805453a1",
   "metadata": {},
   "source": [
    "Strings em Python são na verdade uma sequência de caracteres, o que significa basicamente, que Python mantem o controle de cada elemento de sequência."
   ]
  },
  {
   "cell_type": "markdown",
   "id": "af3ca32d",
   "metadata": {},
   "source": [
    "Python entende a string \"Olá\" como sendo uma sequencia de letras em uma ordem especifica. Isso significa que você será capaz de usar a indexação para obter um caracter especifico, (como a primeira letra ou a ultima letra)."
   ]
  },
  {
   "cell_type": "markdown",
   "id": "01625387",
   "metadata": {},
   "source": [
    "Strings é uma sequencia <font color ='orange'> imutável </font> de caracteres ou apenas um caracter."
   ]
  },
  {
   "cell_type": "markdown",
   "id": "4e6d3c57",
   "metadata": {},
   "source": [
    "### Criando uma String\n",
    "Para criar uma string em Python você pode usar aspas simples ou duplas. Desta forma você pode imprimir direto na saída, sem precisar da função print(). Por exemplo:"
   ]
  },
  {
   "cell_type": "code",
   "execution_count": null,
   "id": "1ee43ca0",
   "metadata": {},
   "outputs": [],
   "source": [
    "# Uma única palavra\n",
    "'Oi'"
   ]
  },
  {
   "cell_type": "code",
   "execution_count": null,
   "id": "1be94cf3",
   "metadata": {},
   "outputs": [],
   "source": [
    "# Uma frase\n",
    "'Criando uma string em Python'"
   ]
  },
  {
   "cell_type": "code",
   "execution_count": null,
   "id": "faaa0e50",
   "metadata": {},
   "outputs": [],
   "source": [
    "# Podemos usar aspas duplas\n",
    "\"Podemos usar aspas duplas ou simples para strings em Python\""
   ]
  },
  {
   "cell_type": "code",
   "execution_count": null,
   "id": "60c563dc",
   "metadata": {},
   "outputs": [],
   "source": [
    "# Você pode combinar aspas duplas e simples\n",
    "\"Testando strings em 'Python'\""
   ]
  },
  {
   "cell_type": "markdown",
   "id": "a88a5557",
   "metadata": {},
   "source": [
    "### Imprimindo uma string"
   ]
  },
  {
   "cell_type": "code",
   "execution_count": null,
   "id": "0151c3f9",
   "metadata": {},
   "outputs": [],
   "source": [
    "print ('Testando Strings em Python')"
   ]
  },
  {
   "cell_type": "code",
   "execution_count": null,
   "id": "b2fc5017",
   "metadata": {},
   "outputs": [],
   "source": [
    "#Imprime as strings separadas por uma quebra de linha # O \\n É a tecla enter do computador\n",
    "print ('Testando \\nStrings \\nem \\nPython')"
   ]
  },
  {
   "cell_type": "code",
   "execution_count": null,
   "id": "92cc61e7",
   "metadata": {},
   "outputs": [],
   "source": [
    "# Pula uma linha \n",
    "print ('\\n')"
   ]
  },
  {
   "cell_type": "markdown",
   "id": "e7485656",
   "metadata": {},
   "source": [
    "### Indexando strings"
   ]
  },
  {
   "cell_type": "markdown",
   "id": "77b767f9",
   "metadata": {},
   "source": [
    "Já sabemos que strings são uma sequencia. Isso significa que Python pode usar indices para chamar partes da sequencia. Vamos aprender como funciona."
   ]
  },
  {
   "cell_type": "markdown",
   "id": "f3886a94",
   "metadata": {},
   "source": [
    "Em Python, usamos colchetes [] para representar o indice de um objeto. Em Phyton, a indexação começa por 0. No R começa-se por 1."
   ]
  },
  {
   "cell_type": "code",
   "execution_count": null,
   "id": "a57a0559",
   "metadata": {},
   "outputs": [],
   "source": [
    "# Atribuindo uma string\n",
    "s = 'Data Science Academy'"
   ]
  },
  {
   "cell_type": "code",
   "execution_count": null,
   "id": "d9503ed1",
   "metadata": {},
   "outputs": [],
   "source": [
    "print(s)"
   ]
  },
  {
   "cell_type": "code",
   "execution_count": null,
   "id": "77440102",
   "metadata": {},
   "outputs": [],
   "source": [
    "# Primeiro elemento da string. \n",
    "s[0]"
   ]
  },
  {
   "cell_type": "code",
   "execution_count": null,
   "id": "497e72c5",
   "metadata": {},
   "outputs": [],
   "source": [
    "s[1]"
   ]
  },
  {
   "cell_type": "code",
   "execution_count": null,
   "id": "7cca0305",
   "metadata": {},
   "outputs": [],
   "source": [
    "s[4]"
   ]
  },
  {
   "cell_type": "markdown",
   "id": "9c350bee",
   "metadata": {},
   "source": [
    "Podemos usar um : para executar um slicing(fatiamento) que faz a leitura de tudo até um ponto designado. Por exemplo:"
   ]
  },
  {
   "cell_type": "code",
   "execution_count": null,
   "id": "19d7cc5e",
   "metadata": {},
   "outputs": [],
   "source": [
    "# Retorna todos os elementos da string, começando pela posição (lembre-se que Python começa a indexação pela posição 0),\n",
    "# até o fim da string.\n",
    "s[1:]"
   ]
  },
  {
   "cell_type": "code",
   "execution_count": null,
   "id": "d0fe6c13",
   "metadata": {},
   "outputs": [],
   "source": [
    "# A string original permanece inalterada #Imutabilidade\n",
    "s"
   ]
  },
  {
   "cell_type": "code",
   "execution_count": null,
   "id": "d390fc74",
   "metadata": {},
   "outputs": [],
   "source": [
    "# Retorna tudo até a posição 3 # <3  #É exclusivo (e não inclusivo), pois não inclui o 3\n",
    "s[:3]"
   ]
  },
  {
   "cell_type": "code",
   "execution_count": null,
   "id": "983fc6fe",
   "metadata": {},
   "outputs": [],
   "source": [
    "#Retorna tudo após a posição informada e inclui o valor.\n",
    "s[-3:]"
   ]
  },
  {
   "cell_type": "code",
   "execution_count": null,
   "id": "a26ef11b",
   "metadata": {},
   "outputs": [],
   "source": [
    "# Retorna tudo\n",
    "s[:]"
   ]
  },
  {
   "cell_type": "code",
   "execution_count": null,
   "id": "2d80b45f",
   "metadata": {},
   "outputs": [],
   "source": [
    "# Nós também podemos usar a indexação negativa e ler de trás para frente.\n",
    "s[-1]"
   ]
  },
  {
   "cell_type": "code",
   "execution_count": null,
   "id": "3a8dfd28",
   "metadata": {},
   "outputs": [],
   "source": [
    "# Retornar tudo, exceto a última letra\n",
    "s[:-1]"
   ]
  },
  {
   "cell_type": "markdown",
   "id": "128f5a78",
   "metadata": {},
   "source": [
    "Nós também podemos usar a notação de índice e fatiar a string em pedaços específicos (o padrão é 1). Por exemplo, podemos usar dois pontos duas vezes em uma linha e, em seguida, um número que especifica a frequência para retornar elementos. Por exemplo:"
   ]
  },
  {
   "cell_type": "code",
   "execution_count": null,
   "id": "b6466b87",
   "metadata": {},
   "outputs": [],
   "source": [
    "#Retorna todos os caracteres saltando uma posição(no caso tudo)\n",
    "s[::1]"
   ]
  },
  {
   "cell_type": "code",
   "execution_count": null,
   "id": "6521604a",
   "metadata": {},
   "outputs": [],
   "source": [
    "#Retorna todos os caracteres saltando duas posições\n",
    "s[::2]"
   ]
  },
  {
   "cell_type": "code",
   "execution_count": null,
   "id": "92180a51",
   "metadata": {},
   "outputs": [],
   "source": [
    "# Retorna todos os caracteres saltando uma posição de tras para frente\n",
    "s[::-1]"
   ]
  },
  {
   "cell_type": "code",
   "execution_count": null,
   "id": "23e6d4cf",
   "metadata": {},
   "outputs": [],
   "source": [
    "# Retorna todos os caracteres satando duas posições de tras para frente\n",
    "s[::-2]"
   ]
  },
  {
   "cell_type": "markdown",
   "id": "caf11d3d",
   "metadata": {},
   "source": [
    "### Propriedades de strings"
   ]
  },
  {
   "cell_type": "markdown",
   "id": "d48b45da",
   "metadata": {},
   "source": [
    "É importante ressaltar que as strings têm uma importante propriedade conhecida como imutabilidade. Isso significa que uma vez criada uma string, os elementos dentro dela não podem ser substituidos ou alterados."
   ]
  },
  {
   "cell_type": "code",
   "execution_count": null,
   "id": "1041e7d4",
   "metadata": {},
   "outputs": [],
   "source": [
    "s"
   ]
  },
  {
   "cell_type": "code",
   "execution_count": null,
   "id": "f567d76d",
   "metadata": {},
   "outputs": [],
   "source": [
    "# Alterando um caracter #Propriedade da imutabilidade # Não é possivel atribuir um item dentro desta string\n",
    "s[0] = 'x'"
   ]
  },
  {
   "cell_type": "code",
   "execution_count": null,
   "id": "9a76c722",
   "metadata": {},
   "outputs": [],
   "source": [
    "# Concatenando strings (não muda s, apenas une neste resultado)\n",
    "s + ' é a melhor maneira de estar preparado para o mercado de trabalho em Ciência de Dados!'"
   ]
  },
  {
   "cell_type": "code",
   "execution_count": null,
   "id": "d9ee8429",
   "metadata": {},
   "outputs": [],
   "source": [
    "# Pode-se fazer uma concatenação e gravar na string(na propria variavel), ou seja, você não pode atribuir valores, mas pode utilizar a concatenação para adicionar strings, alterando a string.\n",
    "s = s + ' é a melhor maneira de estar preparado para o mercado de trabalho em Ciência de Dados!'"
   ]
  },
  {
   "cell_type": "code",
   "execution_count": null,
   "id": "614a5450",
   "metadata": {},
   "outputs": [],
   "source": [
    "print(s)"
   ]
  },
  {
   "cell_type": "code",
   "execution_count": null,
   "id": "2848d446",
   "metadata": {},
   "outputs": [],
   "source": [
    "# Podemos usar o símbolo de multiplicação para criar repetição!\n",
    "letra = 'w'"
   ]
  },
  {
   "cell_type": "code",
   "execution_count": null,
   "id": "a583958e",
   "metadata": {},
   "outputs": [],
   "source": [
    "letra * 3"
   ]
  },
  {
   "cell_type": "markdown",
   "id": "3b512916",
   "metadata": {},
   "source": [
    "### Funções Built-in de Strings"
   ]
  },
  {
   "cell_type": "markdown",
   "id": "a2bca7dd",
   "metadata": {},
   "source": [
    "Phyton é uma linguagem orientada a objeto, sendo assim, as estruturas dos dados possuem atributos e métodos(rotinas associadas as propriedades), tanto os atributos como os metodos são acessados usando (.)."
   ]
  },
  {
   "cell_type": "markdown",
   "id": "4e0d8508",
   "metadata": {},
   "source": [
    "Os métodos estão sob a forma: "
   ]
  },
  {
   "cell_type": "markdown",
   "id": "a3073148",
   "metadata": {},
   "source": [
    "1. objeto.atributo\n",
    "2. objeto.metodo()\n",
    "3. objeto.metodo(parâmetros)"
   ]
  },
  {
   "cell_type": "markdown",
   "id": "04ecfff6",
   "metadata": {},
   "source": [
    "Os parâmetros são argumentos extras, que podemos passar para o metodo."
   ]
  },
  {
   "cell_type": "code",
   "execution_count": null,
   "id": "1045586a",
   "metadata": {},
   "outputs": [],
   "source": [
    "s"
   ]
  },
  {
   "cell_type": "code",
   "execution_count": null,
   "id": "125495e0",
   "metadata": {},
   "outputs": [],
   "source": [
    "# Tecle s coloque um ponto e aperte na tecla tab.\n",
    "# Mostra-se uma lista de metodos e atributos que estão disponiveis para esse objeto.\n",
    "# Cada objeto em python dependendo do tipo de objeto, vai ter um conjunto de atributos e metodos que você pode escolher de acordo com a sua necessidade.\n",
    "# Se for um metodo adicione ()"
   ]
  },
  {
   "cell_type": "code",
   "execution_count": null,
   "id": "58439502",
   "metadata": {},
   "outputs": [],
   "source": [
    "# Uper case # Converte para maiusculo. \n",
    "s.upper()"
   ]
  },
  {
   "cell_type": "code",
   "execution_count": null,
   "id": "84dcd02b",
   "metadata": {},
   "outputs": [],
   "source": [
    "# Lower case # Converte para minusculo. \n",
    "s.lower()"
   ]
  },
  {
   "cell_type": "code",
   "execution_count": null,
   "id": "506cc0e5",
   "metadata": {},
   "outputs": [],
   "source": [
    "# Quando não se passa nenhum parametro você faz a divisão por espaços em branco que é o padrão.\n",
    "s.split()"
   ]
  },
  {
   "cell_type": "code",
   "execution_count": null,
   "id": "c8167248",
   "metadata": {},
   "outputs": [],
   "source": [
    "# Dividir uma string por um elemento específico\n",
    "s.split('y')"
   ]
  },
  {
   "cell_type": "markdown",
   "id": "0eaed546",
   "metadata": {},
   "source": [
    "### Funções String"
   ]
  },
  {
   "cell_type": "code",
   "execution_count": null,
   "id": "fcd2f64d",
   "metadata": {},
   "outputs": [],
   "source": [
    "s = 'seja bem vindo ao universo de python'"
   ]
  },
  {
   "cell_type": "code",
   "execution_count": null,
   "id": "bbc70755",
   "metadata": {},
   "outputs": [],
   "source": [
    "# Transforma o primeiro caracter em maiusculo.\n",
    "s.capitalize()"
   ]
  },
  {
   "cell_type": "code",
   "execution_count": null,
   "id": "7362b7ff",
   "metadata": {},
   "outputs": [],
   "source": [
    "# Conta quantas vezes o caracter que se encontra entre ('') apareceu\n",
    "s.count('a')"
   ]
  },
  {
   "cell_type": "code",
   "execution_count": null,
   "id": "46abc215",
   "metadata": {},
   "outputs": [],
   "source": [
    "# Mostra onde(Em qual posição) o caracter descrito entre ('') apareceu\n",
    "s.find('p')"
   ]
  },
  {
   "cell_type": "code",
   "execution_count": null,
   "id": "b971e513",
   "metadata": {},
   "outputs": [],
   "source": [
    "s.center(20, 'z')"
   ]
  },
  {
   "cell_type": "code",
   "execution_count": null,
   "id": "b5b42c91",
   "metadata": {},
   "outputs": [],
   "source": [
    "s.isalnum()"
   ]
  },
  {
   "cell_type": "code",
   "execution_count": null,
   "id": "9c6c2862",
   "metadata": {},
   "outputs": [],
   "source": [
    "s.isalpha()"
   ]
  },
  {
   "cell_type": "code",
   "execution_count": null,
   "id": "5fc52af6",
   "metadata": {},
   "outputs": [],
   "source": [
    "# Verifica-se se a string tem caracter minusculo\n",
    "s.islower()"
   ]
  },
  {
   "cell_type": "code",
   "execution_count": null,
   "id": "83005594",
   "metadata": {},
   "outputs": [],
   "source": [
    "# Verifica se existe apenas espaço na string\n",
    "s.isspace()"
   ]
  },
  {
   "cell_type": "code",
   "execution_count": null,
   "id": "93d6e6c8",
   "metadata": {},
   "outputs": [],
   "source": [
    "# Verifica se a string termina com a letra decrita entre ('')\n",
    "s.endswith('o')"
   ]
  },
  {
   "cell_type": "code",
   "execution_count": null,
   "id": "ab140f7f",
   "metadata": {},
   "outputs": [],
   "source": [
    "s.partition('!')"
   ]
  },
  {
   "cell_type": "markdown",
   "id": "9bf65298",
   "metadata": {},
   "source": [
    "### Comparando Strings"
   ]
  },
  {
   "cell_type": "code",
   "execution_count": null,
   "id": "236b57f8",
   "metadata": {},
   "outputs": [],
   "source": [
    "# A string Python é igual a string R?\n",
    "print(\"Python\" == \"R\")"
   ]
  },
  {
   "cell_type": "code",
   "execution_count": null,
   "id": "d61d6073",
   "metadata": {},
   "outputs": [],
   "source": [
    "# A string Python é igual a string Python?\n",
    "print(\"Python\" == \"Python\")"
   ]
  },
  {
   "cell_type": "markdown",
   "id": "8d048e42",
   "metadata": {},
   "source": [
    "## <font color ='SeaGreen'> 2.4 Estruturas de dados - Listas </font>"
   ]
  },
  {
   "cell_type": "markdown",
   "id": "741fecb1",
   "metadata": {},
   "source": [
    "### Tomando nota..."
   ]
  },
  {
   "cell_type": "markdown",
   "id": "94c6d8b8",
   "metadata": {},
   "source": [
    "Quando discutimos Strings introduzimos o conceito de uma sequencia em Python. As listas podem ser consideradas a versão geral de uma sequencia em Python. Ao contrario de Strings <font color ='orange'> as listas são mutaveis </font>, ou seja, os elementos dentro de uma lista podem ser alterados."
   ]
  },
  {
   "cell_type": "markdown",
   "id": "f6f6aa95",
   "metadata": {},
   "source": [
    "As listas são construidas com o uso de colchetes [ ] e vírgulas separando cada elemento da lista.              "
   ]
  },
  {
   "cell_type": "markdown",
   "id": "df6aa1f4",
   "metadata": {},
   "source": [
    "                                            Lista = [item1, item2, ..., itemz]"
   ]
  },
  {
   "cell_type": "markdown",
   "id": "d9309a48",
   "metadata": {},
   "source": [
    "Se você estiver familiarizado com outra linguagem de programação, você pode traçar parametros entre matrizes em outras linguagens e listas em Python. Listas em Python, no entanto, tendem a ser mais flexiveis do que as matrizes em outras linguagens por dois bons motivos:"
   ]
  },
  {
   "cell_type": "markdown",
   "id": "a20ddf93",
   "metadata": {},
   "source": [
    "1. As listas não tem tamanho fixo( o que significa que não precisamos especificar quão grande uma lista será)\n",
    "2. Listas não tem restrições de tipo fixo."
   ]
  },
  {
   "cell_type": "markdown",
   "id": "da3492ba",
   "metadata": {},
   "source": [
    "Uma grande caracteristica de estruturas de Phyton é que elas suportam alinhamento. Isto singnifica que podemos usar estruturas de dados dentro de estruturas de dados, ou seja, podemos criar uma lista dentro de outra lista, isto se chama lista alinhada."
   ]
  },
  {
   "cell_type": "code",
   "execution_count": null,
   "id": "640d0d2a",
   "metadata": {},
   "outputs": [],
   "source": [
    "# Criando uma lista (lista com um unico elemento, uma única string)\n",
    "listadomercado = [\"ovos, farinha, leite, maças\"]"
   ]
  },
  {
   "cell_type": "code",
   "execution_count": null,
   "id": "d7047dd7",
   "metadata": {},
   "outputs": [],
   "source": [
    "# Imprimindo a lista\n",
    "print(listadomercado)"
   ]
  },
  {
   "cell_type": "code",
   "execution_count": null,
   "id": "f52cc56d",
   "metadata": {},
   "outputs": [],
   "source": [
    "# Criando outra lista (lista com 4 elementos)\n",
    "listadomercado2 = [\"ovos\", \"farinha\", \"leite\", \"maças\"]"
   ]
  },
  {
   "cell_type": "code",
   "execution_count": null,
   "id": "d9b91143",
   "metadata": {},
   "outputs": [],
   "source": [
    "# Imprimindo a lista\n",
    "print(listadomercado2)"
   ]
  },
  {
   "cell_type": "markdown",
   "id": "e3a86012",
   "metadata": {},
   "source": [
    "Diferença entre as duas listas:\n"
   ]
  },
  {
   "cell_type": "code",
   "execution_count": null,
   "id": "0ad5abef",
   "metadata": {},
   "outputs": [],
   "source": [
    "listadomercado[0]"
   ]
  },
  {
   "cell_type": "code",
   "execution_count": null,
   "id": "d9b7ae32",
   "metadata": {},
   "outputs": [],
   "source": [
    "listadomercado2[0]"
   ]
  },
  {
   "cell_type": "code",
   "execution_count": null,
   "id": "844d9020",
   "metadata": {},
   "outputs": [],
   "source": [
    "print(\"\\n\")"
   ]
  },
  {
   "cell_type": "code",
   "execution_count": null,
   "id": "294e7ae2",
   "metadata": {},
   "outputs": [],
   "source": [
    "# Criando lista (uma lista não tem restrições de tipo fixo)\n",
    "lista3 = [12, 100, \"Universidade\"]"
   ]
  },
  {
   "cell_type": "code",
   "execution_count": null,
   "id": "23deadc8",
   "metadata": {},
   "outputs": [],
   "source": [
    "# Imprimindo\n",
    "print(lista3)"
   ]
  },
  {
   "cell_type": "code",
   "execution_count": null,
   "id": "b4a43191",
   "metadata": {},
   "outputs": [],
   "source": [
    "# Atribuindo cada valor da lista a uma variável. Utilizando indexação.\n",
    "item1 = lista3[0]\n",
    "item2 = lista3[1]\n",
    "item3 = lista3[2]"
   ]
  },
  {
   "cell_type": "code",
   "execution_count": null,
   "id": "6fe1993b",
   "metadata": {},
   "outputs": [],
   "source": [
    "# Imprimindo as variáveis de uma só vez.\n",
    "print(item1, item2, item3)"
   ]
  },
  {
   "cell_type": "markdown",
   "id": "eed941fc",
   "metadata": {},
   "source": [
    "### Atualizando um item da lista"
   ]
  },
  {
   "cell_type": "code",
   "execution_count": null,
   "id": "5ac984a2",
   "metadata": {},
   "outputs": [],
   "source": [
    "# Imprimindo um item da lista\n",
    "listadomercado2[2]"
   ]
  },
  {
   "cell_type": "code",
   "execution_count": null,
   "id": "50183987",
   "metadata": {},
   "outputs": [],
   "source": [
    "# Atualizando um item da lista (provando a mutabilidade)\n",
    "listadomercado2[2] = \"chocolate\""
   ]
  },
  {
   "cell_type": "code",
   "execution_count": null,
   "id": "21c858f5",
   "metadata": {},
   "outputs": [],
   "source": [
    "# Imprimindo lista alterada\n",
    "listadomercado2"
   ]
  },
  {
   "cell_type": "markdown",
   "id": "28875864",
   "metadata": {},
   "source": [
    "### Deletando um item da lista"
   ]
  },
  {
   "cell_type": "code",
   "execution_count": null,
   "id": "d821f6bb",
   "metadata": {},
   "outputs": [],
   "source": [
    "# Out of index. Não é possível deletar um item que não existe na lista (o indice começa de 0)\n",
    "del listadomercado2[4]"
   ]
  },
  {
   "cell_type": "code",
   "execution_count": null,
   "id": "900227aa",
   "metadata": {},
   "outputs": [],
   "source": [
    "# Deletando um item específico da lista\n",
    "del listadomercado2[3]"
   ]
  },
  {
   "cell_type": "code",
   "execution_count": null,
   "id": "bdb86d09",
   "metadata": {},
   "outputs": [],
   "source": [
    "# Imprimindo o item com a lista alterada\n",
    "listadomercado2"
   ]
  },
  {
   "cell_type": "markdown",
   "id": "c18f892b",
   "metadata": {},
   "source": [
    "### Listas de listas (Listas aninhadas)\n",
    "Listas de listas são matrizes em Python"
   ]
  },
  {
   "cell_type": "code",
   "execution_count": null,
   "id": "215c97bc",
   "metadata": {},
   "outputs": [],
   "source": [
    "# Criando uma lista de listas(forma de representar uma matriz), onde cada elemento da lista é uma lista. \n",
    "listas = [[1,2,3], [10,15,14], [10.1,8.7,2.3]]"
   ]
  },
  {
   "cell_type": "code",
   "execution_count": null,
   "id": "f407bebe",
   "metadata": {},
   "outputs": [],
   "source": [
    "# Imprimindo a lista\n",
    "listas"
   ]
  },
  {
   "cell_type": "code",
   "execution_count": null,
   "id": "c785e3d1",
   "metadata": {},
   "outputs": [],
   "source": [
    "# Atribuindo um item da lista a uma variável (como é uma lista aninhada, um item da lista é uma outra lista)\n",
    "a = listas[0]"
   ]
  },
  {
   "cell_type": "code",
   "execution_count": null,
   "id": "0d75e5cb",
   "metadata": {},
   "outputs": [],
   "source": [
    "a"
   ]
  },
  {
   "cell_type": "code",
   "execution_count": null,
   "id": "81e7068c",
   "metadata": {},
   "outputs": [],
   "source": [
    "# Atribuindo um elemento da variável a para a variavel b\n",
    "b = a[0]"
   ]
  },
  {
   "cell_type": "code",
   "execution_count": null,
   "id": "5b6db5c2",
   "metadata": {},
   "outputs": [],
   "source": [
    "b"
   ]
  },
  {
   "cell_type": "code",
   "execution_count": null,
   "id": "1a8def56",
   "metadata": {},
   "outputs": [],
   "source": [
    "# Atribuindo o item 1(a lista 2) da lista a variavel list1.\n",
    "list1 = listas[1]"
   ]
  },
  {
   "cell_type": "code",
   "execution_count": null,
   "id": "69cd181a",
   "metadata": {},
   "outputs": [],
   "source": [
    "list1"
   ]
  },
  {
   "cell_type": "code",
   "execution_count": null,
   "id": "a29968ef",
   "metadata": {},
   "outputs": [],
   "source": [
    "# Atribuindo o elemento 1 da variável list1 a variavel valor_1_0.\n",
    "valor_1_0 = list1[0]"
   ]
  },
  {
   "cell_type": "code",
   "execution_count": null,
   "id": "91cc14c4",
   "metadata": {},
   "outputs": [],
   "source": [
    "valor_1_0"
   ]
  },
  {
   "cell_type": "code",
   "execution_count": null,
   "id": "7d852387",
   "metadata": {},
   "outputs": [],
   "source": [
    "# Atribuindo o elemento 3 da variável list1 a variavel valor_1_2.\n",
    "valor_1_2 = list1[2]"
   ]
  },
  {
   "cell_type": "code",
   "execution_count": null,
   "id": "2a77b021",
   "metadata": {},
   "outputs": [],
   "source": [
    "valor_1_2"
   ]
  },
  {
   "cell_type": "code",
   "execution_count": null,
   "id": "0da574b0",
   "metadata": {},
   "outputs": [],
   "source": [
    "# Atribuindo o item 3(a lista 3) da lista a variavel list2.\n",
    "list2 = listas[2]"
   ]
  },
  {
   "cell_type": "code",
   "execution_count": null,
   "id": "20d9646a",
   "metadata": {},
   "outputs": [],
   "source": [
    "list2"
   ]
  },
  {
   "cell_type": "code",
   "execution_count": null,
   "id": "e008448a",
   "metadata": {},
   "outputs": [],
   "source": [
    "# Atribuindo o elemento 1 da variável list2 a variavel valor_2_0.]\n",
    "valor_2_0 = list2[0]"
   ]
  },
  {
   "cell_type": "code",
   "execution_count": null,
   "id": "c72290d0",
   "metadata": {},
   "outputs": [],
   "source": [
    "valor_2_0"
   ]
  },
  {
   "cell_type": "markdown",
   "id": "4ca53869",
   "metadata": {},
   "source": [
    "### Operações com listas"
   ]
  },
  {
   "cell_type": "code",
   "execution_count": null,
   "id": "66bfcd0c",
   "metadata": {},
   "outputs": [],
   "source": [
    "# Criando uma lista aninhada (lista de listas, ou seja, uma matriz)\n",
    "listas = [[1,2,3], [10,15,14], [10.1,8.7,2.3]]"
   ]
  },
  {
   "cell_type": "code",
   "execution_count": null,
   "id": "9803329d",
   "metadata": {},
   "outputs": [],
   "source": [
    "listas"
   ]
  },
  {
   "cell_type": "code",
   "execution_count": null,
   "id": "a9475492",
   "metadata": {},
   "outputs": [],
   "source": [
    "# Atribuindo à variável a, o primeiro valor da primeira lista\n",
    "# Simbolo de fatiamento dois colchetes com indices.\n",
    "a = listas[0][0]"
   ]
  },
  {
   "cell_type": "code",
   "execution_count": null,
   "id": "826ecd4d",
   "metadata": {},
   "outputs": [],
   "source": [
    "a"
   ]
  },
  {
   "cell_type": "code",
   "execution_count": null,
   "id": "5ee2a69f",
   "metadata": {},
   "outputs": [],
   "source": [
    "# Atribuindo à variável b, o terceiro valor da segunda lista\n",
    "b = listas[1][2]"
   ]
  },
  {
   "cell_type": "code",
   "execution_count": null,
   "id": "521b8370",
   "metadata": {},
   "outputs": [],
   "source": [
    "b"
   ]
  },
  {
   "cell_type": "code",
   "execution_count": null,
   "id": "6e773846",
   "metadata": {},
   "outputs": [],
   "source": [
    "#Pode-se somar um valor ao elemento adiquirido da lista e atribuir o resultado a uma variável.\n",
    "c = listas[0][2] + 10"
   ]
  },
  {
   "cell_type": "code",
   "execution_count": null,
   "id": "f1fe3e52",
   "metadata": {},
   "outputs": [],
   "source": [
    "c"
   ]
  },
  {
   "cell_type": "code",
   "execution_count": null,
   "id": "bd20f791",
   "metadata": {},
   "outputs": [],
   "source": [
    "d = 10; d"
   ]
  },
  {
   "cell_type": "code",
   "execution_count": null,
   "id": "7b629fb7",
   "metadata": {},
   "outputs": [],
   "source": [
    "#Também é possivel multiplicar o elemento adiquirido da lista a uma variável e atribuir o resultado a outra variável.\n",
    "e = d * listas[2][0]"
   ]
  },
  {
   "cell_type": "code",
   "execution_count": null,
   "id": "ed86c7fd",
   "metadata": {},
   "outputs": [],
   "source": [
    "e"
   ]
  },
  {
   "cell_type": "markdown",
   "id": "2e3615bb",
   "metadata": {},
   "source": [
    "### Concatenando listas"
   ]
  },
  {
   "cell_type": "code",
   "execution_count": null,
   "id": "5ca97b3c",
   "metadata": {},
   "outputs": [],
   "source": [
    "lista_s1 = [34, 32, 56]"
   ]
  },
  {
   "cell_type": "code",
   "execution_count": null,
   "id": "eb09f7d1",
   "metadata": {},
   "outputs": [],
   "source": [
    "lista_s1"
   ]
  },
  {
   "cell_type": "code",
   "execution_count": null,
   "id": "c6f9bea9",
   "metadata": {},
   "outputs": [],
   "source": [
    "lista_s2 = [21, 90, 51]"
   ]
  },
  {
   "cell_type": "code",
   "execution_count": null,
   "id": "692e93ef",
   "metadata": {},
   "outputs": [],
   "source": [
    "lista_s2"
   ]
  },
  {
   "cell_type": "code",
   "execution_count": null,
   "id": "f4a4ab5f",
   "metadata": {},
   "outputs": [],
   "source": [
    "# Concatenando listas\n",
    "lista_total = lista_s1 + lista_s2"
   ]
  },
  {
   "cell_type": "code",
   "execution_count": null,
   "id": "f50ffc0a",
   "metadata": {},
   "outputs": [],
   "source": [
    "lista_total"
   ]
  },
  {
   "cell_type": "markdown",
   "id": "7d4ce8bb",
   "metadata": {},
   "source": [
    "## Operador in"
   ]
  },
  {
   "cell_type": "code",
   "execution_count": null,
   "id": "d83872c5",
   "metadata": {},
   "outputs": [],
   "source": [
    "# Criando uma lista\n",
    "lista_teste_op = [100, 2, -5, 3.4]"
   ]
  },
  {
   "cell_type": "code",
   "execution_count": null,
   "id": "a6975e70",
   "metadata": {},
   "outputs": [],
   "source": [
    "# Verificando se o valor 10 pertence a lista\n",
    "print(10 in lista_teste_op)"
   ]
  },
  {
   "cell_type": "code",
   "execution_count": null,
   "id": "926be94e",
   "metadata": {},
   "outputs": [],
   "source": [
    "# O print é só para imprimir\n",
    "10 in lista_teste_op"
   ]
  },
  {
   "cell_type": "code",
   "execution_count": null,
   "id": "e869526e",
   "metadata": {},
   "outputs": [],
   "source": [
    "# Verificando se o valor 100 pertence a lista\n",
    "print(100 in lista_teste_op)"
   ]
  },
  {
   "cell_type": "markdown",
   "id": "4f95a432",
   "metadata": {},
   "source": [
    "## Funções Built-in"
   ]
  },
  {
   "cell_type": "code",
   "execution_count": null,
   "id": "d4d75a43",
   "metadata": {},
   "outputs": [],
   "source": [
    "# Função len() retorna o comprimento da lista\n",
    "len(lista_teste_op)"
   ]
  },
  {
   "cell_type": "code",
   "execution_count": null,
   "id": "1c36bd8b",
   "metadata": {},
   "outputs": [],
   "source": [
    "# Função max() retorna o valor máximo da lista\n",
    "max(lista_teste_op)"
   ]
  },
  {
   "cell_type": "code",
   "execution_count": null,
   "id": "d3c1de58",
   "metadata": {},
   "outputs": [],
   "source": [
    "# Função min() retorna o valor mínimo da lista\n",
    "min(lista_teste_op)"
   ]
  },
  {
   "cell_type": "code",
   "execution_count": null,
   "id": "236ec06c",
   "metadata": {},
   "outputs": [],
   "source": [
    "# Criando uma lista\n",
    "listadomercado2 = [\"ovos\", \"farinha\", \"leite\", \"maças\"]"
   ]
  },
  {
   "cell_type": "code",
   "execution_count": null,
   "id": "e8493ec0",
   "metadata": {},
   "outputs": [],
   "source": [
    "# Adicionando um item no final da lista\n",
    "listadomercado2.append(\"carne\")"
   ]
  },
  {
   "cell_type": "code",
   "execution_count": null,
   "id": "a0c12013",
   "metadata": {},
   "outputs": [],
   "source": [
    "listadomercado2"
   ]
  },
  {
   "cell_type": "code",
   "execution_count": null,
   "id": "99e95617",
   "metadata": {},
   "outputs": [],
   "source": [
    "listadomercado2.append(\"carne\")"
   ]
  },
  {
   "cell_type": "code",
   "execution_count": null,
   "id": "ec7ab2a5",
   "metadata": {},
   "outputs": [],
   "source": [
    "listadomercado2"
   ]
  },
  {
   "cell_type": "code",
   "execution_count": null,
   "id": "c0d70dd2",
   "metadata": {},
   "outputs": [],
   "source": [
    "listadomercado2.count(\"carne\")"
   ]
  },
  {
   "cell_type": "code",
   "execution_count": null,
   "id": "246eb376",
   "metadata": {},
   "outputs": [],
   "source": [
    "# Criando uma lista vazia\n",
    "a = []"
   ]
  },
  {
   "cell_type": "code",
   "execution_count": null,
   "id": "6416e755",
   "metadata": {},
   "outputs": [],
   "source": [
    "print(a)"
   ]
  },
  {
   "cell_type": "code",
   "execution_count": null,
   "id": "3b30d883",
   "metadata": {},
   "outputs": [],
   "source": [
    "# Tipo da lista vazia\n",
    "type(a)"
   ]
  },
  {
   "cell_type": "code",
   "execution_count": null,
   "id": "9f54233c",
   "metadata": {},
   "outputs": [],
   "source": [
    "#Adicionando valores a lista vazia\n",
    "a.append(10)"
   ]
  },
  {
   "cell_type": "code",
   "execution_count": null,
   "id": "bf5bccb8",
   "metadata": {},
   "outputs": [],
   "source": [
    "a"
   ]
  },
  {
   "cell_type": "code",
   "execution_count": null,
   "id": "ba8eceaf",
   "metadata": {},
   "outputs": [],
   "source": [
    "a.append(50); a"
   ]
  },
  {
   "cell_type": "code",
   "execution_count": null,
   "id": "72ce89fa",
   "metadata": {},
   "outputs": [],
   "source": [
    "old_list = [1,2,5,10]"
   ]
  },
  {
   "cell_type": "code",
   "execution_count": null,
   "id": "aaee0d06",
   "metadata": {},
   "outputs": [],
   "source": [
    "new_list = []"
   ]
  },
  {
   "cell_type": "code",
   "execution_count": null,
   "id": "e08739c6",
   "metadata": {},
   "outputs": [],
   "source": [
    "# Copiando os itens de uma lista para outra\n",
    "# Para cada item da lista old_list faça um append para a lista new_list. (Preencher a lista nova a partir da vazia)\n",
    "for item in old_list:\n",
    "    new_list.append(item)"
   ]
  },
  {
   "cell_type": "code",
   "execution_count": null,
   "id": "397307d3",
   "metadata": {},
   "outputs": [],
   "source": [
    "new_list"
   ]
  },
  {
   "cell_type": "code",
   "execution_count": null,
   "id": "32298eb1",
   "metadata": {},
   "outputs": [],
   "source": [
    "c = [20,30]"
   ]
  },
  {
   "cell_type": "code",
   "execution_count": null,
   "id": "ee80e465",
   "metadata": {},
   "outputs": [],
   "source": [
    "c.append(60)"
   ]
  },
  {
   "cell_type": "code",
   "execution_count": null,
   "id": "2fa2069d",
   "metadata": {},
   "outputs": [],
   "source": [
    "c.append(70)"
   ]
  },
  {
   "cell_type": "code",
   "execution_count": null,
   "id": "32cc9c3e",
   "metadata": {},
   "outputs": [],
   "source": [
    "c"
   ]
  },
  {
   "cell_type": "code",
   "execution_count": null,
   "id": "ebb83394",
   "metadata": {},
   "outputs": [],
   "source": [
    "c.count(20)"
   ]
  },
  {
   "cell_type": "code",
   "execution_count": null,
   "id": "3c64ccff",
   "metadata": {},
   "outputs": [],
   "source": [
    "#list.extend(iterable)-> Adiciona no fim todos os elementos do argumento iterable passado como parâmetro.\n",
    "cidades = ['Recife', 'Manaus', 'Salvador']\n",
    "cidades.extend(['Fortaleza', 'Palmas'])\n",
    "print (cidades)"
   ]
  },
  {
   "cell_type": "code",
   "execution_count": null,
   "id": "5e05d685",
   "metadata": {},
   "outputs": [],
   "source": [
    "# Informa o indice do item\n",
    "# Lembrando que em Python o indice começa em 0\n",
    "cidades.index('Salvador')"
   ]
  },
  {
   "cell_type": "code",
   "execution_count": null,
   "id": "8b919c31",
   "metadata": {},
   "outputs": [],
   "source": [
    "# Este elemento não consta na lista\n",
    "cidades.index('Rio de Janeiro')"
   ]
  },
  {
   "cell_type": "code",
   "execution_count": null,
   "id": "40c2a576",
   "metadata": {},
   "outputs": [],
   "source": [
    "cidades"
   ]
  },
  {
   "cell_type": "code",
   "execution_count": null,
   "id": "42f6e3f9",
   "metadata": {},
   "outputs": [],
   "source": [
    "# Inseri um elemento na lista em uma posição especifica. \n",
    "# Possui dois parâmetos o primeiro indica a posição e o segundo o elemento.\n",
    "cidades.insert(2, 110)"
   ]
  },
  {
   "cell_type": "code",
   "execution_count": null,
   "id": "a4eba22a",
   "metadata": {},
   "outputs": [],
   "source": [
    "cidades"
   ]
  },
  {
   "cell_type": "code",
   "execution_count": null,
   "id": "4a44cb15",
   "metadata": {},
   "outputs": [],
   "source": [
    "# Remove um item da lista\n",
    "cidades.remove(110)"
   ]
  },
  {
   "cell_type": "code",
   "execution_count": null,
   "id": "d7b67871",
   "metadata": {},
   "outputs": [],
   "source": [
    "cidades"
   ]
  },
  {
   "cell_type": "code",
   "execution_count": null,
   "id": "c4049726",
   "metadata": {},
   "outputs": [],
   "source": [
    "#Remove um item em uma dada posição na lista.\n",
    "cidades.pop(2)"
   ]
  },
  {
   "cell_type": "code",
   "execution_count": null,
   "id": "59ca34c9",
   "metadata": {},
   "outputs": [],
   "source": [
    "cidades"
   ]
  },
  {
   "cell_type": "code",
   "execution_count": null,
   "id": "0039bdf4",
   "metadata": {},
   "outputs": [],
   "source": [
    "#Remove todos os itens de uma lista\n",
    "cidades.clear()"
   ]
  },
  {
   "cell_type": "code",
   "execution_count": null,
   "id": "4b094c33",
   "metadata": {},
   "outputs": [],
   "source": [
    "cidades"
   ]
  },
  {
   "cell_type": "code",
   "execution_count": null,
   "id": "594ca2d3",
   "metadata": {},
   "outputs": [],
   "source": [
    "sabor=[\"morango\", \"baunilha\", \"chocolate\"]"
   ]
  },
  {
   "cell_type": "code",
   "execution_count": null,
   "id": "515ff6b8",
   "metadata": {},
   "outputs": [],
   "source": [
    "# Reverte a lista (de tras para frente)\n",
    "sabor.reverse()"
   ]
  },
  {
   "cell_type": "code",
   "execution_count": null,
   "id": "e8609fb4",
   "metadata": {},
   "outputs": [],
   "source": [
    "# Imprime a lista\n",
    "sabor"
   ]
  },
  {
   "cell_type": "code",
   "execution_count": null,
   "id": "d1f388b7",
   "metadata": {},
   "outputs": [],
   "source": [
    "x = [3, 2, 4, 1]"
   ]
  },
  {
   "cell_type": "code",
   "execution_count": null,
   "id": "76eee9ff",
   "metadata": {},
   "outputs": [],
   "source": [
    "x"
   ]
  },
  {
   "cell_type": "code",
   "execution_count": null,
   "id": "5857e627",
   "metadata": {},
   "outputs": [],
   "source": [
    "# Ordena a lista (ela pode estar toda embaralhada, mas fica em ordem)\n",
    "x.sort()"
   ]
  },
  {
   "cell_type": "code",
   "execution_count": null,
   "id": "cdbc2f4e",
   "metadata": {},
   "outputs": [],
   "source": [
    "x"
   ]
  },
  {
   "cell_type": "markdown",
   "id": "aa7733d1",
   "metadata": {},
   "source": [
    "## <font color ='SeaGreen'> 2.4 Estruturas de dados - Dicionários </font>"
   ]
  },
  {
   "cell_type": "markdown",
   "id": "db8b0b12",
   "metadata": {},
   "source": [
    "Até aqui falamos bastante sobre sequencias em Python, mas agora vamos mudar um pouco o foco e aprender sobre mapeamentos em Python. Se você estiver familiarizado com outras linguagens de programação, pode imaginar os dicionarios como tabelas de hash (hash tables)."
   ]
  },
  {
   "cell_type": "markdown",
   "id": "c035b10f",
   "metadata": {},
   "source": [
    "Os dicionarios são construidos com o uso de chaves {} e virgulas separando cada elemento do dicionario. "
   ]
  },
  {
   "cell_type": "markdown",
   "id": "f44549d7",
   "metadata": {},
   "source": [
    "                                                dict = {k1:v1,K2:v2,...,Kn:vn}"
   ]
  },
  {
   "cell_type": "markdown",
   "id": "33e65b04",
   "metadata": {},
   "source": [
    "Obs.: O que define o tipo de estrutura em Python é:\n",
    "1. Listas-> []\n",
    "2. Dicionários-> {}\n",
    "3. Tuplas-> ()"
   ]
  },
  {
   "cell_type": "markdown",
   "id": "ca166b8f",
   "metadata": {},
   "source": [
    "Então, o que são mapeamentos?\n",
    "Mapeamentos são uma coleção de objetos que são armazenados por uma chave, ao contrario de uma sequencia de objetos armazenados em uma posição relativa."
   ]
  },
  {
   "cell_type": "markdown",
   "id": "7f6f455e",
   "metadata": {},
   "source": [
    "Um dicionário em python consiste de uma chave e em seguida, um valor associado, ou seja, dicionários são mapeamentos de chaves e valores. Esse valor pode ser quase qualquer objeto python."
   ]
  },
  {
   "cell_type": "markdown",
   "id": "c5eb4ed3",
   "metadata": {},
   "source": [
    "                                        {chave1:valor1,chave2:valor2,...,chaven:valorn}"
   ]
  },
  {
   "cell_type": "markdown",
   "id": "10cdc4f2",
   "metadata": {},
   "source": [
    "Obs.: Se parece com banco de dados não relacionais."
   ]
  },
  {
   "cell_type": "markdown",
   "id": "6588dd05",
   "metadata": {},
   "source": [
    "Tanto a chave como o valor quem define é o programador. Ele vai escolher o que ele quer como chave e como valor de acordo com o seu proposito. Ex: Chaves(strings)Valor(numerico e inteiro). No dicionário não existe restrição de tipo."
   ]
  },
  {
   "cell_type": "markdown",
   "id": "b8f268fa",
   "metadata": {},
   "source": [
    "## Dicionários"
   ]
  },
  {
   "cell_type": "code",
   "execution_count": null,
   "id": "73027b65",
   "metadata": {},
   "outputs": [],
   "source": [
    "# Isso é uma lista\n",
    "estudantes_lst = [\"Mateus\", 24, \"Fernanda\", 22, \"Tamires\", 26, \"Cristiano\", 25]   "
   ]
  },
  {
   "cell_type": "code",
   "execution_count": null,
   "id": "91323b57",
   "metadata": {},
   "outputs": [],
   "source": [
    "estudantes_lst"
   ]
  },
  {
   "cell_type": "markdown",
   "id": "adcb8981",
   "metadata": {},
   "source": [
    "Tanto a chave como o valor quem define é o programador. O programador é que escolhe o que ele quer como chave e como valor, neste caso, a chave é uma string e o valor uma idade."
   ]
  },
  {
   "cell_type": "code",
   "execution_count": null,
   "id": "c50bb813",
   "metadata": {},
   "outputs": [],
   "source": [
    "# Isso é um dicionário\n",
    "estudantes_dict = {\"Mateus\":24, \"Fernanda\":22, \"Tamires\":26, \"Cristiano\":25}"
   ]
  },
  {
   "cell_type": "code",
   "execution_count": null,
   "id": "ae1b2802",
   "metadata": {},
   "outputs": [],
   "source": [
    "estudantes_dict "
   ]
  },
  {
   "cell_type": "markdown",
   "id": "a9888354",
   "metadata": {},
   "source": [
    "Pode-se usar as chaves dos dicionarios como indices, imprimindo desta maneira o seu par, ou seja, o valor correspondente a chave. Utiliza-se [] porque está representando um indice, de acordo com a indexação."
   ]
  },
  {
   "cell_type": "code",
   "execution_count": null,
   "id": "d69d0586",
   "metadata": {},
   "outputs": [],
   "source": [
    "# Quer retornar o valor do indice onde a chave é Mateus\n",
    "estudantes_dict[\"Mateus\"]"
   ]
  },
  {
   "cell_type": "markdown",
   "id": "9b166ae4",
   "metadata": {},
   "source": [
    " Quando um indice não consta no dicionario, ao atribuir um valor o Python cria a chave no dicionário, que neste caso foi Pedro. Desta maneira, adiciona-se itens no dicionario(pares de chaves e valores)"
   ]
  },
  {
   "cell_type": "code",
   "execution_count": null,
   "id": "6dd8e518",
   "metadata": {},
   "outputs": [],
   "source": [
    "#Adicionando uma nova chave\n",
    "estudantes_dict[\"Pedro\"] = 23"
   ]
  },
  {
   "cell_type": "code",
   "execution_count": null,
   "id": "c67739ff",
   "metadata": {},
   "outputs": [],
   "source": [
    "estudantes_dict[\"Pedro\"]"
   ]
  },
  {
   "cell_type": "code",
   "execution_count": null,
   "id": "a309fd05",
   "metadata": {},
   "outputs": [],
   "source": [
    "estudantes_dict "
   ]
  },
  {
   "cell_type": "code",
   "execution_count": null,
   "id": "02a3057b",
   "metadata": {},
   "outputs": [],
   "source": [
    "# Pode-se mudar o valor em uma das chaves\n",
    "estudantes_dict[\"Tamires\"]= 62"
   ]
  },
  {
   "cell_type": "code",
   "execution_count": null,
   "id": "020c4c8b",
   "metadata": {},
   "outputs": [],
   "source": [
    "estudantes_dict "
   ]
  },
  {
   "cell_type": "code",
   "execution_count": null,
   "id": "19809ef0",
   "metadata": {},
   "outputs": [],
   "source": [
    "#Pode-se limpar o dicionário utilizando o metodo clear(). Lembrando que para a utilização de um metodo é necessário o ponto.\n",
    "estudantes_dict.clear()"
   ]
  },
  {
   "cell_type": "code",
   "execution_count": null,
   "id": "e0430edb",
   "metadata": {},
   "outputs": [],
   "source": [
    "estudantes_dict"
   ]
  },
  {
   "cell_type": "code",
   "execution_count": null,
   "id": "ae6dc341",
   "metadata": {},
   "outputs": [],
   "source": [
    "# Pode-se deletar o dicionário utilizando o comando del\n",
    "del estudantes_dict"
   ]
  },
  {
   "cell_type": "code",
   "execution_count": null,
   "id": "432924cb",
   "metadata": {},
   "outputs": [],
   "source": [
    "# Se tentar imprimir vai dizer que esse dicionário não existe mais.\n",
    "estudantes_dict"
   ]
  },
  {
   "cell_type": "code",
   "execution_count": null,
   "id": "eac6b888",
   "metadata": {},
   "outputs": [],
   "source": [
    "print('\\n')"
   ]
  },
  {
   "cell_type": "code",
   "execution_count": null,
   "id": "fdb62b28",
   "metadata": {},
   "outputs": [],
   "source": [
    "estudantes = {\"Mateus\":24, \"Fernanda\":22, \"Tamires\":26, \"Cristiano\":25}"
   ]
  },
  {
   "cell_type": "code",
   "execution_count": null,
   "id": "da976813",
   "metadata": {},
   "outputs": [],
   "source": [
    "estudantes"
   ]
  },
  {
   "cell_type": "code",
   "execution_count": null,
   "id": "9ad55482",
   "metadata": {},
   "outputs": [],
   "source": [
    "# Verifica-se o comprimento do dicionário\n",
    "len(estudantes)"
   ]
  },
  {
   "cell_type": "code",
   "execution_count": null,
   "id": "f119f567",
   "metadata": {},
   "outputs": [],
   "source": [
    "# Extrai apenas as chaves do dicionario\n",
    "estudantes.keys()"
   ]
  },
  {
   "cell_type": "code",
   "execution_count": null,
   "id": "9c39aed5",
   "metadata": {},
   "outputs": [],
   "source": [
    "# Extrai apenas os valores do dicionario\n",
    "estudantes.values()"
   ]
  },
  {
   "cell_type": "code",
   "execution_count": null,
   "id": "6408e17b",
   "metadata": {},
   "outputs": [],
   "source": [
    "# Extrai as combinações(pares) do dicionário\n",
    "estudantes.items()"
   ]
  },
  {
   "cell_type": "code",
   "execution_count": null,
   "id": "2f12032e",
   "metadata": {},
   "outputs": [],
   "source": [
    "estudantes2 = {\"Maria\":27, \"Erika\":28, \"Milton\":26}"
   ]
  },
  {
   "cell_type": "code",
   "execution_count": null,
   "id": "f772284c",
   "metadata": {},
   "outputs": [],
   "source": [
    "estudantes2"
   ]
  },
  {
   "cell_type": "code",
   "execution_count": null,
   "id": "3a4051f6",
   "metadata": {},
   "outputs": [],
   "source": [
    "# Quer atualizar o dicionário estudantes com o conteudo de estudantes2\n",
    "# Como uma concatenação, junta-se(une-se) 2 dicionarios\n",
    "estudantes.update(estudantes2)"
   ]
  },
  {
   "cell_type": "code",
   "execution_count": null,
   "id": "be7b0af2",
   "metadata": {},
   "outputs": [],
   "source": [
    "estudantes"
   ]
  },
  {
   "cell_type": "code",
   "execution_count": null,
   "id": "7791f494",
   "metadata": {},
   "outputs": [],
   "source": [
    "print('\\n')"
   ]
  },
  {
   "cell_type": "code",
   "execution_count": null,
   "id": "db070bee",
   "metadata": {},
   "outputs": [],
   "source": [
    "# Pode-se criar um dicionário vazio.\n",
    "dic1 = {}"
   ]
  },
  {
   "cell_type": "code",
   "execution_count": null,
   "id": "3ab3f571",
   "metadata": {},
   "outputs": [],
   "source": [
    "dic1"
   ]
  },
  {
   "cell_type": "code",
   "execution_count": null,
   "id": "40905540",
   "metadata": {},
   "outputs": [],
   "source": [
    "# Adiciona-se elementos no dicionario, quando se atribui um valor a uma chave que não existe.\n",
    "dic1[\"key_one\"] = 2"
   ]
  },
  {
   "cell_type": "code",
   "execution_count": null,
   "id": "e4e7e41b",
   "metadata": {},
   "outputs": [],
   "source": [
    "print(dic1)"
   ]
  },
  {
   "cell_type": "code",
   "execution_count": null,
   "id": "932d7d70",
   "metadata": {},
   "outputs": [],
   "source": [
    "# Adicionou novamente outra chave atribuindo um valor, só que neste caso a chave possui um tipo diferente.\n",
    "dic1[10] = 5"
   ]
  },
  {
   "cell_type": "code",
   "execution_count": null,
   "id": "1746da5b",
   "metadata": {},
   "outputs": [],
   "source": [
    "dic1"
   ]
  },
  {
   "cell_type": "code",
   "execution_count": null,
   "id": "5bdaa946",
   "metadata": {},
   "outputs": [],
   "source": [
    "# Não há restrições de tipo\n",
    "dic1[8.2] = \"Python\""
   ]
  },
  {
   "cell_type": "code",
   "execution_count": null,
   "id": "85a32428",
   "metadata": {},
   "outputs": [],
   "source": [
    "dic1"
   ]
  },
  {
   "cell_type": "code",
   "execution_count": null,
   "id": "bc4e20be",
   "metadata": {},
   "outputs": [],
   "source": [
    "dic1[\"teste\"] = 5"
   ]
  },
  {
   "cell_type": "code",
   "execution_count": null,
   "id": "952dbe69",
   "metadata": {},
   "outputs": [],
   "source": [
    "dic1"
   ]
  },
  {
   "cell_type": "code",
   "execution_count": null,
   "id": "37335c25",
   "metadata": {},
   "outputs": [],
   "source": [
    "print('\\n')"
   ]
  },
  {
   "cell_type": "code",
   "execution_count": null,
   "id": "751ed80f",
   "metadata": {},
   "outputs": [],
   "source": [
    "dict1 = {}"
   ]
  },
  {
   "cell_type": "code",
   "execution_count": null,
   "id": "f6136fe8",
   "metadata": {},
   "outputs": [],
   "source": [
    "dict1"
   ]
  },
  {
   "cell_type": "code",
   "execution_count": null,
   "id": "1b6af13b",
   "metadata": {},
   "outputs": [],
   "source": [
    "dict1[\"teste\"] = 10"
   ]
  },
  {
   "cell_type": "code",
   "execution_count": null,
   "id": "d9a6ff97",
   "metadata": {},
   "outputs": [],
   "source": [
    "dict1[\"key\"] = \"teste\""
   ]
  },
  {
   "cell_type": "code",
   "execution_count": null,
   "id": "7e50cff7",
   "metadata": {},
   "outputs": [],
   "source": [
    "# Atenção, pois chave e valor podem ser iguais, mas representam coisas diferentes.\n",
    "dict1"
   ]
  },
  {
   "cell_type": "code",
   "execution_count": null,
   "id": "481f3d5f",
   "metadata": {},
   "outputs": [],
   "source": [
    "print('\\n')"
   ]
  },
  {
   "cell_type": "code",
   "execution_count": null,
   "id": "e9dc2766",
   "metadata": {},
   "outputs": [],
   "source": [
    "dict2 = {}"
   ]
  },
  {
   "cell_type": "code",
   "execution_count": null,
   "id": "f68f73fd",
   "metadata": {},
   "outputs": [],
   "source": [
    "dict2[\"key1\"] = \"Big Data\""
   ]
  },
  {
   "cell_type": "code",
   "execution_count": null,
   "id": "9a76398d",
   "metadata": {},
   "outputs": [],
   "source": [
    "dict2[\"key2\"] = 10"
   ]
  },
  {
   "cell_type": "code",
   "execution_count": null,
   "id": "52ba835f",
   "metadata": {},
   "outputs": [],
   "source": [
    "dict2[\"key3\"] = 5.6"
   ]
  },
  {
   "cell_type": "code",
   "execution_count": null,
   "id": "be74cd52",
   "metadata": {},
   "outputs": [],
   "source": [
    "dict2"
   ]
  },
  {
   "cell_type": "code",
   "execution_count": null,
   "id": "3cb76b28",
   "metadata": {},
   "outputs": [],
   "source": [
    "#Pode-se extrair os valores de cada uma das chaves e atribuir a uma variável.\n",
    "a = dict2[\"key1\"]"
   ]
  },
  {
   "cell_type": "code",
   "execution_count": null,
   "id": "ba993013",
   "metadata": {},
   "outputs": [],
   "source": [
    "b = dict2[\"key2\"]"
   ]
  },
  {
   "cell_type": "code",
   "execution_count": null,
   "id": "83e9b947",
   "metadata": {},
   "outputs": [],
   "source": [
    "c = dict2[\"key3\"]"
   ]
  },
  {
   "cell_type": "code",
   "execution_count": null,
   "id": "e0e864e6",
   "metadata": {},
   "outputs": [],
   "source": [
    "a, b, c"
   ]
  },
  {
   "cell_type": "code",
   "execution_count": null,
   "id": "3e960328",
   "metadata": {},
   "outputs": [],
   "source": [
    "print('\\n')"
   ]
  },
  {
   "cell_type": "code",
   "execution_count": null,
   "id": "50889083",
   "metadata": {},
   "outputs": [],
   "source": [
    "# Dicionário de listas (os valores das chaves podem ser listas)\n",
    "dict3 = {'key1':1230,'key2':[22,453,73.4],'key3':['leite','maça','batata']}"
   ]
  },
  {
   "cell_type": "code",
   "execution_count": null,
   "id": "f0a2570a",
   "metadata": {},
   "outputs": [],
   "source": [
    "dict3"
   ]
  },
  {
   "cell_type": "code",
   "execution_count": null,
   "id": "5e224e1d",
   "metadata": {},
   "outputs": [],
   "source": [
    "# Imprime o valor da chave 2 que é uma lista\n",
    "dict3['key2']"
   ]
  },
  {
   "cell_type": "code",
   "execution_count": null,
   "id": "a7bb760b",
   "metadata": {},
   "outputs": [],
   "source": [
    "# Acessando um item da lista, dentro do dicionário\n",
    "# Extrai o primeiro item da lista da chave 3, que se encontra no dicionario, depois converte para maiusculo com o metodo upper.\n",
    "dict3['key3'][0].upper()"
   ]
  },
  {
   "cell_type": "code",
   "execution_count": null,
   "id": "a1f74d23",
   "metadata": {},
   "outputs": [],
   "source": [
    "# Operações com itens da lista, dentro do dicionário\n",
    "# Subtraiu o primeiro item da lista que se encontra na segunda chave do dicionario por 2\n",
    "var1 = dict3['key2'][0] - 2"
   ]
  },
  {
   "cell_type": "code",
   "execution_count": null,
   "id": "89359ed7",
   "metadata": {},
   "outputs": [],
   "source": [
    "var1"
   ]
  },
  {
   "cell_type": "code",
   "execution_count": null,
   "id": "6581d4c9",
   "metadata": {},
   "outputs": [],
   "source": [
    "# Duas operações no mesmo comando, para atualizar um item dentro da lista\n",
    "# Utilizando um Operador de atribuição, fazendo 2 operações em uma, faz a subtração e depois atribui o resultado ao item da chave 2\n",
    "# Para isso é necessario colocar o simbolo de slice(fatiamento) que é [], fatia o objeto, faz a operação de depois grava na propria estrutura.\n",
    "dict3['key2'][0] -= 2"
   ]
  },
  {
   "cell_type": "code",
   "execution_count": null,
   "id": "fd9eaf28",
   "metadata": {},
   "outputs": [],
   "source": [
    "dict3"
   ]
  },
  {
   "cell_type": "markdown",
   "id": "7423e414",
   "metadata": {},
   "source": [
    "### Criando dicionários aninhados"
   ]
  },
  {
   "cell_type": "code",
   "execution_count": null,
   "id": "19204f91",
   "metadata": {},
   "outputs": [],
   "source": [
    "# Criando dicionários aninhados(um dicionário dentro de outro dicionário)\n",
    "# Em vez do valor na chave é outro dicionario.\n",
    "dict_aninhado = {'key1':{'key2_aninhada':{'key3_aninhada':'Dict aninhado em Python'}}}"
   ]
  },
  {
   "cell_type": "code",
   "execution_count": null,
   "id": "c37d2c40",
   "metadata": {},
   "outputs": [],
   "source": [
    "dict_aninhado"
   ]
  },
  {
   "cell_type": "code",
   "execution_count": null,
   "id": "adf63aae",
   "metadata": {},
   "outputs": [],
   "source": [
    "dict_aninhado['key1']['key2_aninhada']['key3_aninhada']"
   ]
  },
  {
   "cell_type": "code",
   "execution_count": null,
   "id": "3f934c05",
   "metadata": {},
   "outputs": [],
   "source": [
    "nomedodicionario = {'key1_a0': 2, 'key2_a0': {'key1_a1': 1, 'key2_a1': {'key1_a2': 4,'key2_a2': 5}}}"
   ]
  },
  {
   "cell_type": "code",
   "execution_count": null,
   "id": "41b64333",
   "metadata": {},
   "outputs": [],
   "source": [
    "nomedodicionario['key1_a0']"
   ]
  },
  {
   "cell_type": "code",
   "execution_count": null,
   "id": "bcc1cdfb",
   "metadata": {},
   "outputs": [],
   "source": [
    "nomedodicionario['key2_a0']"
   ]
  },
  {
   "cell_type": "code",
   "execution_count": null,
   "id": "a09c4439",
   "metadata": {},
   "outputs": [],
   "source": [
    "nomedodicionario ['key2_a0'] ['key1_a1']"
   ]
  },
  {
   "cell_type": "code",
   "execution_count": null,
   "id": "73b0eec6",
   "metadata": {},
   "outputs": [],
   "source": [
    "nomedodicionario ['key2_a0'] ['key2_a1']"
   ]
  },
  {
   "cell_type": "code",
   "execution_count": null,
   "id": "1f8db5c2",
   "metadata": {},
   "outputs": [],
   "source": [
    "nomedodicionario ['key2_a0'] ['key2_a1'] ['key1_a2']"
   ]
  },
  {
   "cell_type": "code",
   "execution_count": null,
   "id": "df3f5a45",
   "metadata": {},
   "outputs": [],
   "source": [
    "nomedodicionario ['key2_a0'] ['key2_a1'] ['key2_a2']"
   ]
  },
  {
   "cell_type": "markdown",
   "id": "44d9d99c",
   "metadata": {},
   "source": [
    "## <font color ='SeaGreen'> 2.4 Estruturas de dados - Tuplas </font>"
   ]
  },
  {
   "cell_type": "markdown",
   "id": "b0229205",
   "metadata": {},
   "source": [
    "Em python tuplas são muito semelhantes as listas, no entanto, ao contrario de listas, <font color ='orange'> tuplas são imutáveis </font>, o que significa que não podem ser alteradas, como os dias da semana ou datas em um calendario."
   ]
  },
  {
   "cell_type": "markdown",
   "id": "d70ea35d",
   "metadata": {},
   "source": [
    "As tuplas são construidas com o uso de parenteses () e virgulas separando cada elemento da tupla."
   ]
  },
  {
   "cell_type": "markdown",
   "id": "7a33dece",
   "metadata": {},
   "source": [
    "                                    Tupla = (item1,item2,item3,...,itemz)"
   ]
  },
  {
   "cell_type": "markdown",
   "id": "42b46220",
   "metadata": {},
   "source": [
    "Tuplas não são utilizadas com frequencia, como listas por exemplo, mas são usadas quando é necessário a imutabilidade. Se em seu programa você precisa ter certeza que os dados não sofreram mudança, então tupla pode ser a sua solução. Ela fornece uma fonte conveniente de integriade de dados."
   ]
  },
  {
   "cell_type": "markdown",
   "id": "fb104c1f",
   "metadata": {},
   "source": [
    "Observações.:\n",
    "1. Não existe restrição para tipos de dados; \n",
    "2. Como ela é imutavel, não é possivel adicionar/deletar/atribuir um item na tupla;\n",
    "3. É possivel usar indexação para retornar um unico indice da tupla, assim como usar slicing;\n",
    "4. Dentre os metodos que podem ser usados estão: len(); ____index(); del_____. Com isso,pode-se dizer que é possivel, verificar o comprimento da tupla, verificar o indice de um dos elementos da tupla e deletar a tupla.\n"
   ]
  },
  {
   "cell_type": "markdown",
   "id": "9a331565",
   "metadata": {},
   "source": [
    "Como alterar uma tupla, seria necessário deleta-la e cria-la novamente, só para apagar um único elemento? Não. Pode-se converter uma tupla para uma lista, fazer as alterações necessárias e depois coverter novamente para tupla. Desta maneira contorna-se a limitação da tupla."
   ]
  },
  {
   "cell_type": "markdown",
   "id": "e101c56a",
   "metadata": {},
   "source": [
    "### Tuplas"
   ]
  },
  {
   "cell_type": "code",
   "execution_count": null,
   "id": "b1cdd58a",
   "metadata": {},
   "outputs": [],
   "source": [
    "# Criando uma tupla\n",
    "tupla1 = (\"Geografia\", 23, \"Elefantes\")"
   ]
  },
  {
   "cell_type": "code",
   "execution_count": null,
   "id": "d8386968",
   "metadata": {},
   "outputs": [],
   "source": [
    "# Imprimindo a tupla\n",
    "tupla1"
   ]
  },
  {
   "cell_type": "code",
   "execution_count": null,
   "id": "83183972",
   "metadata": {},
   "outputs": [],
   "source": [
    "# Tuplas não suportam append()\n",
    "tupla1.append(\"Chocolate\") "
   ]
  },
  {
   "cell_type": "code",
   "execution_count": null,
   "id": "71307705",
   "metadata": {},
   "outputs": [],
   "source": [
    "# Tuplas não suportam delete de um item específico\n",
    "del tupla1[\"Gatos\"] "
   ]
  },
  {
   "cell_type": "code",
   "execution_count": null,
   "id": "2e74a2d6",
   "metadata": {},
   "outputs": [],
   "source": [
    "# Tuplas podem ter um único item\n",
    "tupla1 = (\"Chocolate\")"
   ]
  },
  {
   "cell_type": "code",
   "execution_count": null,
   "id": "8f99833d",
   "metadata": {},
   "outputs": [],
   "source": [
    "tupla1"
   ]
  },
  {
   "cell_type": "code",
   "execution_count": null,
   "id": "a401b6d7",
   "metadata": {},
   "outputs": [],
   "source": [
    "tupla1 = (\"Geografia\", 23, \"Elefantes\")"
   ]
  },
  {
   "cell_type": "code",
   "execution_count": null,
   "id": "9f6c4831",
   "metadata": {},
   "outputs": [],
   "source": [
    "#Pode-se usar indexação, para extrair um unico item da tupla.\n",
    "tupla1[0]"
   ]
  },
  {
   "cell_type": "code",
   "execution_count": null,
   "id": "a5fc8a8b",
   "metadata": {},
   "outputs": [],
   "source": [
    "# Verificando o comprimento da tupla\n",
    "len(tupla1)"
   ]
  },
  {
   "cell_type": "code",
   "execution_count": null,
   "id": "ebb7b403",
   "metadata": {},
   "outputs": [],
   "source": [
    "# Slicing, da mesma forma que se faz com listas\n",
    "# Retorna todos os elementos a partir do elemento 1 do indice\n",
    "tupla1[1:]"
   ]
  },
  {
   "cell_type": "code",
   "execution_count": null,
   "id": "3c3ace70",
   "metadata": {},
   "outputs": [],
   "source": [
    "# Verifica qual o indice de um dos elementos da tupla. \n",
    "tupla1.index('Elefantes')"
   ]
  },
  {
   "cell_type": "code",
   "execution_count": null,
   "id": "ce840264",
   "metadata": {},
   "outputs": [],
   "source": [
    "# Tuplas não suportam atribuição de item, pois não é possivel alterar os itens dentro da tupla.\n",
    "tupla1[1] = 21"
   ]
  },
  {
   "cell_type": "code",
   "execution_count": null,
   "id": "7a47a854",
   "metadata": {},
   "outputs": [],
   "source": [
    "# Deletando a tupla\n",
    "del tupla1"
   ]
  },
  {
   "cell_type": "code",
   "execution_count": null,
   "id": "80b7bf1d",
   "metadata": {},
   "outputs": [],
   "source": [
    "tupla1"
   ]
  },
  {
   "cell_type": "code",
   "execution_count": null,
   "id": "401ddf36",
   "metadata": {},
   "outputs": [],
   "source": [
    "# Criando uma tupla\n",
    "t2 = ('A', 'B', 'C')"
   ]
  },
  {
   "cell_type": "code",
   "execution_count": null,
   "id": "949ebd9d",
   "metadata": {},
   "outputs": [],
   "source": [
    "t2"
   ]
  },
  {
   "cell_type": "code",
   "execution_count": null,
   "id": "86d02abd",
   "metadata": {},
   "outputs": [],
   "source": [
    "# Tuplas não suportam atribuição de item\n",
    "t2[0] = 'D'"
   ]
  },
  {
   "cell_type": "code",
   "execution_count": null,
   "id": "b2dd6bac",
   "metadata": {},
   "outputs": [],
   "source": [
    "# Usando a função list() para converter uma tupla para lista, atribuindo o resultado a uma variavel.\n",
    "lista_t2 = list(t2)"
   ]
  },
  {
   "cell_type": "code",
   "execution_count": null,
   "id": "df6f41c7",
   "metadata": {},
   "outputs": [],
   "source": [
    "lista_t2"
   ]
  },
  {
   "cell_type": "code",
   "execution_count": null,
   "id": "572a5077",
   "metadata": {},
   "outputs": [],
   "source": [
    "lista_t2.append('D')"
   ]
  },
  {
   "cell_type": "code",
   "execution_count": null,
   "id": "89037061",
   "metadata": {},
   "outputs": [],
   "source": [
    "# Usando a função tuple() para converter uma lista para tupla\n",
    "t2 = tuple(lista_t2)"
   ]
  },
  {
   "cell_type": "code",
   "execution_count": null,
   "id": "457ff368",
   "metadata": {},
   "outputs": [],
   "source": [
    "t2"
   ]
  }
 ],
 "metadata": {
  "kernelspec": {
   "display_name": "Python 3 (ipykernel)",
   "language": "python",
   "name": "python3"
  },
  "language_info": {
   "codemirror_mode": {
    "name": "ipython",
    "version": 3
   },
   "file_extension": ".py",
   "mimetype": "text/x-python",
   "name": "python",
   "nbconvert_exporter": "python",
   "pygments_lexer": "ipython3",
   "version": "3.9.7"
  }
 },
 "nbformat": 4,
 "nbformat_minor": 5
}
