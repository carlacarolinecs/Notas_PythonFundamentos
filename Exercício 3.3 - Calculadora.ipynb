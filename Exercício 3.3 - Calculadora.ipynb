{
 "cells": [
  {
   "cell_type": "code",
   "execution_count": null,
   "id": "62c8a61e",
   "metadata": {},
   "outputs": [],
   "source": [
    "print(\"*********************************** Python Calculator ******************************************\")\n",
    "\n",
    "print(\"\\n\")\n",
    "print(\"Selecione o número da operação desejada: \")\n",
    "print(\"\\n\")\n",
    "\n",
    "print(\"1 - Soma\")\n",
    "print(\"2 - Subtração\")\n",
    "print(\"3 - Multiplicação\")\n",
    "print(\"4 - Divisão\")"
   ]
  },
  {
   "cell_type": "code",
   "execution_count": null,
   "id": "ce6b3ff8",
   "metadata": {},
   "outputs": [],
   "source": [
    "oper= int(input(\"Digite sua opção (1/2/3/4): \"))\n",
    "num1= int(input(\"Digite o primeiro número: \"))\n",
    "num2= int(input(\"Digite o segundo número: \"))"
   ]
  },
  {
   "cell_type": "code",
   "execution_count": null,
   "id": "8657974c",
   "metadata": {},
   "outputs": [],
   "source": [
    "if oper == 1:\n",
    "    Soma = num1 + num2\n",
    "    print(\"%s + %r =\" %(num1,num2),Soma)\n",
    "elif oper == 2:\n",
    "    Subt = num1 - num2\n",
    "    print(\"%s - %r =\" %(num1,num2),Subt)\n",
    "elif oper ==3:\n",
    "    Mult = num1 * num2\n",
    "    print(\"%s * %r =\" %(num1,num2),Mult)\n",
    "elif oper ==4:\n",
    "    Div = num1 / num2\n",
    "    print(\"%s / %r =\" %(num1,num2),Div)\n",
    "else:\n",
    "    print(\"Opção inválida!\")\n"
   ]
  },
  {
   "cell_type": "code",
   "execution_count": null,
   "id": "1e07f504",
   "metadata": {},
   "outputs": [],
   "source": []
  }
 ],
 "metadata": {
  "kernelspec": {
   "display_name": "Python 3 (ipykernel)",
   "language": "python",
   "name": "python3"
  },
  "language_info": {
   "codemirror_mode": {
    "name": "ipython",
    "version": 3
   },
   "file_extension": ".py",
   "mimetype": "text/x-python",
   "name": "python",
   "nbconvert_exporter": "python",
   "pygments_lexer": "ipython3",
   "version": "3.9.7"
  }
 },
 "nbformat": 4,
 "nbformat_minor": 5
}
